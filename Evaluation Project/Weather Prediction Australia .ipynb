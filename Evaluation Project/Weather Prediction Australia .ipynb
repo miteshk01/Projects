{
 "cells": [
  {
   "cell_type": "code",
   "execution_count": 1,
   "id": "32b9ac67",
   "metadata": {},
   "outputs": [],
   "source": [
    "#importing libraries\n",
    "import pandas as pd \n",
    "import numpy as np\n",
    "import matplotlib.pyplot as plt\n",
    "import seaborn as sns\n",
    "%matplotlib inline\n",
    "\n",
    "import warnings \n",
    "warnings.filterwarnings('ignore')"
   ]
  },
  {
   "cell_type": "markdown",
   "id": "e32435cb",
   "metadata": {},
   "source": [
    "<h2>Loading dataset</h2>\n",
    "    "
   ]
  },
  {
   "cell_type": "code",
   "execution_count": 2,
   "id": "8c51afb6",
   "metadata": {},
   "outputs": [
    {
     "data": {
      "text/html": [
       "<div>\n",
       "<style scoped>\n",
       "    .dataframe tbody tr th:only-of-type {\n",
       "        vertical-align: middle;\n",
       "    }\n",
       "\n",
       "    .dataframe tbody tr th {\n",
       "        vertical-align: top;\n",
       "    }\n",
       "\n",
       "    .dataframe thead th {\n",
       "        text-align: right;\n",
       "    }\n",
       "</style>\n",
       "<table border=\"1\" class=\"dataframe\">\n",
       "  <thead>\n",
       "    <tr style=\"text-align: right;\">\n",
       "      <th></th>\n",
       "      <th>Date</th>\n",
       "      <th>Location</th>\n",
       "      <th>MinTemp</th>\n",
       "      <th>MaxTemp</th>\n",
       "      <th>Rainfall</th>\n",
       "      <th>Evaporation</th>\n",
       "      <th>Sunshine</th>\n",
       "      <th>WindGustDir</th>\n",
       "      <th>WindGustSpeed</th>\n",
       "      <th>WindDir9am</th>\n",
       "      <th>...</th>\n",
       "      <th>Humidity9am</th>\n",
       "      <th>Humidity3pm</th>\n",
       "      <th>Pressure9am</th>\n",
       "      <th>Pressure3pm</th>\n",
       "      <th>Cloud9am</th>\n",
       "      <th>Cloud3pm</th>\n",
       "      <th>Temp9am</th>\n",
       "      <th>Temp3pm</th>\n",
       "      <th>RainToday</th>\n",
       "      <th>RainTomorrow</th>\n",
       "    </tr>\n",
       "  </thead>\n",
       "  <tbody>\n",
       "    <tr>\n",
       "      <th>0</th>\n",
       "      <td>2008-12-01</td>\n",
       "      <td>Albury</td>\n",
       "      <td>13.4</td>\n",
       "      <td>22.9</td>\n",
       "      <td>0.6</td>\n",
       "      <td>NaN</td>\n",
       "      <td>NaN</td>\n",
       "      <td>W</td>\n",
       "      <td>44.0</td>\n",
       "      <td>W</td>\n",
       "      <td>...</td>\n",
       "      <td>71.0</td>\n",
       "      <td>22.0</td>\n",
       "      <td>1007.7</td>\n",
       "      <td>1007.1</td>\n",
       "      <td>8.0</td>\n",
       "      <td>NaN</td>\n",
       "      <td>16.9</td>\n",
       "      <td>21.8</td>\n",
       "      <td>No</td>\n",
       "      <td>No</td>\n",
       "    </tr>\n",
       "    <tr>\n",
       "      <th>1</th>\n",
       "      <td>2008-12-02</td>\n",
       "      <td>Albury</td>\n",
       "      <td>7.4</td>\n",
       "      <td>25.1</td>\n",
       "      <td>0.0</td>\n",
       "      <td>NaN</td>\n",
       "      <td>NaN</td>\n",
       "      <td>WNW</td>\n",
       "      <td>44.0</td>\n",
       "      <td>NNW</td>\n",
       "      <td>...</td>\n",
       "      <td>44.0</td>\n",
       "      <td>25.0</td>\n",
       "      <td>1010.6</td>\n",
       "      <td>1007.8</td>\n",
       "      <td>NaN</td>\n",
       "      <td>NaN</td>\n",
       "      <td>17.2</td>\n",
       "      <td>24.3</td>\n",
       "      <td>No</td>\n",
       "      <td>No</td>\n",
       "    </tr>\n",
       "    <tr>\n",
       "      <th>2</th>\n",
       "      <td>2008-12-03</td>\n",
       "      <td>Albury</td>\n",
       "      <td>12.9</td>\n",
       "      <td>25.7</td>\n",
       "      <td>0.0</td>\n",
       "      <td>NaN</td>\n",
       "      <td>NaN</td>\n",
       "      <td>WSW</td>\n",
       "      <td>46.0</td>\n",
       "      <td>W</td>\n",
       "      <td>...</td>\n",
       "      <td>38.0</td>\n",
       "      <td>30.0</td>\n",
       "      <td>1007.6</td>\n",
       "      <td>1008.7</td>\n",
       "      <td>NaN</td>\n",
       "      <td>2.0</td>\n",
       "      <td>21.0</td>\n",
       "      <td>23.2</td>\n",
       "      <td>No</td>\n",
       "      <td>No</td>\n",
       "    </tr>\n",
       "    <tr>\n",
       "      <th>3</th>\n",
       "      <td>2008-12-04</td>\n",
       "      <td>Albury</td>\n",
       "      <td>9.2</td>\n",
       "      <td>28.0</td>\n",
       "      <td>0.0</td>\n",
       "      <td>NaN</td>\n",
       "      <td>NaN</td>\n",
       "      <td>NE</td>\n",
       "      <td>24.0</td>\n",
       "      <td>SE</td>\n",
       "      <td>...</td>\n",
       "      <td>45.0</td>\n",
       "      <td>16.0</td>\n",
       "      <td>1017.6</td>\n",
       "      <td>1012.8</td>\n",
       "      <td>NaN</td>\n",
       "      <td>NaN</td>\n",
       "      <td>18.1</td>\n",
       "      <td>26.5</td>\n",
       "      <td>No</td>\n",
       "      <td>No</td>\n",
       "    </tr>\n",
       "    <tr>\n",
       "      <th>4</th>\n",
       "      <td>2008-12-05</td>\n",
       "      <td>Albury</td>\n",
       "      <td>17.5</td>\n",
       "      <td>32.3</td>\n",
       "      <td>1.0</td>\n",
       "      <td>NaN</td>\n",
       "      <td>NaN</td>\n",
       "      <td>W</td>\n",
       "      <td>41.0</td>\n",
       "      <td>ENE</td>\n",
       "      <td>...</td>\n",
       "      <td>82.0</td>\n",
       "      <td>33.0</td>\n",
       "      <td>1010.8</td>\n",
       "      <td>1006.0</td>\n",
       "      <td>7.0</td>\n",
       "      <td>8.0</td>\n",
       "      <td>17.8</td>\n",
       "      <td>29.7</td>\n",
       "      <td>No</td>\n",
       "      <td>No</td>\n",
       "    </tr>\n",
       "  </tbody>\n",
       "</table>\n",
       "<p>5 rows × 23 columns</p>\n",
       "</div>"
      ],
      "text/plain": [
       "         Date Location  MinTemp  MaxTemp  Rainfall  Evaporation  Sunshine  \\\n",
       "0  2008-12-01   Albury     13.4     22.9       0.6          NaN       NaN   \n",
       "1  2008-12-02   Albury      7.4     25.1       0.0          NaN       NaN   \n",
       "2  2008-12-03   Albury     12.9     25.7       0.0          NaN       NaN   \n",
       "3  2008-12-04   Albury      9.2     28.0       0.0          NaN       NaN   \n",
       "4  2008-12-05   Albury     17.5     32.3       1.0          NaN       NaN   \n",
       "\n",
       "  WindGustDir  WindGustSpeed WindDir9am  ... Humidity9am  Humidity3pm  \\\n",
       "0           W           44.0          W  ...        71.0         22.0   \n",
       "1         WNW           44.0        NNW  ...        44.0         25.0   \n",
       "2         WSW           46.0          W  ...        38.0         30.0   \n",
       "3          NE           24.0         SE  ...        45.0         16.0   \n",
       "4           W           41.0        ENE  ...        82.0         33.0   \n",
       "\n",
       "   Pressure9am  Pressure3pm  Cloud9am  Cloud3pm  Temp9am  Temp3pm  RainToday  \\\n",
       "0       1007.7       1007.1       8.0       NaN     16.9     21.8         No   \n",
       "1       1010.6       1007.8       NaN       NaN     17.2     24.3         No   \n",
       "2       1007.6       1008.7       NaN       2.0     21.0     23.2         No   \n",
       "3       1017.6       1012.8       NaN       NaN     18.1     26.5         No   \n",
       "4       1010.8       1006.0       7.0       8.0     17.8     29.7         No   \n",
       "\n",
       "   RainTomorrow  \n",
       "0            No  \n",
       "1            No  \n",
       "2            No  \n",
       "3            No  \n",
       "4            No  \n",
       "\n",
       "[5 rows x 23 columns]"
      ]
     },
     "execution_count": 2,
     "metadata": {},
     "output_type": "execute_result"
    }
   ],
   "source": [
    "df=pd.read_csv('weatherAUS.csv')\n",
    "df.head()"
   ]
  },
  {
   "cell_type": "code",
   "execution_count": 3,
   "id": "78e3ba51",
   "metadata": {},
   "outputs": [
    {
     "data": {
      "text/plain": [
       "(8425, 23)"
      ]
     },
     "execution_count": 3,
     "metadata": {},
     "output_type": "execute_result"
    }
   ],
   "source": [
    "df.shape"
   ]
  },
  {
   "cell_type": "code",
   "execution_count": 5,
   "id": "2b12143a",
   "metadata": {},
   "outputs": [
    {
     "name": "stdout",
     "output_type": "stream",
     "text": [
      "<class 'pandas.core.frame.DataFrame'>\n",
      "RangeIndex: 8425 entries, 0 to 8424\n",
      "Data columns (total 23 columns):\n",
      " #   Column         Non-Null Count  Dtype  \n",
      "---  ------         --------------  -----  \n",
      " 0   Date           8425 non-null   object \n",
      " 1   Location       8425 non-null   object \n",
      " 2   MinTemp        8350 non-null   float64\n",
      " 3   MaxTemp        8365 non-null   float64\n",
      " 4   Rainfall       8185 non-null   float64\n",
      " 5   Evaporation    4913 non-null   float64\n",
      " 6   Sunshine       4431 non-null   float64\n",
      " 7   WindGustDir    7434 non-null   object \n",
      " 8   WindGustSpeed  7434 non-null   float64\n",
      " 9   WindDir9am     7596 non-null   object \n",
      " 10  WindDir3pm     8117 non-null   object \n",
      " 11  WindSpeed9am   8349 non-null   float64\n",
      " 12  WindSpeed3pm   8318 non-null   float64\n",
      " 13  Humidity9am    8366 non-null   float64\n",
      " 14  Humidity3pm    8323 non-null   float64\n",
      " 15  Pressure9am    7116 non-null   float64\n",
      " 16  Pressure3pm    7113 non-null   float64\n",
      " 17  Cloud9am       6004 non-null   float64\n",
      " 18  Cloud3pm       5970 non-null   float64\n",
      " 19  Temp9am        8369 non-null   float64\n",
      " 20  Temp3pm        8329 non-null   float64\n",
      " 21  RainToday      8185 non-null   object \n",
      " 22  RainTomorrow   8186 non-null   object \n",
      "dtypes: float64(16), object(7)\n",
      "memory usage: 1.5+ MB\n"
     ]
    }
   ],
   "source": [
    "df.info()"
   ]
  },
  {
   "cell_type": "markdown",
   "id": "4e4b876c",
   "metadata": {},
   "source": [
    "**The Dataset Contains the following details**\n",
    "* Number of columns: 23\n",
    "* Number of rows:8425\n",
    "* Number of Independent Columns: 21\n",
    "* Number of Dependent Column: 2\n",
    "* Dataset has two data types: float64, object"
   ]
  },
  {
   "cell_type": "code",
   "execution_count": 6,
   "id": "4cd2d287",
   "metadata": {},
   "outputs": [
    {
     "data": {
      "text/html": [
       "<div>\n",
       "<style scoped>\n",
       "    .dataframe tbody tr th:only-of-type {\n",
       "        vertical-align: middle;\n",
       "    }\n",
       "\n",
       "    .dataframe tbody tr th {\n",
       "        vertical-align: top;\n",
       "    }\n",
       "\n",
       "    .dataframe thead th {\n",
       "        text-align: right;\n",
       "    }\n",
       "</style>\n",
       "<table border=\"1\" class=\"dataframe\">\n",
       "  <thead>\n",
       "    <tr style=\"text-align: right;\">\n",
       "      <th></th>\n",
       "      <th>MinTemp</th>\n",
       "      <th>MaxTemp</th>\n",
       "      <th>Rainfall</th>\n",
       "      <th>Evaporation</th>\n",
       "      <th>Sunshine</th>\n",
       "      <th>WindGustSpeed</th>\n",
       "      <th>WindSpeed9am</th>\n",
       "      <th>WindSpeed3pm</th>\n",
       "      <th>Humidity9am</th>\n",
       "      <th>Humidity3pm</th>\n",
       "      <th>Pressure9am</th>\n",
       "      <th>Pressure3pm</th>\n",
       "      <th>Cloud9am</th>\n",
       "      <th>Cloud3pm</th>\n",
       "      <th>Temp9am</th>\n",
       "      <th>Temp3pm</th>\n",
       "    </tr>\n",
       "  </thead>\n",
       "  <tbody>\n",
       "    <tr>\n",
       "      <th>count</th>\n",
       "      <td>8350.000000</td>\n",
       "      <td>8365.000000</td>\n",
       "      <td>8185.000000</td>\n",
       "      <td>4913.000000</td>\n",
       "      <td>4431.000000</td>\n",
       "      <td>7434.000000</td>\n",
       "      <td>8349.000000</td>\n",
       "      <td>8318.000000</td>\n",
       "      <td>8366.000000</td>\n",
       "      <td>8323.000000</td>\n",
       "      <td>7116.000000</td>\n",
       "      <td>7113.000000</td>\n",
       "      <td>6004.000000</td>\n",
       "      <td>5970.000000</td>\n",
       "      <td>8369.000000</td>\n",
       "      <td>8329.000000</td>\n",
       "    </tr>\n",
       "    <tr>\n",
       "      <th>mean</th>\n",
       "      <td>13.193305</td>\n",
       "      <td>23.859976</td>\n",
       "      <td>2.805913</td>\n",
       "      <td>5.389395</td>\n",
       "      <td>7.632205</td>\n",
       "      <td>40.174469</td>\n",
       "      <td>13.847646</td>\n",
       "      <td>18.533662</td>\n",
       "      <td>67.822496</td>\n",
       "      <td>51.249790</td>\n",
       "      <td>1017.640233</td>\n",
       "      <td>1015.236075</td>\n",
       "      <td>4.566622</td>\n",
       "      <td>4.503183</td>\n",
       "      <td>17.762015</td>\n",
       "      <td>22.442934</td>\n",
       "    </tr>\n",
       "    <tr>\n",
       "      <th>std</th>\n",
       "      <td>5.403596</td>\n",
       "      <td>6.136408</td>\n",
       "      <td>10.459379</td>\n",
       "      <td>5.044484</td>\n",
       "      <td>3.896235</td>\n",
       "      <td>14.665721</td>\n",
       "      <td>10.174579</td>\n",
       "      <td>9.766986</td>\n",
       "      <td>16.833283</td>\n",
       "      <td>18.423774</td>\n",
       "      <td>6.828699</td>\n",
       "      <td>6.766681</td>\n",
       "      <td>2.877658</td>\n",
       "      <td>2.731659</td>\n",
       "      <td>5.627035</td>\n",
       "      <td>5.980020</td>\n",
       "    </tr>\n",
       "    <tr>\n",
       "      <th>min</th>\n",
       "      <td>-2.000000</td>\n",
       "      <td>8.200000</td>\n",
       "      <td>0.000000</td>\n",
       "      <td>0.000000</td>\n",
       "      <td>0.000000</td>\n",
       "      <td>7.000000</td>\n",
       "      <td>0.000000</td>\n",
       "      <td>0.000000</td>\n",
       "      <td>10.000000</td>\n",
       "      <td>6.000000</td>\n",
       "      <td>989.800000</td>\n",
       "      <td>982.900000</td>\n",
       "      <td>0.000000</td>\n",
       "      <td>0.000000</td>\n",
       "      <td>1.900000</td>\n",
       "      <td>7.300000</td>\n",
       "    </tr>\n",
       "    <tr>\n",
       "      <th>25%</th>\n",
       "      <td>9.200000</td>\n",
       "      <td>19.300000</td>\n",
       "      <td>0.000000</td>\n",
       "      <td>2.600000</td>\n",
       "      <td>4.750000</td>\n",
       "      <td>30.000000</td>\n",
       "      <td>6.000000</td>\n",
       "      <td>11.000000</td>\n",
       "      <td>56.000000</td>\n",
       "      <td>39.000000</td>\n",
       "      <td>1013.000000</td>\n",
       "      <td>1010.400000</td>\n",
       "      <td>1.000000</td>\n",
       "      <td>2.000000</td>\n",
       "      <td>13.800000</td>\n",
       "      <td>18.000000</td>\n",
       "    </tr>\n",
       "    <tr>\n",
       "      <th>50%</th>\n",
       "      <td>13.300000</td>\n",
       "      <td>23.300000</td>\n",
       "      <td>0.000000</td>\n",
       "      <td>4.600000</td>\n",
       "      <td>8.700000</td>\n",
       "      <td>39.000000</td>\n",
       "      <td>13.000000</td>\n",
       "      <td>19.000000</td>\n",
       "      <td>68.000000</td>\n",
       "      <td>51.000000</td>\n",
       "      <td>1017.700000</td>\n",
       "      <td>1015.300000</td>\n",
       "      <td>5.000000</td>\n",
       "      <td>5.000000</td>\n",
       "      <td>17.800000</td>\n",
       "      <td>21.900000</td>\n",
       "    </tr>\n",
       "    <tr>\n",
       "      <th>75%</th>\n",
       "      <td>17.400000</td>\n",
       "      <td>28.000000</td>\n",
       "      <td>1.000000</td>\n",
       "      <td>7.000000</td>\n",
       "      <td>10.700000</td>\n",
       "      <td>50.000000</td>\n",
       "      <td>20.000000</td>\n",
       "      <td>24.000000</td>\n",
       "      <td>80.000000</td>\n",
       "      <td>63.000000</td>\n",
       "      <td>1022.300000</td>\n",
       "      <td>1019.800000</td>\n",
       "      <td>7.000000</td>\n",
       "      <td>7.000000</td>\n",
       "      <td>21.900000</td>\n",
       "      <td>26.400000</td>\n",
       "    </tr>\n",
       "    <tr>\n",
       "      <th>max</th>\n",
       "      <td>28.500000</td>\n",
       "      <td>45.500000</td>\n",
       "      <td>371.000000</td>\n",
       "      <td>145.000000</td>\n",
       "      <td>13.900000</td>\n",
       "      <td>107.000000</td>\n",
       "      <td>63.000000</td>\n",
       "      <td>83.000000</td>\n",
       "      <td>100.000000</td>\n",
       "      <td>99.000000</td>\n",
       "      <td>1039.000000</td>\n",
       "      <td>1036.000000</td>\n",
       "      <td>8.000000</td>\n",
       "      <td>8.000000</td>\n",
       "      <td>39.400000</td>\n",
       "      <td>44.100000</td>\n",
       "    </tr>\n",
       "  </tbody>\n",
       "</table>\n",
       "</div>"
      ],
      "text/plain": [
       "           MinTemp      MaxTemp     Rainfall  Evaporation     Sunshine  \\\n",
       "count  8350.000000  8365.000000  8185.000000  4913.000000  4431.000000   \n",
       "mean     13.193305    23.859976     2.805913     5.389395     7.632205   \n",
       "std       5.403596     6.136408    10.459379     5.044484     3.896235   \n",
       "min      -2.000000     8.200000     0.000000     0.000000     0.000000   \n",
       "25%       9.200000    19.300000     0.000000     2.600000     4.750000   \n",
       "50%      13.300000    23.300000     0.000000     4.600000     8.700000   \n",
       "75%      17.400000    28.000000     1.000000     7.000000    10.700000   \n",
       "max      28.500000    45.500000   371.000000   145.000000    13.900000   \n",
       "\n",
       "       WindGustSpeed  WindSpeed9am  WindSpeed3pm  Humidity9am  Humidity3pm  \\\n",
       "count    7434.000000   8349.000000   8318.000000  8366.000000  8323.000000   \n",
       "mean       40.174469     13.847646     18.533662    67.822496    51.249790   \n",
       "std        14.665721     10.174579      9.766986    16.833283    18.423774   \n",
       "min         7.000000      0.000000      0.000000    10.000000     6.000000   \n",
       "25%        30.000000      6.000000     11.000000    56.000000    39.000000   \n",
       "50%        39.000000     13.000000     19.000000    68.000000    51.000000   \n",
       "75%        50.000000     20.000000     24.000000    80.000000    63.000000   \n",
       "max       107.000000     63.000000     83.000000   100.000000    99.000000   \n",
       "\n",
       "       Pressure9am  Pressure3pm     Cloud9am     Cloud3pm      Temp9am  \\\n",
       "count  7116.000000  7113.000000  6004.000000  5970.000000  8369.000000   \n",
       "mean   1017.640233  1015.236075     4.566622     4.503183    17.762015   \n",
       "std       6.828699     6.766681     2.877658     2.731659     5.627035   \n",
       "min     989.800000   982.900000     0.000000     0.000000     1.900000   \n",
       "25%    1013.000000  1010.400000     1.000000     2.000000    13.800000   \n",
       "50%    1017.700000  1015.300000     5.000000     5.000000    17.800000   \n",
       "75%    1022.300000  1019.800000     7.000000     7.000000    21.900000   \n",
       "max    1039.000000  1036.000000     8.000000     8.000000    39.400000   \n",
       "\n",
       "           Temp3pm  \n",
       "count  8329.000000  \n",
       "mean     22.442934  \n",
       "std       5.980020  \n",
       "min       7.300000  \n",
       "25%      18.000000  \n",
       "50%      21.900000  \n",
       "75%      26.400000  \n",
       "max      44.100000  "
      ]
     },
     "execution_count": 6,
     "metadata": {},
     "output_type": "execute_result"
    }
   ],
   "source": [
    "df.describe()"
   ]
  },
  {
   "cell_type": "markdown",
   "id": "9427b8e7",
   "metadata": {},
   "source": [
    "<h2>Exploratory Data Analysis"
   ]
  },
  {
   "cell_type": "markdown",
   "id": "bf38b31d",
   "metadata": {},
   "source": [
    "We'll start by checking out missing data!\n",
    "\n",
    "Missing Data We can use seaborn to create a simple heatmap to see where we are missing data!"
   ]
  },
  {
   "cell_type": "code",
   "execution_count": 7,
   "id": "29f56b9e",
   "metadata": {},
   "outputs": [
    {
     "data": {
      "text/plain": [
       "Date                0\n",
       "Location            0\n",
       "MinTemp            75\n",
       "MaxTemp            60\n",
       "Rainfall          240\n",
       "Evaporation      3512\n",
       "Sunshine         3994\n",
       "WindGustDir       991\n",
       "WindGustSpeed     991\n",
       "WindDir9am        829\n",
       "WindDir3pm        308\n",
       "WindSpeed9am       76\n",
       "WindSpeed3pm      107\n",
       "Humidity9am        59\n",
       "Humidity3pm       102\n",
       "Pressure9am      1309\n",
       "Pressure3pm      1312\n",
       "Cloud9am         2421\n",
       "Cloud3pm         2455\n",
       "Temp9am            56\n",
       "Temp3pm            96\n",
       "RainToday         240\n",
       "RainTomorrow      239\n",
       "dtype: int64"
      ]
     },
     "execution_count": 7,
     "metadata": {},
     "output_type": "execute_result"
    }
   ],
   "source": [
    "df.isnull().sum()"
   ]
  },
  {
   "cell_type": "markdown",
   "id": "b00ab8dd",
   "metadata": {},
   "source": [
    "In this Dataset Except for the Date, Location columns, every column has missing values."
   ]
  },
  {
   "cell_type": "code",
   "execution_count": 8,
   "id": "664c7467",
   "metadata": {},
   "outputs": [
    {
     "data": {
      "text/plain": [
       "Date              object\n",
       "Location          object\n",
       "MinTemp          float64\n",
       "MaxTemp          float64\n",
       "Rainfall         float64\n",
       "Evaporation      float64\n",
       "Sunshine         float64\n",
       "WindGustDir       object\n",
       "WindGustSpeed    float64\n",
       "WindDir9am        object\n",
       "WindDir3pm        object\n",
       "WindSpeed9am     float64\n",
       "WindSpeed3pm     float64\n",
       "Humidity9am      float64\n",
       "Humidity3pm      float64\n",
       "Pressure9am      float64\n",
       "Pressure3pm      float64\n",
       "Cloud9am         float64\n",
       "Cloud3pm         float64\n",
       "Temp9am          float64\n",
       "Temp3pm          float64\n",
       "RainToday         object\n",
       "RainTomorrow      object\n",
       "dtype: object"
      ]
     },
     "execution_count": 8,
     "metadata": {},
     "output_type": "execute_result"
    }
   ],
   "source": [
    "df.dtypes"
   ]
  },
  {
   "cell_type": "code",
   "execution_count": 9,
   "id": "586f038d",
   "metadata": {},
   "outputs": [
    {
     "data": {
      "text/plain": [
       "Index(['Date', 'Location', 'MinTemp', 'MaxTemp', 'Rainfall', 'Evaporation',\n",
       "       'Sunshine', 'WindGustDir', 'WindGustSpeed', 'WindDir9am', 'WindDir3pm',\n",
       "       'WindSpeed9am', 'WindSpeed3pm', 'Humidity9am', 'Humidity3pm',\n",
       "       'Pressure9am', 'Pressure3pm', 'Cloud9am', 'Cloud3pm', 'Temp9am',\n",
       "       'Temp3pm', 'RainToday', 'RainTomorrow'],\n",
       "      dtype='object')"
      ]
     },
     "execution_count": 9,
     "metadata": {},
     "output_type": "execute_result"
    }
   ],
   "source": [
    "df.columns"
   ]
  },
  {
   "cell_type": "markdown",
   "id": "0a1d3075",
   "metadata": {},
   "source": [
    "In this dataset Rain Tomorrow and Rainfall columns are the Dependent Variable and Rest of all are the columns are Independent Variable"
   ]
  },
  {
   "cell_type": "code",
   "execution_count": 11,
   "id": "bd529a24",
   "metadata": {},
   "outputs": [
    {
     "data": {
      "text/plain": [
       "<AxesSubplot:>"
      ]
     },
     "execution_count": 11,
     "metadata": {},
     "output_type": "execute_result"
    },
    {
     "data": {
      "image/png": "[encoded data removed]",
      "text/plain": [
       "<Figure size 432x288 with 1 Axes>"
      ]
     },
     "metadata": {
      "needs_background": "light"
     },
     "output_type": "display_data"
    }
   ],
   "source": [
    "#missing data visualization using seaborn\n",
    "sns.heatmap(df.isnull(),yticklabels=False,cbar=False,cmap='viridis')"
   ]
  },
  {
   "cell_type": "markdown",
   "id": "1a25fee9",
   "metadata": {},
   "source": [
    "Here We can use seaborn to create a simple heatmap to identify the Missing Data in the Dataset"
   ]
  },
  {
   "cell_type": "code",
   "execution_count": 12,
   "id": "e6c70af8",
   "metadata": {},
   "outputs": [
    {
     "data": {
      "text/plain": [
       "<AxesSubplot:xlabel='RainTomorrow', ylabel='count'>"
      ]
     },
     "execution_count": 12,
     "metadata": {},
     "output_type": "execute_result"
    },
    {
     "data": {
      "image/png": "[encoded data removed]",
      "text/plain": [
       "<Figure size 432x288 with 1 Axes>"
      ]
     },
     "metadata": {
      "needs_background": "light"
     },
     "output_type": "display_data"
    }
   ],
   "source": [
    "sns.countplot(df['RainTomorrow'])"
   ]
  },
  {
   "cell_type": "code",
   "execution_count": 17,
   "id": "093254f1",
   "metadata": {},
   "outputs": [
    {
     "data": {
      "text/plain": [
       "<AxesSubplot:>"
      ]
     },
     "execution_count": 17,
     "metadata": {},
     "output_type": "execute_result"
    },
    {
     "data": {
      "image/png": "[encoded data removed]",
      "text/plain": [
       "<Figure size 504x360 with 1 Axes>"
      ]
     },
     "metadata": {
      "needs_background": "light"
     },
     "output_type": "display_data"
    }
   ],
   "source": [
    "df['Rainfall'].hist(figsize=(7,5))"
   ]
  },
  {
   "cell_type": "markdown",
   "id": "db815551",
   "metadata": {},
   "source": [
    "Our target variable Rainfall is highly skewed towards left."
   ]
  },
  {
   "cell_type": "code",
   "execution_count": 20,
   "id": "ed7a49e7",
   "metadata": {},
   "outputs": [
    {
     "data": {
      "image/png": "[encoded data removed]",
      "text/plain": [
       "<Figure size 1440x1080 with 16 Axes>"
      ]
     },
     "metadata": {
      "needs_background": "light"
     },
     "output_type": "display_data"
    }
   ],
   "source": [
    "#ploting graph of numerical data\n",
    "fig = plt.figure(figsize = (20,15))\n",
    "ax = fig.gca()\n",
    "df.drop('Rainfall',axis=1).hist(ax=ax)\n",
    "plt.show()"
   ]
  },
  {
   "cell_type": "code",
   "execution_count": 29,
   "id": "859d740a",
   "metadata": {},
   "outputs": [
    {
     "data": {
      "text/plain": [
       "<AxesSubplot:>"
      ]
     },
     "execution_count": 29,
     "metadata": {},
     "output_type": "execute_result"
    },
    {
     "data": {
      "image/png": "[encoded data removed]",
      "text/plain": [
       "<Figure size 1440x1008 with 2 Axes>"
      ]
     },
     "metadata": {
      "needs_background": "light"
     },
     "output_type": "display_data"
    }
   ],
   "source": [
    "#to check correlation in data\n",
    "plt.figure(figsize=(20,14))\n",
    "sns.heatmap(df.corr(),annot=True,cmap='gray_r')"
   ]
  },
  {
   "cell_type": "code",
   "execution_count": 30,
   "id": "21266236",
   "metadata": {},
   "outputs": [
    {
     "data": {
      "text/plain": [
       "<AxesSubplot:>"
      ]
     },
     "execution_count": 30,
     "metadata": {},
     "output_type": "execute_result"
    },
    {
     "data": {
      "image/png": "[encoded data removed]",
      "text/plain": [
       "<Figure size 1296x720 with 1 Axes>"
      ]
     },
     "metadata": {
      "needs_background": "light"
     },
     "output_type": "display_data"
    }
   ],
   "source": [
    "#finding outliers using box plot\n",
    "plt.figure(figsize=(18,10))\n",
    "plt.xticks(rotation=90)\n",
    "sns.boxplot(data=df)"
   ]
  },
  {
   "cell_type": "markdown",
   "id": "b7fd5293",
   "metadata": {},
   "source": [
    "<h2>Data Cleaning"
   ]
  },
  {
   "cell_type": "code",
   "execution_count": 31,
   "id": "16d4e808",
   "metadata": {},
   "outputs": [
    {
     "data": {
      "text/html": [
       "<div>\n",
       "<style scoped>\n",
       "    .dataframe tbody tr th:only-of-type {\n",
       "        vertical-align: middle;\n",
       "    }\n",
       "\n",
       "    .dataframe tbody tr th {\n",
       "        vertical-align: top;\n",
       "    }\n",
       "\n",
       "    .dataframe thead th {\n",
       "        text-align: right;\n",
       "    }\n",
       "</style>\n",
       "<table border=\"1\" class=\"dataframe\">\n",
       "  <thead>\n",
       "    <tr style=\"text-align: right;\">\n",
       "      <th></th>\n",
       "      <th>MinTemp</th>\n",
       "      <th>MaxTemp</th>\n",
       "      <th>Rainfall</th>\n",
       "      <th>Evaporation</th>\n",
       "      <th>Sunshine</th>\n",
       "      <th>WindGustDir</th>\n",
       "      <th>WindGustSpeed</th>\n",
       "      <th>WindDir9am</th>\n",
       "      <th>WindDir3pm</th>\n",
       "      <th>WindSpeed9am</th>\n",
       "      <th>...</th>\n",
       "      <th>Humidity9am</th>\n",
       "      <th>Humidity3pm</th>\n",
       "      <th>Pressure9am</th>\n",
       "      <th>Pressure3pm</th>\n",
       "      <th>Cloud9am</th>\n",
       "      <th>Cloud3pm</th>\n",
       "      <th>Temp9am</th>\n",
       "      <th>Temp3pm</th>\n",
       "      <th>RainToday</th>\n",
       "      <th>RainTomorrow</th>\n",
       "    </tr>\n",
       "  </thead>\n",
       "  <tbody>\n",
       "    <tr>\n",
       "      <th>0</th>\n",
       "      <td>13.4</td>\n",
       "      <td>22.9</td>\n",
       "      <td>0.6</td>\n",
       "      <td>NaN</td>\n",
       "      <td>NaN</td>\n",
       "      <td>W</td>\n",
       "      <td>44.0</td>\n",
       "      <td>W</td>\n",
       "      <td>WNW</td>\n",
       "      <td>20.0</td>\n",
       "      <td>...</td>\n",
       "      <td>71.0</td>\n",
       "      <td>22.0</td>\n",
       "      <td>1007.7</td>\n",
       "      <td>1007.1</td>\n",
       "      <td>8.0</td>\n",
       "      <td>NaN</td>\n",
       "      <td>16.9</td>\n",
       "      <td>21.8</td>\n",
       "      <td>No</td>\n",
       "      <td>No</td>\n",
       "    </tr>\n",
       "    <tr>\n",
       "      <th>1</th>\n",
       "      <td>7.4</td>\n",
       "      <td>25.1</td>\n",
       "      <td>0.0</td>\n",
       "      <td>NaN</td>\n",
       "      <td>NaN</td>\n",
       "      <td>WNW</td>\n",
       "      <td>44.0</td>\n",
       "      <td>NNW</td>\n",
       "      <td>WSW</td>\n",
       "      <td>4.0</td>\n",
       "      <td>...</td>\n",
       "      <td>44.0</td>\n",
       "      <td>25.0</td>\n",
       "      <td>1010.6</td>\n",
       "      <td>1007.8</td>\n",
       "      <td>NaN</td>\n",
       "      <td>NaN</td>\n",
       "      <td>17.2</td>\n",
       "      <td>24.3</td>\n",
       "      <td>No</td>\n",
       "      <td>No</td>\n",
       "    </tr>\n",
       "    <tr>\n",
       "      <th>2</th>\n",
       "      <td>12.9</td>\n",
       "      <td>25.7</td>\n",
       "      <td>0.0</td>\n",
       "      <td>NaN</td>\n",
       "      <td>NaN</td>\n",
       "      <td>WSW</td>\n",
       "      <td>46.0</td>\n",
       "      <td>W</td>\n",
       "      <td>WSW</td>\n",
       "      <td>19.0</td>\n",
       "      <td>...</td>\n",
       "      <td>38.0</td>\n",
       "      <td>30.0</td>\n",
       "      <td>1007.6</td>\n",
       "      <td>1008.7</td>\n",
       "      <td>NaN</td>\n",
       "      <td>2.0</td>\n",
       "      <td>21.0</td>\n",
       "      <td>23.2</td>\n",
       "      <td>No</td>\n",
       "      <td>No</td>\n",
       "    </tr>\n",
       "    <tr>\n",
       "      <th>3</th>\n",
       "      <td>9.2</td>\n",
       "      <td>28.0</td>\n",
       "      <td>0.0</td>\n",
       "      <td>NaN</td>\n",
       "      <td>NaN</td>\n",
       "      <td>NE</td>\n",
       "      <td>24.0</td>\n",
       "      <td>SE</td>\n",
       "      <td>E</td>\n",
       "      <td>11.0</td>\n",
       "      <td>...</td>\n",
       "      <td>45.0</td>\n",
       "      <td>16.0</td>\n",
       "      <td>1017.6</td>\n",
       "      <td>1012.8</td>\n",
       "      <td>NaN</td>\n",
       "      <td>NaN</td>\n",
       "      <td>18.1</td>\n",
       "      <td>26.5</td>\n",
       "      <td>No</td>\n",
       "      <td>No</td>\n",
       "    </tr>\n",
       "    <tr>\n",
       "      <th>4</th>\n",
       "      <td>17.5</td>\n",
       "      <td>32.3</td>\n",
       "      <td>1.0</td>\n",
       "      <td>NaN</td>\n",
       "      <td>NaN</td>\n",
       "      <td>W</td>\n",
       "      <td>41.0</td>\n",
       "      <td>ENE</td>\n",
       "      <td>NW</td>\n",
       "      <td>7.0</td>\n",
       "      <td>...</td>\n",
       "      <td>82.0</td>\n",
       "      <td>33.0</td>\n",
       "      <td>1010.8</td>\n",
       "      <td>1006.0</td>\n",
       "      <td>7.0</td>\n",
       "      <td>8.0</td>\n",
       "      <td>17.8</td>\n",
       "      <td>29.7</td>\n",
       "      <td>No</td>\n",
       "      <td>No</td>\n",
       "    </tr>\n",
       "  </tbody>\n",
       "</table>\n",
       "<p>5 rows × 21 columns</p>\n",
       "</div>"
      ],
      "text/plain": [
       "   MinTemp  MaxTemp  Rainfall  Evaporation  Sunshine WindGustDir  \\\n",
       "0     13.4     22.9       0.6          NaN       NaN           W   \n",
       "1      7.4     25.1       0.0          NaN       NaN         WNW   \n",
       "2     12.9     25.7       0.0          NaN       NaN         WSW   \n",
       "3      9.2     28.0       0.0          NaN       NaN          NE   \n",
       "4     17.5     32.3       1.0          NaN       NaN           W   \n",
       "\n",
       "   WindGustSpeed WindDir9am WindDir3pm  WindSpeed9am  ...  Humidity9am  \\\n",
       "0           44.0          W        WNW          20.0  ...         71.0   \n",
       "1           44.0        NNW        WSW           4.0  ...         44.0   \n",
       "2           46.0          W        WSW          19.0  ...         38.0   \n",
       "3           24.0         SE          E          11.0  ...         45.0   \n",
       "4           41.0        ENE         NW           7.0  ...         82.0   \n",
       "\n",
       "   Humidity3pm  Pressure9am  Pressure3pm  Cloud9am  Cloud3pm  Temp9am  \\\n",
       "0         22.0       1007.7       1007.1       8.0       NaN     16.9   \n",
       "1         25.0       1010.6       1007.8       NaN       NaN     17.2   \n",
       "2         30.0       1007.6       1008.7       NaN       2.0     21.0   \n",
       "3         16.0       1017.6       1012.8       NaN       NaN     18.1   \n",
       "4         33.0       1010.8       1006.0       7.0       8.0     17.8   \n",
       "\n",
       "   Temp3pm  RainToday RainTomorrow  \n",
       "0     21.8         No           No  \n",
       "1     24.3         No           No  \n",
       "2     23.2         No           No  \n",
       "3     26.5         No           No  \n",
       "4     29.7         No           No  \n",
       "\n",
       "[5 rows x 21 columns]"
      ]
     },
     "execution_count": 31,
     "metadata": {},
     "output_type": "execute_result"
    }
   ],
   "source": [
    "# To Drop the Date and Location Column \n",
    "\n",
    "df.drop(['Date','Location'],axis = 1, inplace = True)\n",
    "df.head()"
   ]
  },
  {
   "cell_type": "code",
   "execution_count": 32,
   "id": "18570992",
   "metadata": {},
   "outputs": [
    {
     "name": "stdout",
     "output_type": "stream",
     "text": [
      "Numeric: ['MinTemp', 'MaxTemp', 'Rainfall', 'Evaporation', 'Sunshine', 'WindGustSpeed', 'WindSpeed9am', 'WindSpeed3pm', 'Humidity9am', 'Humidity3pm', 'Pressure9am', 'Pressure3pm', 'Cloud9am', 'Cloud3pm', 'Temp9am', 'Temp3pm'] \n",
      "\n",
      "Categoric: ['WindGustDir', 'WindDir9am', 'WindDir3pm', 'RainToday', 'RainTomorrow']\n"
     ]
    }
   ],
   "source": [
    "#separting categorical and numerical features\n",
    "\n",
    "categorical_features = [column_name for column_name in df.columns if df[column_name].dtype == 'O']\n",
    "numerical_features=[column_name for column_name in df.columns if df[column_name].dtype != 'O']\n",
    "print('Numeric:',numerical_features,'\\n')\n",
    "print('Categoric:',categorical_features)"
   ]
  },
  {
   "cell_type": "markdown",
   "id": "43c36ac2",
   "metadata": {},
   "source": [
    "After removing the date and Location here In this dataset total no of columns is 21 The ramaining columns are separated in two types\n",
    "\n",
    "        1.Numeric (Numerical Features) \n",
    "        2.Categoric (Categorical Features)"
   ]
  },
  {
   "cell_type": "markdown",
   "id": "11562fe8",
   "metadata": {},
   "source": [
    "<B>Finding outiers in nuerical cols"
   ]
  },
  {
   "cell_type": "code",
   "execution_count": 33,
   "id": "1d030bab",
   "metadata": {},
   "outputs": [
    {
     "data": {
      "image/png": "[encoded data removed]",
      "text/plain": [
       "<Figure size 1584x648 with 1 Axes>"
      ]
     },
     "metadata": {
      "needs_background": "light"
     },
     "output_type": "display_data"
    }
   ],
   "source": [
    "plt.figure(figsize=(22,9));\n",
    "df.boxplot();\n",
    "plt.xticks(rotation=45);"
   ]
  },
  {
   "cell_type": "markdown",
   "id": "171219bb",
   "metadata": {},
   "source": [
    "Here outliers are present in Rainfall, Evaporation, WindSpeed9am attributes. So we need to get the exact values of outliers using IQR method."
   ]
  },
  {
   "cell_type": "markdown",
   "id": "44e75450",
   "metadata": {},
   "source": [
    "<b>Handling missing values"
   ]
  },
  {
   "cell_type": "code",
   "execution_count": 35,
   "id": "ac95fafb",
   "metadata": {},
   "outputs": [
    {
     "data": {
      "text/plain": [
       "MinTemp            75\n",
       "MaxTemp            60\n",
       "Rainfall          240\n",
       "Evaporation      3512\n",
       "Sunshine         3994\n",
       "WindGustDir       991\n",
       "WindGustSpeed     991\n",
       "WindDir9am        829\n",
       "WindDir3pm        308\n",
       "WindSpeed9am       76\n",
       "WindSpeed3pm      107\n",
       "Humidity9am        59\n",
       "Humidity3pm       102\n",
       "Pressure9am      1309\n",
       "Pressure3pm      1312\n",
       "Cloud9am         2421\n",
       "Cloud3pm         2455\n",
       "Temp9am            56\n",
       "Temp3pm            96\n",
       "RainToday         240\n",
       "RainTomorrow      239\n",
       "dtype: int64"
      ]
     },
     "execution_count": 35,
     "metadata": {},
     "output_type": "execute_result"
    }
   ],
   "source": [
    "# Handling missing values or nan values\n",
    "\n",
    "df.isnull().sum()"
   ]
  },
  {
   "cell_type": "code",
   "execution_count": 36,
   "id": "a6142741",
   "metadata": {},
   "outputs": [],
   "source": [
    "# Handling NaN values in numerical cols\n",
    "\n",
    "for  i in numerical_features:\n",
    "    df[i] = df[i].fillna(df[i].mean())"
   ]
  },
  {
   "cell_type": "code",
   "execution_count": 37,
   "id": "4a957a9d",
   "metadata": {},
   "outputs": [
    {
     "data": {
      "text/plain": [
       "MinTemp            0\n",
       "MaxTemp            0\n",
       "Rainfall           0\n",
       "Evaporation        0\n",
       "Sunshine           0\n",
       "WindGustDir      991\n",
       "WindGustSpeed      0\n",
       "WindDir9am       829\n",
       "WindDir3pm       308\n",
       "WindSpeed9am       0\n",
       "WindSpeed3pm       0\n",
       "Humidity9am        0\n",
       "Humidity3pm        0\n",
       "Pressure9am        0\n",
       "Pressure3pm        0\n",
       "Cloud9am           0\n",
       "Cloud3pm           0\n",
       "Temp9am            0\n",
       "Temp3pm            0\n",
       "RainToday        240\n",
       "RainTomorrow     239\n",
       "dtype: int64"
      ]
     },
     "execution_count": 37,
     "metadata": {},
     "output_type": "execute_result"
    }
   ],
   "source": [
    "df.isnull().sum()"
   ]
  },
  {
   "cell_type": "markdown",
   "id": "8f7fed6d",
   "metadata": {},
   "source": [
    "In this __Numerical Features Column__ null values are replaced with mean values"
   ]
  },
  {
   "cell_type": "code",
   "execution_count": 38,
   "id": "b1bd49ad",
   "metadata": {},
   "outputs": [],
   "source": [
    "# Handling NaN values in categorical cols\n",
    "\n",
    "for i in categorical_features:\n",
    "    df[i] = df[i].fillna(df[i].mode()[0])"
   ]
  },
  {
   "cell_type": "code",
   "execution_count": 39,
   "id": "28462e9d",
   "metadata": {},
   "outputs": [
    {
     "data": {
      "text/plain": [
       "MinTemp          0\n",
       "MaxTemp          0\n",
       "Rainfall         0\n",
       "Evaporation      0\n",
       "Sunshine         0\n",
       "WindGustDir      0\n",
       "WindGustSpeed    0\n",
       "WindDir9am       0\n",
       "WindDir3pm       0\n",
       "WindSpeed9am     0\n",
       "WindSpeed3pm     0\n",
       "Humidity9am      0\n",
       "Humidity3pm      0\n",
       "Pressure9am      0\n",
       "Pressure3pm      0\n",
       "Cloud9am         0\n",
       "Cloud3pm         0\n",
       "Temp9am          0\n",
       "Temp3pm          0\n",
       "RainToday        0\n",
       "RainTomorrow     0\n",
       "dtype: int64"
      ]
     },
     "execution_count": 39,
     "metadata": {},
     "output_type": "execute_result"
    }
   ],
   "source": [
    "df.isnull().sum()"
   ]
  },
  {
   "cell_type": "markdown",
   "id": "b9f115fa",
   "metadata": {},
   "source": [
    "In this __Categorical Features Column__ null values are replaced with mode Values.<br>\n",
    "Now there are no null values are present in dataset."
   ]
  },
  {
   "cell_type": "markdown",
   "id": "56c3bf86",
   "metadata": {},
   "source": [
    "<B>Finding number of outliers in each colm using IQR method"
   ]
  },
  {
   "cell_type": "code",
   "execution_count": 40,
   "id": "5ae19631",
   "metadata": {},
   "outputs": [
    {
     "name": "stdout",
     "output_type": "stream",
     "text": [
      "Number of Outliers in MinTemp attribute : 0\n",
      "Number of Outliers in MaxTemp attribute : 37\n",
      "Number of Outliers in Rainfall attribute : 1342\n",
      "Number of Outliers in Evaporation attribute : 1729\n",
      "Number of Outliers in Sunshine attribute : 2336\n",
      "Number of Outliers in WindGustSpeed attribute : 217\n",
      "Number of Outliers in WindSpeed9am attribute : 135\n",
      "Number of Outliers in WindSpeed3pm attribute : 94\n",
      "Number of Outliers in Humidity9am attribute : 22\n",
      "Number of Outliers in Humidity3pm attribute : 0\n",
      "Number of Outliers in Pressure9am attribute : 223\n",
      "Number of Outliers in Pressure3pm attribute : 198\n",
      "Number of Outliers in Cloud9am attribute : 0\n",
      "Number of Outliers in Cloud3pm attribute : 0\n",
      "Number of Outliers in Temp9am attribute : 5\n",
      "Number of Outliers in Temp3pm attribute : 54\n"
     ]
    }
   ],
   "source": [
    "def detect_outliers_iqr(data):\n",
    "    outlier_list = []\n",
    "    q1 = data.quantile(0.25)\n",
    "    q3 = data.quantile(0.75)\n",
    "    IQR = q3-q1\n",
    "    lwr_bound = q1-(1.5*IQR)\n",
    "    upr_bound = q3+(1.5*IQR)\n",
    "    \n",
    "    for i in data: \n",
    "        if (i<lwr_bound or i>upr_bound):\n",
    "            outlier_list.append(i)\n",
    "    return outlier_list # Driver code\n",
    "\n",
    "\n",
    "\n",
    "for i in numerical_features:\n",
    "    outliers = detect_outliers_iqr(df[i])\n",
    "    print(\"Number of Outliers in\",i,\"attribute :\", len(outliers))"
   ]
  },
  {
   "cell_type": "code",
   "execution_count": 41,
   "id": "a5730ef0",
   "metadata": {},
   "outputs": [],
   "source": [
    "#Handling outliers in numerical features\n",
    "\n",
    "def handle_outliers(data):\n",
    "\n",
    "    q1 = data.quantile(0.25)\n",
    "    q3 = data.quantile(0.75)\n",
    "    IQR = q3-q1\n",
    "    lwr_bound = q1-(1.5*IQR)\n",
    "    upr_bound = q3+(1.5*IQR)\n",
    "\n",
    "    b = np.where(data<lwr_bound, lwr_bound, data)\n",
    "\n",
    "    b1 = np.where(b>upr_bound, upr_bound, b)\n",
    "    return b1\n",
    "    \n",
    "    \n",
    "for i in numerical_features:\n",
    "    df[i]=handle_outliers(df[i])"
   ]
  },
  {
   "cell_type": "code",
   "execution_count": 42,
   "id": "b3cb965f",
   "metadata": {},
   "outputs": [
    {
     "data": {
      "image/png": "[encoded data removed]",
      "text/plain": [
       "<Figure size 1584x864 with 1 Axes>"
      ]
     },
     "metadata": {
      "needs_background": "light"
     },
     "output_type": "display_data"
    }
   ],
   "source": [
    "#checking if outliers are handled or not\n",
    "plt.figure(figsize=(22,12));\n",
    "df.boxplot();\n",
    "plt.xticks(rotation=45);"
   ]
  },
  {
   "cell_type": "markdown",
   "id": "8d5c00f0",
   "metadata": {},
   "source": [
    "Now there are no outliers are present in dataset."
   ]
  },
  {
   "cell_type": "code",
   "execution_count": 43,
   "id": "5b537f76",
   "metadata": {},
   "outputs": [
    {
     "data": {
      "text/html": [
       "<div>\n",
       "<style scoped>\n",
       "    .dataframe tbody tr th:only-of-type {\n",
       "        vertical-align: middle;\n",
       "    }\n",
       "\n",
       "    .dataframe tbody tr th {\n",
       "        vertical-align: top;\n",
       "    }\n",
       "\n",
       "    .dataframe thead th {\n",
       "        text-align: right;\n",
       "    }\n",
       "</style>\n",
       "<table border=\"1\" class=\"dataframe\">\n",
       "  <thead>\n",
       "    <tr style=\"text-align: right;\">\n",
       "      <th></th>\n",
       "      <th>MinTemp</th>\n",
       "      <th>MaxTemp</th>\n",
       "      <th>Rainfall</th>\n",
       "      <th>Evaporation</th>\n",
       "      <th>Sunshine</th>\n",
       "      <th>WindGustDir</th>\n",
       "      <th>WindGustSpeed</th>\n",
       "      <th>WindDir9am</th>\n",
       "      <th>WindDir3pm</th>\n",
       "      <th>WindSpeed9am</th>\n",
       "      <th>...</th>\n",
       "      <th>Humidity9am</th>\n",
       "      <th>Humidity3pm</th>\n",
       "      <th>Pressure9am</th>\n",
       "      <th>Pressure3pm</th>\n",
       "      <th>Cloud9am</th>\n",
       "      <th>Cloud3pm</th>\n",
       "      <th>Temp9am</th>\n",
       "      <th>Temp3pm</th>\n",
       "      <th>RainToday</th>\n",
       "      <th>RainTomorrow</th>\n",
       "    </tr>\n",
       "  </thead>\n",
       "  <tbody>\n",
       "    <tr>\n",
       "      <th>1737</th>\n",
       "      <td>13.193305</td>\n",
       "      <td>23.859976</td>\n",
       "      <td>0.000000</td>\n",
       "      <td>5.389395</td>\n",
       "      <td>7.632205</td>\n",
       "      <td>N</td>\n",
       "      <td>40.174469</td>\n",
       "      <td>N</td>\n",
       "      <td>SE</td>\n",
       "      <td>13.847646</td>\n",
       "      <td>...</td>\n",
       "      <td>67.822496</td>\n",
       "      <td>51.24979</td>\n",
       "      <td>1017.640233</td>\n",
       "      <td>1015.236075</td>\n",
       "      <td>4.566622</td>\n",
       "      <td>4.503183</td>\n",
       "      <td>17.762015</td>\n",
       "      <td>22.442934</td>\n",
       "      <td>No</td>\n",
       "      <td>No</td>\n",
       "    </tr>\n",
       "    <tr>\n",
       "      <th>1738</th>\n",
       "      <td>13.193305</td>\n",
       "      <td>23.859976</td>\n",
       "      <td>0.000000</td>\n",
       "      <td>5.389395</td>\n",
       "      <td>7.632205</td>\n",
       "      <td>N</td>\n",
       "      <td>40.174469</td>\n",
       "      <td>N</td>\n",
       "      <td>SE</td>\n",
       "      <td>13.847646</td>\n",
       "      <td>...</td>\n",
       "      <td>67.822496</td>\n",
       "      <td>51.24979</td>\n",
       "      <td>1017.640233</td>\n",
       "      <td>1015.236075</td>\n",
       "      <td>4.566622</td>\n",
       "      <td>4.503183</td>\n",
       "      <td>17.762015</td>\n",
       "      <td>22.442934</td>\n",
       "      <td>No</td>\n",
       "      <td>No</td>\n",
       "    </tr>\n",
       "    <tr>\n",
       "      <th>1814</th>\n",
       "      <td>13.193305</td>\n",
       "      <td>23.859976</td>\n",
       "      <td>2.805913</td>\n",
       "      <td>5.389395</td>\n",
       "      <td>7.632205</td>\n",
       "      <td>N</td>\n",
       "      <td>40.174469</td>\n",
       "      <td>N</td>\n",
       "      <td>SE</td>\n",
       "      <td>13.847646</td>\n",
       "      <td>...</td>\n",
       "      <td>67.822496</td>\n",
       "      <td>51.24979</td>\n",
       "      <td>1017.640233</td>\n",
       "      <td>1015.236075</td>\n",
       "      <td>4.566622</td>\n",
       "      <td>4.503183</td>\n",
       "      <td>17.762015</td>\n",
       "      <td>22.442934</td>\n",
       "      <td>No</td>\n",
       "      <td>No</td>\n",
       "    </tr>\n",
       "    <tr>\n",
       "      <th>1815</th>\n",
       "      <td>13.193305</td>\n",
       "      <td>23.859976</td>\n",
       "      <td>2.805913</td>\n",
       "      <td>5.389395</td>\n",
       "      <td>7.632205</td>\n",
       "      <td>N</td>\n",
       "      <td>40.174469</td>\n",
       "      <td>N</td>\n",
       "      <td>SE</td>\n",
       "      <td>13.847646</td>\n",
       "      <td>...</td>\n",
       "      <td>67.822496</td>\n",
       "      <td>51.24979</td>\n",
       "      <td>1017.640233</td>\n",
       "      <td>1015.236075</td>\n",
       "      <td>4.566622</td>\n",
       "      <td>4.503183</td>\n",
       "      <td>17.762015</td>\n",
       "      <td>22.442934</td>\n",
       "      <td>No</td>\n",
       "      <td>No</td>\n",
       "    </tr>\n",
       "    <tr>\n",
       "      <th>1816</th>\n",
       "      <td>13.193305</td>\n",
       "      <td>23.859976</td>\n",
       "      <td>2.805913</td>\n",
       "      <td>5.389395</td>\n",
       "      <td>7.632205</td>\n",
       "      <td>N</td>\n",
       "      <td>40.174469</td>\n",
       "      <td>N</td>\n",
       "      <td>SE</td>\n",
       "      <td>13.847646</td>\n",
       "      <td>...</td>\n",
       "      <td>67.822496</td>\n",
       "      <td>51.24979</td>\n",
       "      <td>1017.640233</td>\n",
       "      <td>1015.236075</td>\n",
       "      <td>4.566622</td>\n",
       "      <td>4.503183</td>\n",
       "      <td>17.762015</td>\n",
       "      <td>22.442934</td>\n",
       "      <td>No</td>\n",
       "      <td>No</td>\n",
       "    </tr>\n",
       "    <tr>\n",
       "      <th>...</th>\n",
       "      <td>...</td>\n",
       "      <td>...</td>\n",
       "      <td>...</td>\n",
       "      <td>...</td>\n",
       "      <td>...</td>\n",
       "      <td>...</td>\n",
       "      <td>...</td>\n",
       "      <td>...</td>\n",
       "      <td>...</td>\n",
       "      <td>...</td>\n",
       "      <td>...</td>\n",
       "      <td>...</td>\n",
       "      <td>...</td>\n",
       "      <td>...</td>\n",
       "      <td>...</td>\n",
       "      <td>...</td>\n",
       "      <td>...</td>\n",
       "      <td>...</td>\n",
       "      <td>...</td>\n",
       "      <td>...</td>\n",
       "      <td>...</td>\n",
       "    </tr>\n",
       "    <tr>\n",
       "      <th>6143</th>\n",
       "      <td>20.300000</td>\n",
       "      <td>25.000000</td>\n",
       "      <td>0.000000</td>\n",
       "      <td>7.473489</td>\n",
       "      <td>7.300000</td>\n",
       "      <td>S</td>\n",
       "      <td>39.000000</td>\n",
       "      <td>S</td>\n",
       "      <td>SSW</td>\n",
       "      <td>17.000000</td>\n",
       "      <td>...</td>\n",
       "      <td>77.000000</td>\n",
       "      <td>60.00000</td>\n",
       "      <td>1015.200000</td>\n",
       "      <td>1014.000000</td>\n",
       "      <td>8.000000</td>\n",
       "      <td>2.000000</td>\n",
       "      <td>20.800000</td>\n",
       "      <td>23.800000</td>\n",
       "      <td>No</td>\n",
       "      <td>No</td>\n",
       "    </tr>\n",
       "    <tr>\n",
       "      <th>6144</th>\n",
       "      <td>16.100000</td>\n",
       "      <td>24.500000</td>\n",
       "      <td>0.000000</td>\n",
       "      <td>4.400000</td>\n",
       "      <td>10.801693</td>\n",
       "      <td>S</td>\n",
       "      <td>50.000000</td>\n",
       "      <td>S</td>\n",
       "      <td>S</td>\n",
       "      <td>13.000000</td>\n",
       "      <td>...</td>\n",
       "      <td>67.000000</td>\n",
       "      <td>55.00000</td>\n",
       "      <td>1018.500000</td>\n",
       "      <td>1016.900000</td>\n",
       "      <td>4.566622</td>\n",
       "      <td>4.503183</td>\n",
       "      <td>18.900000</td>\n",
       "      <td>23.700000</td>\n",
       "      <td>No</td>\n",
       "      <td>No</td>\n",
       "    </tr>\n",
       "    <tr>\n",
       "      <th>6145</th>\n",
       "      <td>16.600000</td>\n",
       "      <td>30.700000</td>\n",
       "      <td>2.805913</td>\n",
       "      <td>7.473489</td>\n",
       "      <td>10.801693</td>\n",
       "      <td>SSE</td>\n",
       "      <td>39.000000</td>\n",
       "      <td>WSW</td>\n",
       "      <td>SSE</td>\n",
       "      <td>9.000000</td>\n",
       "      <td>...</td>\n",
       "      <td>69.000000</td>\n",
       "      <td>55.00000</td>\n",
       "      <td>1016.900000</td>\n",
       "      <td>1013.500000</td>\n",
       "      <td>4.566622</td>\n",
       "      <td>4.503183</td>\n",
       "      <td>20.500000</td>\n",
       "      <td>26.300000</td>\n",
       "      <td>No</td>\n",
       "      <td>No</td>\n",
       "    </tr>\n",
       "    <tr>\n",
       "      <th>6146</th>\n",
       "      <td>20.000000</td>\n",
       "      <td>30.400000</td>\n",
       "      <td>2.805913</td>\n",
       "      <td>7.473489</td>\n",
       "      <td>10.801693</td>\n",
       "      <td>SSE</td>\n",
       "      <td>37.000000</td>\n",
       "      <td>SW</td>\n",
       "      <td>S</td>\n",
       "      <td>13.000000</td>\n",
       "      <td>...</td>\n",
       "      <td>64.000000</td>\n",
       "      <td>55.00000</td>\n",
       "      <td>1012.700000</td>\n",
       "      <td>1009.200000</td>\n",
       "      <td>4.566622</td>\n",
       "      <td>4.503183</td>\n",
       "      <td>24.100000</td>\n",
       "      <td>27.400000</td>\n",
       "      <td>No</td>\n",
       "      <td>No</td>\n",
       "    </tr>\n",
       "    <tr>\n",
       "      <th>6147</th>\n",
       "      <td>20.500000</td>\n",
       "      <td>34.900000</td>\n",
       "      <td>2.805913</td>\n",
       "      <td>7.473489</td>\n",
       "      <td>9.200000</td>\n",
       "      <td>N</td>\n",
       "      <td>59.000000</td>\n",
       "      <td>NE</td>\n",
       "      <td>NNE</td>\n",
       "      <td>9.000000</td>\n",
       "      <td>...</td>\n",
       "      <td>68.000000</td>\n",
       "      <td>33.00000</td>\n",
       "      <td>1007.100000</td>\n",
       "      <td>1000.900000</td>\n",
       "      <td>4.566622</td>\n",
       "      <td>4.503183</td>\n",
       "      <td>24.600000</td>\n",
       "      <td>34.000000</td>\n",
       "      <td>No</td>\n",
       "      <td>Yes</td>\n",
       "    </tr>\n",
       "  </tbody>\n",
       "</table>\n",
       "<p>1673 rows × 21 columns</p>\n",
       "</div>"
      ],
      "text/plain": [
       "        MinTemp    MaxTemp  Rainfall  Evaporation   Sunshine WindGustDir  \\\n",
       "1737  13.193305  23.859976  0.000000     5.389395   7.632205           N   \n",
       "1738  13.193305  23.859976  0.000000     5.389395   7.632205           N   \n",
       "1814  13.193305  23.859976  2.805913     5.389395   7.632205           N   \n",
       "1815  13.193305  23.859976  2.805913     5.389395   7.632205           N   \n",
       "1816  13.193305  23.859976  2.805913     5.389395   7.632205           N   \n",
       "...         ...        ...       ...          ...        ...         ...   \n",
       "6143  20.300000  25.000000  0.000000     7.473489   7.300000           S   \n",
       "6144  16.100000  24.500000  0.000000     4.400000  10.801693           S   \n",
       "6145  16.600000  30.700000  2.805913     7.473489  10.801693         SSE   \n",
       "6146  20.000000  30.400000  2.805913     7.473489  10.801693         SSE   \n",
       "6147  20.500000  34.900000  2.805913     7.473489   9.200000           N   \n",
       "\n",
       "      WindGustSpeed WindDir9am WindDir3pm  WindSpeed9am  ...  Humidity9am  \\\n",
       "1737      40.174469          N         SE     13.847646  ...    67.822496   \n",
       "1738      40.174469          N         SE     13.847646  ...    67.822496   \n",
       "1814      40.174469          N         SE     13.847646  ...    67.822496   \n",
       "1815      40.174469          N         SE     13.847646  ...    67.822496   \n",
       "1816      40.174469          N         SE     13.847646  ...    67.822496   \n",
       "...             ...        ...        ...           ...  ...          ...   \n",
       "6143      39.000000          S        SSW     17.000000  ...    77.000000   \n",
       "6144      50.000000          S          S     13.000000  ...    67.000000   \n",
       "6145      39.000000        WSW        SSE      9.000000  ...    69.000000   \n",
       "6146      37.000000         SW          S     13.000000  ...    64.000000   \n",
       "6147      59.000000         NE        NNE      9.000000  ...    68.000000   \n",
       "\n",
       "      Humidity3pm  Pressure9am  Pressure3pm  Cloud9am  Cloud3pm    Temp9am  \\\n",
       "1737     51.24979  1017.640233  1015.236075  4.566622  4.503183  17.762015   \n",
       "1738     51.24979  1017.640233  1015.236075  4.566622  4.503183  17.762015   \n",
       "1814     51.24979  1017.640233  1015.236075  4.566622  4.503183  17.762015   \n",
       "1815     51.24979  1017.640233  1015.236075  4.566622  4.503183  17.762015   \n",
       "1816     51.24979  1017.640233  1015.236075  4.566622  4.503183  17.762015   \n",
       "...           ...          ...          ...       ...       ...        ...   \n",
       "6143     60.00000  1015.200000  1014.000000  8.000000  2.000000  20.800000   \n",
       "6144     55.00000  1018.500000  1016.900000  4.566622  4.503183  18.900000   \n",
       "6145     55.00000  1016.900000  1013.500000  4.566622  4.503183  20.500000   \n",
       "6146     55.00000  1012.700000  1009.200000  4.566622  4.503183  24.100000   \n",
       "6147     33.00000  1007.100000  1000.900000  4.566622  4.503183  24.600000   \n",
       "\n",
       "        Temp3pm  RainToday RainTomorrow  \n",
       "1737  22.442934         No           No  \n",
       "1738  22.442934         No           No  \n",
       "1814  22.442934         No           No  \n",
       "1815  22.442934         No           No  \n",
       "1816  22.442934         No           No  \n",
       "...         ...        ...          ...  \n",
       "6143  23.800000         No           No  \n",
       "6144  23.700000         No           No  \n",
       "6145  26.300000         No           No  \n",
       "6146  27.400000         No           No  \n",
       "6147  34.000000         No          Yes  \n",
       "\n",
       "[1673 rows x 21 columns]"
      ]
     },
     "execution_count": 43,
     "metadata": {},
     "output_type": "execute_result"
    }
   ],
   "source": [
    "#checking if there are any duplicates in dataset\n",
    "df[df.duplicated()]  "
   ]
  },
  {
   "cell_type": "markdown",
   "id": "68f01db8",
   "metadata": {},
   "source": [
    "Here __1673 rows__ are have an duplicated Values, so we have to drop these rows"
   ]
  },
  {
   "cell_type": "code",
   "execution_count": 44,
   "id": "f8906d55",
   "metadata": {},
   "outputs": [
    {
     "data": {
      "text/plain": [
       "(6752, 21)"
      ]
     },
     "execution_count": 44,
     "metadata": {},
     "output_type": "execute_result"
    }
   ],
   "source": [
    "df.drop_duplicates(inplace=True)\n",
    "df.shape"
   ]
  },
  {
   "cell_type": "markdown",
   "id": "8e697927",
   "metadata": {},
   "source": [
    "After removing the duplicated values now our dataset have an 6752 rows and 21 columns are there.\n",
    "\n",
    "**Now the dataset is cleaned**\n",
    "* Handled outliers\n",
    "* Handled NaN values\n",
    "* Removed Duplicates"
   ]
  },
  {
   "cell_type": "markdown",
   "id": "3610d4ec",
   "metadata": {},
   "source": [
    "<h3>Feature Scaling"
   ]
  },
  {
   "cell_type": "code",
   "execution_count": 45,
   "id": "fd60c3a0",
   "metadata": {},
   "outputs": [
    {
     "data": {
      "text/html": [
       "<div>\n",
       "<style scoped>\n",
       "    .dataframe tbody tr th:only-of-type {\n",
       "        vertical-align: middle;\n",
       "    }\n",
       "\n",
       "    .dataframe tbody tr th {\n",
       "        vertical-align: top;\n",
       "    }\n",
       "\n",
       "    .dataframe thead th {\n",
       "        text-align: right;\n",
       "    }\n",
       "</style>\n",
       "<table border=\"1\" class=\"dataframe\">\n",
       "  <thead>\n",
       "    <tr style=\"text-align: right;\">\n",
       "      <th></th>\n",
       "      <th>MinTemp</th>\n",
       "      <th>MaxTemp</th>\n",
       "      <th>Rainfall</th>\n",
       "      <th>Evaporation</th>\n",
       "      <th>Sunshine</th>\n",
       "      <th>WindGustDir</th>\n",
       "      <th>WindGustSpeed</th>\n",
       "      <th>WindDir9am</th>\n",
       "      <th>WindDir3pm</th>\n",
       "      <th>WindSpeed9am</th>\n",
       "      <th>...</th>\n",
       "      <th>Humidity9am</th>\n",
       "      <th>Humidity3pm</th>\n",
       "      <th>Pressure9am</th>\n",
       "      <th>Pressure3pm</th>\n",
       "      <th>Cloud9am</th>\n",
       "      <th>Cloud3pm</th>\n",
       "      <th>Temp9am</th>\n",
       "      <th>Temp3pm</th>\n",
       "      <th>RainToday</th>\n",
       "      <th>RainTomorrow</th>\n",
       "    </tr>\n",
       "  </thead>\n",
       "  <tbody>\n",
       "    <tr>\n",
       "      <th>0</th>\n",
       "      <td>0.052325</td>\n",
       "      <td>-0.194673</td>\n",
       "      <td>-0.153605</td>\n",
       "      <td>0.236477</td>\n",
       "      <td>-0.273057</td>\n",
       "      <td>W</td>\n",
       "      <td>0.386336</td>\n",
       "      <td>W</td>\n",
       "      <td>WNW</td>\n",
       "      <td>0.762707</td>\n",
       "      <td>...</td>\n",
       "      <td>0.202717</td>\n",
       "      <td>-1.538399</td>\n",
       "      <td>-1.692487</td>\n",
       "      <td>-1.381121</td>\n",
       "      <td>1.452546</td>\n",
       "      <td>0.056374</td>\n",
       "      <td>-0.173508</td>\n",
       "      <td>-0.150445</td>\n",
       "      <td>No</td>\n",
       "      <td>No</td>\n",
       "    </tr>\n",
       "    <tr>\n",
       "      <th>1</th>\n",
       "      <td>-1.029855</td>\n",
       "      <td>0.164999</td>\n",
       "      <td>-0.598042</td>\n",
       "      <td>0.236477</td>\n",
       "      <td>-0.273057</td>\n",
       "      <td>WNW</td>\n",
       "      <td>0.386336</td>\n",
       "      <td>NNW</td>\n",
       "      <td>WSW</td>\n",
       "      <td>-0.913248</td>\n",
       "      <td>...</td>\n",
       "      <td>-1.371507</td>\n",
       "      <td>-1.376332</td>\n",
       "      <td>-1.198102</td>\n",
       "      <td>-1.260881</td>\n",
       "      <td>0.067238</td>\n",
       "      <td>0.056374</td>\n",
       "      <td>-0.121074</td>\n",
       "      <td>0.270197</td>\n",
       "      <td>No</td>\n",
       "      <td>No</td>\n",
       "    </tr>\n",
       "    <tr>\n",
       "      <th>2</th>\n",
       "      <td>-0.037857</td>\n",
       "      <td>0.263091</td>\n",
       "      <td>-0.598042</td>\n",
       "      <td>0.236477</td>\n",
       "      <td>-0.273057</td>\n",
       "      <td>WSW</td>\n",
       "      <td>0.540880</td>\n",
       "      <td>W</td>\n",
       "      <td>WSW</td>\n",
       "      <td>0.657960</td>\n",
       "      <td>...</td>\n",
       "      <td>-1.721335</td>\n",
       "      <td>-1.106221</td>\n",
       "      <td>-1.709535</td>\n",
       "      <td>-1.106286</td>\n",
       "      <td>0.067238</td>\n",
       "      <td>-1.019679</td>\n",
       "      <td>0.543092</td>\n",
       "      <td>0.085115</td>\n",
       "      <td>No</td>\n",
       "      <td>No</td>\n",
       "    </tr>\n",
       "    <tr>\n",
       "      <th>3</th>\n",
       "      <td>-0.705201</td>\n",
       "      <td>0.639111</td>\n",
       "      <td>-0.598042</td>\n",
       "      <td>0.236477</td>\n",
       "      <td>-0.273057</td>\n",
       "      <td>NE</td>\n",
       "      <td>-1.159104</td>\n",
       "      <td>SE</td>\n",
       "      <td>E</td>\n",
       "      <td>-0.180018</td>\n",
       "      <td>...</td>\n",
       "      <td>-1.313203</td>\n",
       "      <td>-1.862533</td>\n",
       "      <td>-0.004757</td>\n",
       "      <td>-0.402021</td>\n",
       "      <td>0.067238</td>\n",
       "      <td>0.056374</td>\n",
       "      <td>0.036229</td>\n",
       "      <td>0.640362</td>\n",
       "      <td>No</td>\n",
       "      <td>No</td>\n",
       "    </tr>\n",
       "    <tr>\n",
       "      <th>4</th>\n",
       "      <td>0.791814</td>\n",
       "      <td>1.342105</td>\n",
       "      <td>0.142686</td>\n",
       "      <td>0.236477</td>\n",
       "      <td>-0.273057</td>\n",
       "      <td>W</td>\n",
       "      <td>0.154520</td>\n",
       "      <td>ENE</td>\n",
       "      <td>NW</td>\n",
       "      <td>-0.599006</td>\n",
       "      <td>...</td>\n",
       "      <td>0.844068</td>\n",
       "      <td>-0.944154</td>\n",
       "      <td>-1.164006</td>\n",
       "      <td>-1.570070</td>\n",
       "      <td>1.049063</td>\n",
       "      <td>1.559565</td>\n",
       "      <td>-0.016206</td>\n",
       "      <td>1.178783</td>\n",
       "      <td>No</td>\n",
       "      <td>No</td>\n",
       "    </tr>\n",
       "    <tr>\n",
       "      <th>...</th>\n",
       "      <td>...</td>\n",
       "      <td>...</td>\n",
       "      <td>...</td>\n",
       "      <td>...</td>\n",
       "      <td>...</td>\n",
       "      <td>...</td>\n",
       "      <td>...</td>\n",
       "      <td>...</td>\n",
       "      <td>...</td>\n",
       "      <td>...</td>\n",
       "      <td>...</td>\n",
       "      <td>...</td>\n",
       "      <td>...</td>\n",
       "      <td>...</td>\n",
       "      <td>...</td>\n",
       "      <td>...</td>\n",
       "      <td>...</td>\n",
       "      <td>...</td>\n",
       "      <td>...</td>\n",
       "      <td>...</td>\n",
       "      <td>...</td>\n",
       "    </tr>\n",
       "    <tr>\n",
       "      <th>8420</th>\n",
       "      <td>-1.859527</td>\n",
       "      <td>-0.112929</td>\n",
       "      <td>-0.598042</td>\n",
       "      <td>0.236477</td>\n",
       "      <td>-0.273057</td>\n",
       "      <td>E</td>\n",
       "      <td>-0.618200</td>\n",
       "      <td>SE</td>\n",
       "      <td>ENE</td>\n",
       "      <td>0.029477</td>\n",
       "      <td>...</td>\n",
       "      <td>-0.963375</td>\n",
       "      <td>-1.430355</td>\n",
       "      <td>1.188587</td>\n",
       "      <td>0.886268</td>\n",
       "      <td>0.067238</td>\n",
       "      <td>0.056374</td>\n",
       "      <td>-1.362015</td>\n",
       "      <td>-0.049491</td>\n",
       "      <td>No</td>\n",
       "      <td>No</td>\n",
       "    </tr>\n",
       "    <tr>\n",
       "      <th>8421</th>\n",
       "      <td>-1.715236</td>\n",
       "      <td>0.197696</td>\n",
       "      <td>-0.598042</td>\n",
       "      <td>0.236477</td>\n",
       "      <td>-0.273057</td>\n",
       "      <td>NNW</td>\n",
       "      <td>-1.313648</td>\n",
       "      <td>SE</td>\n",
       "      <td>N</td>\n",
       "      <td>0.029477</td>\n",
       "      <td>...</td>\n",
       "      <td>-0.671852</td>\n",
       "      <td>-1.592422</td>\n",
       "      <td>1.001061</td>\n",
       "      <td>0.680141</td>\n",
       "      <td>0.067238</td>\n",
       "      <td>0.056374</td>\n",
       "      <td>-1.222191</td>\n",
       "      <td>0.303848</td>\n",
       "      <td>No</td>\n",
       "      <td>No</td>\n",
       "    </tr>\n",
       "    <tr>\n",
       "      <th>8422</th>\n",
       "      <td>-1.390582</td>\n",
       "      <td>0.459275</td>\n",
       "      <td>-0.598042</td>\n",
       "      <td>0.236477</td>\n",
       "      <td>-0.273057</td>\n",
       "      <td>N</td>\n",
       "      <td>-0.154568</td>\n",
       "      <td>SE</td>\n",
       "      <td>WNW</td>\n",
       "      <td>-0.389512</td>\n",
       "      <td>...</td>\n",
       "      <td>-0.846766</td>\n",
       "      <td>-1.430355</td>\n",
       "      <td>0.574867</td>\n",
       "      <td>0.285066</td>\n",
       "      <td>0.067238</td>\n",
       "      <td>0.056374</td>\n",
       "      <td>-0.942542</td>\n",
       "      <td>0.573059</td>\n",
       "      <td>No</td>\n",
       "      <td>No</td>\n",
       "    </tr>\n",
       "    <tr>\n",
       "      <th>8423</th>\n",
       "      <td>-0.957710</td>\n",
       "      <td>0.475624</td>\n",
       "      <td>-0.598042</td>\n",
       "      <td>0.236477</td>\n",
       "      <td>-0.273057</td>\n",
       "      <td>SE</td>\n",
       "      <td>-0.850016</td>\n",
       "      <td>SSE</td>\n",
       "      <td>N</td>\n",
       "      <td>0.029477</td>\n",
       "      <td>...</td>\n",
       "      <td>-0.963375</td>\n",
       "      <td>-1.430355</td>\n",
       "      <td>0.302103</td>\n",
       "      <td>0.233535</td>\n",
       "      <td>-0.564867</td>\n",
       "      <td>-1.019679</td>\n",
       "      <td>-0.488113</td>\n",
       "      <td>0.556234</td>\n",
       "      <td>No</td>\n",
       "      <td>No</td>\n",
       "    </tr>\n",
       "    <tr>\n",
       "      <th>8424</th>\n",
       "      <td>0.322870</td>\n",
       "      <td>-0.037729</td>\n",
       "      <td>-0.598042</td>\n",
       "      <td>0.236477</td>\n",
       "      <td>-0.273057</td>\n",
       "      <td>N</td>\n",
       "      <td>0.090729</td>\n",
       "      <td>ESE</td>\n",
       "      <td>ESE</td>\n",
       "      <td>0.448465</td>\n",
       "      <td>...</td>\n",
       "      <td>-0.322024</td>\n",
       "      <td>-0.782087</td>\n",
       "      <td>0.438485</td>\n",
       "      <td>0.474015</td>\n",
       "      <td>1.452546</td>\n",
       "      <td>1.559565</td>\n",
       "      <td>-0.505591</td>\n",
       "      <td>-0.301876</td>\n",
       "      <td>No</td>\n",
       "      <td>No</td>\n",
       "    </tr>\n",
       "  </tbody>\n",
       "</table>\n",
       "<p>6752 rows × 21 columns</p>\n",
       "</div>"
      ],
      "text/plain": [
       "       MinTemp   MaxTemp  Rainfall  Evaporation  Sunshine WindGustDir  \\\n",
       "0     0.052325 -0.194673 -0.153605     0.236477 -0.273057           W   \n",
       "1    -1.029855  0.164999 -0.598042     0.236477 -0.273057         WNW   \n",
       "2    -0.037857  0.263091 -0.598042     0.236477 -0.273057         WSW   \n",
       "3    -0.705201  0.639111 -0.598042     0.236477 -0.273057          NE   \n",
       "4     0.791814  1.342105  0.142686     0.236477 -0.273057           W   \n",
       "...        ...       ...       ...          ...       ...         ...   \n",
       "8420 -1.859527 -0.112929 -0.598042     0.236477 -0.273057           E   \n",
       "8421 -1.715236  0.197696 -0.598042     0.236477 -0.273057         NNW   \n",
       "8422 -1.390582  0.459275 -0.598042     0.236477 -0.273057           N   \n",
       "8423 -0.957710  0.475624 -0.598042     0.236477 -0.273057          SE   \n",
       "8424  0.322870 -0.037729 -0.598042     0.236477 -0.273057           N   \n",
       "\n",
       "      WindGustSpeed WindDir9am WindDir3pm  WindSpeed9am  ...  Humidity9am  \\\n",
       "0          0.386336          W        WNW      0.762707  ...     0.202717   \n",
       "1          0.386336        NNW        WSW     -0.913248  ...    -1.371507   \n",
       "2          0.540880          W        WSW      0.657960  ...    -1.721335   \n",
       "3         -1.159104         SE          E     -0.180018  ...    -1.313203   \n",
       "4          0.154520        ENE         NW     -0.599006  ...     0.844068   \n",
       "...             ...        ...        ...           ...  ...          ...   \n",
       "8420      -0.618200         SE        ENE      0.029477  ...    -0.963375   \n",
       "8421      -1.313648         SE          N      0.029477  ...    -0.671852   \n",
       "8422      -0.154568         SE        WNW     -0.389512  ...    -0.846766   \n",
       "8423      -0.850016        SSE          N      0.029477  ...    -0.963375   \n",
       "8424       0.090729        ESE        ESE      0.448465  ...    -0.322024   \n",
       "\n",
       "      Humidity3pm  Pressure9am  Pressure3pm  Cloud9am  Cloud3pm   Temp9am  \\\n",
       "0       -1.538399    -1.692487    -1.381121  1.452546  0.056374 -0.173508   \n",
       "1       -1.376332    -1.198102    -1.260881  0.067238  0.056374 -0.121074   \n",
       "2       -1.106221    -1.709535    -1.106286  0.067238 -1.019679  0.543092   \n",
       "3       -1.862533    -0.004757    -0.402021  0.067238  0.056374  0.036229   \n",
       "4       -0.944154    -1.164006    -1.570070  1.049063  1.559565 -0.016206   \n",
       "...           ...          ...          ...       ...       ...       ...   \n",
       "8420    -1.430355     1.188587     0.886268  0.067238  0.056374 -1.362015   \n",
       "8421    -1.592422     1.001061     0.680141  0.067238  0.056374 -1.222191   \n",
       "8422    -1.430355     0.574867     0.285066  0.067238  0.056374 -0.942542   \n",
       "8423    -1.430355     0.302103     0.233535 -0.564867 -1.019679 -0.488113   \n",
       "8424    -0.782087     0.438485     0.474015  1.452546  1.559565 -0.505591   \n",
       "\n",
       "       Temp3pm  RainToday RainTomorrow  \n",
       "0    -0.150445         No           No  \n",
       "1     0.270197         No           No  \n",
       "2     0.085115         No           No  \n",
       "3     0.640362         No           No  \n",
       "4     1.178783         No           No  \n",
       "...        ...        ...          ...  \n",
       "8420 -0.049491         No           No  \n",
       "8421  0.303848         No           No  \n",
       "8422  0.573059         No           No  \n",
       "8423  0.556234         No           No  \n",
       "8424 -0.301876         No           No  \n",
       "\n",
       "[6752 rows x 21 columns]"
      ]
     },
     "execution_count": 45,
     "metadata": {},
     "output_type": "execute_result"
    }
   ],
   "source": [
    "from sklearn.preprocessing import StandardScaler\n",
    "scaler=StandardScaler()\n",
    "\n",
    "df[numerical_features]=scaler.fit_transform(df[numerical_features])\n",
    "df"
   ]
  },
  {
   "cell_type": "markdown",
   "id": "57f39252",
   "metadata": {},
   "source": [
    "<h3>Encoding Categorical Features"
   ]
  },
  {
   "cell_type": "markdown",
   "id": "03bffef4",
   "metadata": {},
   "source": [
    "Here Rain Today and Rain Tomorrow is the Categorical Features value, So we need to replace the Categorical features to numerical feature using replace function\n"
   ]
  },
  {
   "cell_type": "code",
   "execution_count": 46,
   "id": "a953eaf8",
   "metadata": {},
   "outputs": [],
   "source": [
    "# Encoding Categorical Features using replace function:\n",
    "\n",
    "df['RainToday'].replace({'No':0, 'Yes': 1}, inplace = True)\n",
    "df['RainTomorrow'].replace({'No':0, 'Yes': 1}, inplace = True)"
   ]
  },
  {
   "cell_type": "code",
   "execution_count": 47,
   "id": "764ad022",
   "metadata": {},
   "outputs": [],
   "source": [
    "#function which takes feature name as a parameter and return mapping dictionary to replace(or map) \n",
    "#categorical data to numerical data.\n",
    "\n",
    "def encode_data(categorical_features):\n",
    "       \n",
    "    mapping_dict = {}\n",
    "    unique_values = list(df[categorical_features].unique())\n",
    "    for idx in range(len(unique_values)):\n",
    "        mapping_dict[unique_values[idx]] = idx\n",
    "    print(mapping_dict)\n",
    "    return mapping_dict"
   ]
  },
  {
   "cell_type": "code",
   "execution_count": 48,
   "id": "0f332c2e",
   "metadata": {},
   "outputs": [
    {
     "name": "stdout",
     "output_type": "stream",
     "text": [
      "{'W': 0, 'WNW': 1, 'WSW': 2, 'NE': 3, 'NNW': 4, 'N': 5, 'NNE': 6, 'SW': 7, 'ENE': 8, 'SSE': 9, 'S': 10, 'NW': 11, 'SE': 12, 'ESE': 13, 'E': 14, 'SSW': 15}\n"
     ]
    }
   ],
   "source": [
    "df['WindGustDir'].replace(encode_data('WindGustDir'),inplace = True)"
   ]
  },
  {
   "cell_type": "code",
   "execution_count": 49,
   "id": "77b7cc1c",
   "metadata": {},
   "outputs": [
    {
     "name": "stdout",
     "output_type": "stream",
     "text": [
      "{'W': 0, 'NNW': 1, 'SE': 2, 'ENE': 3, 'SW': 4, 'SSE': 5, 'S': 6, 'NE': 7, 'N': 8, 'SSW': 9, 'WSW': 10, 'ESE': 11, 'E': 12, 'NW': 13, 'WNW': 14, 'NNE': 15}\n"
     ]
    }
   ],
   "source": [
    "df['WindDir9am'].replace(encode_data('WindDir9am'),inplace = True)"
   ]
  },
  {
   "cell_type": "code",
   "execution_count": 50,
   "id": "3ecc3b31",
   "metadata": {},
   "outputs": [
    {
     "name": "stdout",
     "output_type": "stream",
     "text": [
      "{'WNW': 0, 'WSW': 1, 'E': 2, 'NW': 3, 'W': 4, 'SSE': 5, 'ESE': 6, 'ENE': 7, 'NNW': 8, 'SSW': 9, 'SW': 10, 'SE': 11, 'N': 12, 'S': 13, 'NNE': 14, 'NE': 15}\n"
     ]
    }
   ],
   "source": [
    "df['WindDir3pm'].replace(encode_data('WindDir3pm'),inplace = True)"
   ]
  },
  {
   "cell_type": "code",
   "execution_count": 51,
   "id": "36226fe9",
   "metadata": {},
   "outputs": [
    {
     "data": {
      "text/html": [
       "<div>\n",
       "<style scoped>\n",
       "    .dataframe tbody tr th:only-of-type {\n",
       "        vertical-align: middle;\n",
       "    }\n",
       "\n",
       "    .dataframe tbody tr th {\n",
       "        vertical-align: top;\n",
       "    }\n",
       "\n",
       "    .dataframe thead th {\n",
       "        text-align: right;\n",
       "    }\n",
       "</style>\n",
       "<table border=\"1\" class=\"dataframe\">\n",
       "  <thead>\n",
       "    <tr style=\"text-align: right;\">\n",
       "      <th></th>\n",
       "      <th>MinTemp</th>\n",
       "      <th>MaxTemp</th>\n",
       "      <th>Rainfall</th>\n",
       "      <th>Evaporation</th>\n",
       "      <th>Sunshine</th>\n",
       "      <th>WindGustDir</th>\n",
       "      <th>WindGustSpeed</th>\n",
       "      <th>WindDir9am</th>\n",
       "      <th>WindDir3pm</th>\n",
       "      <th>WindSpeed9am</th>\n",
       "      <th>...</th>\n",
       "      <th>Humidity9am</th>\n",
       "      <th>Humidity3pm</th>\n",
       "      <th>Pressure9am</th>\n",
       "      <th>Pressure3pm</th>\n",
       "      <th>Cloud9am</th>\n",
       "      <th>Cloud3pm</th>\n",
       "      <th>Temp9am</th>\n",
       "      <th>Temp3pm</th>\n",
       "      <th>RainToday</th>\n",
       "      <th>RainTomorrow</th>\n",
       "    </tr>\n",
       "  </thead>\n",
       "  <tbody>\n",
       "    <tr>\n",
       "      <th>0</th>\n",
       "      <td>0.052325</td>\n",
       "      <td>-0.194673</td>\n",
       "      <td>-0.153605</td>\n",
       "      <td>0.236477</td>\n",
       "      <td>-0.273057</td>\n",
       "      <td>0</td>\n",
       "      <td>0.386336</td>\n",
       "      <td>0</td>\n",
       "      <td>0</td>\n",
       "      <td>0.762707</td>\n",
       "      <td>...</td>\n",
       "      <td>0.202717</td>\n",
       "      <td>-1.538399</td>\n",
       "      <td>-1.692487</td>\n",
       "      <td>-1.381121</td>\n",
       "      <td>1.452546</td>\n",
       "      <td>0.056374</td>\n",
       "      <td>-0.173508</td>\n",
       "      <td>-0.150445</td>\n",
       "      <td>0</td>\n",
       "      <td>0</td>\n",
       "    </tr>\n",
       "    <tr>\n",
       "      <th>1</th>\n",
       "      <td>-1.029855</td>\n",
       "      <td>0.164999</td>\n",
       "      <td>-0.598042</td>\n",
       "      <td>0.236477</td>\n",
       "      <td>-0.273057</td>\n",
       "      <td>1</td>\n",
       "      <td>0.386336</td>\n",
       "      <td>1</td>\n",
       "      <td>1</td>\n",
       "      <td>-0.913248</td>\n",
       "      <td>...</td>\n",
       "      <td>-1.371507</td>\n",
       "      <td>-1.376332</td>\n",
       "      <td>-1.198102</td>\n",
       "      <td>-1.260881</td>\n",
       "      <td>0.067238</td>\n",
       "      <td>0.056374</td>\n",
       "      <td>-0.121074</td>\n",
       "      <td>0.270197</td>\n",
       "      <td>0</td>\n",
       "      <td>0</td>\n",
       "    </tr>\n",
       "    <tr>\n",
       "      <th>2</th>\n",
       "      <td>-0.037857</td>\n",
       "      <td>0.263091</td>\n",
       "      <td>-0.598042</td>\n",
       "      <td>0.236477</td>\n",
       "      <td>-0.273057</td>\n",
       "      <td>2</td>\n",
       "      <td>0.540880</td>\n",
       "      <td>0</td>\n",
       "      <td>1</td>\n",
       "      <td>0.657960</td>\n",
       "      <td>...</td>\n",
       "      <td>-1.721335</td>\n",
       "      <td>-1.106221</td>\n",
       "      <td>-1.709535</td>\n",
       "      <td>-1.106286</td>\n",
       "      <td>0.067238</td>\n",
       "      <td>-1.019679</td>\n",
       "      <td>0.543092</td>\n",
       "      <td>0.085115</td>\n",
       "      <td>0</td>\n",
       "      <td>0</td>\n",
       "    </tr>\n",
       "    <tr>\n",
       "      <th>3</th>\n",
       "      <td>-0.705201</td>\n",
       "      <td>0.639111</td>\n",
       "      <td>-0.598042</td>\n",
       "      <td>0.236477</td>\n",
       "      <td>-0.273057</td>\n",
       "      <td>3</td>\n",
       "      <td>-1.159104</td>\n",
       "      <td>2</td>\n",
       "      <td>2</td>\n",
       "      <td>-0.180018</td>\n",
       "      <td>...</td>\n",
       "      <td>-1.313203</td>\n",
       "      <td>-1.862533</td>\n",
       "      <td>-0.004757</td>\n",
       "      <td>-0.402021</td>\n",
       "      <td>0.067238</td>\n",
       "      <td>0.056374</td>\n",
       "      <td>0.036229</td>\n",
       "      <td>0.640362</td>\n",
       "      <td>0</td>\n",
       "      <td>0</td>\n",
       "    </tr>\n",
       "    <tr>\n",
       "      <th>4</th>\n",
       "      <td>0.791814</td>\n",
       "      <td>1.342105</td>\n",
       "      <td>0.142686</td>\n",
       "      <td>0.236477</td>\n",
       "      <td>-0.273057</td>\n",
       "      <td>0</td>\n",
       "      <td>0.154520</td>\n",
       "      <td>3</td>\n",
       "      <td>3</td>\n",
       "      <td>-0.599006</td>\n",
       "      <td>...</td>\n",
       "      <td>0.844068</td>\n",
       "      <td>-0.944154</td>\n",
       "      <td>-1.164006</td>\n",
       "      <td>-1.570070</td>\n",
       "      <td>1.049063</td>\n",
       "      <td>1.559565</td>\n",
       "      <td>-0.016206</td>\n",
       "      <td>1.178783</td>\n",
       "      <td>0</td>\n",
       "      <td>0</td>\n",
       "    </tr>\n",
       "  </tbody>\n",
       "</table>\n",
       "<p>5 rows × 21 columns</p>\n",
       "</div>"
      ],
      "text/plain": [
       "    MinTemp   MaxTemp  Rainfall  Evaporation  Sunshine  WindGustDir  \\\n",
       "0  0.052325 -0.194673 -0.153605     0.236477 -0.273057            0   \n",
       "1 -1.029855  0.164999 -0.598042     0.236477 -0.273057            1   \n",
       "2 -0.037857  0.263091 -0.598042     0.236477 -0.273057            2   \n",
       "3 -0.705201  0.639111 -0.598042     0.236477 -0.273057            3   \n",
       "4  0.791814  1.342105  0.142686     0.236477 -0.273057            0   \n",
       "\n",
       "   WindGustSpeed  WindDir9am  WindDir3pm  WindSpeed9am  ...  Humidity9am  \\\n",
       "0       0.386336           0           0      0.762707  ...     0.202717   \n",
       "1       0.386336           1           1     -0.913248  ...    -1.371507   \n",
       "2       0.540880           0           1      0.657960  ...    -1.721335   \n",
       "3      -1.159104           2           2     -0.180018  ...    -1.313203   \n",
       "4       0.154520           3           3     -0.599006  ...     0.844068   \n",
       "\n",
       "   Humidity3pm  Pressure9am  Pressure3pm  Cloud9am  Cloud3pm   Temp9am  \\\n",
       "0    -1.538399    -1.692487    -1.381121  1.452546  0.056374 -0.173508   \n",
       "1    -1.376332    -1.198102    -1.260881  0.067238  0.056374 -0.121074   \n",
       "2    -1.106221    -1.709535    -1.106286  0.067238 -1.019679  0.543092   \n",
       "3    -1.862533    -0.004757    -0.402021  0.067238  0.056374  0.036229   \n",
       "4    -0.944154    -1.164006    -1.570070  1.049063  1.559565 -0.016206   \n",
       "\n",
       "    Temp3pm  RainToday  RainTomorrow  \n",
       "0 -0.150445          0             0  \n",
       "1  0.270197          0             0  \n",
       "2  0.085115          0             0  \n",
       "3  0.640362          0             0  \n",
       "4  1.178783          0             0  \n",
       "\n",
       "[5 rows x 21 columns]"
      ]
     },
     "execution_count": 51,
     "metadata": {},
     "output_type": "execute_result"
    }
   ],
   "source": [
    "df.head()"
   ]
  },
  {
   "cell_type": "markdown",
   "id": "a7cd37be",
   "metadata": {},
   "source": [
    "There are many feature encoding techniques like One hot encoding, label encoding. But in this particular project, I will be using replace() function to encode categorical data to numerical data."
   ]
  },
  {
   "cell_type": "markdown",
   "id": "ccc13ccc",
   "metadata": {},
   "source": [
    "<h2>Model Building\n",
    "    <h3>Classification model for RainTomorrow as dependent variable"
   ]
  },
  {
   "cell_type": "code",
   "execution_count": 73,
   "id": "9aab5aa8",
   "metadata": {},
   "outputs": [],
   "source": [
    "from sklearn.model_selection import train_test_split\n",
    "from sklearn.metrics import accuracy_score,confusion_matrix,classification_report\n",
    "from sklearn.linear_model import LogisticRegression\n",
    "from sklearn.ensemble import RandomForestClassifier\n",
    "from sklearn.tree import DecisionTreeClassifier\n",
    "from sklearn.neighbors import KNeighborsClassifier\n",
    "from sklearn.naive_bayes import GaussianNB\n",
    "from sklearn.svm import SVC"
   ]
  },
  {
   "cell_type": "code",
   "execution_count": 53,
   "id": "b602c7da",
   "metadata": {},
   "outputs": [
    {
     "name": "stdout",
     "output_type": "stream",
     "text": [
      "(6752, 20)\n",
      "(6752,)\n"
     ]
    }
   ],
   "source": [
    "#dividing dataset in dependent and independent features\n",
    "x=df.drop('RainTomorrow',axis=1)\n",
    "y=df['RainTomorrow']\n",
    "\n",
    "print(x.shape)\n",
    "print(y.shape)"
   ]
  },
  {
   "cell_type": "markdown",
   "id": "6de56fd8",
   "metadata": {},
   "source": [
    "<b>Finding best random state"
   ]
  },
  {
   "cell_type": "code",
   "execution_count": 57,
   "id": "9428c2f8",
   "metadata": {},
   "outputs": [
    {
     "name": "stdout",
     "output_type": "stream",
     "text": [
      "Best random state is  2 with accuracy  0.8536729857819905\n"
     ]
    }
   ],
   "source": [
    "lr=LogisticRegression()\n",
    "maxAccu=0\n",
    "maxRS=0\n",
    "for i in range(0,200):\n",
    "    x_train,x_test,y_train,y_test=train_test_split(x,y,test_size=0.25,random_state=i)\n",
    "    lr.fit(x_train,y_train)\n",
    "    pred=lr.predict(x_test)\n",
    "    acc=accuracy_score(y_test,pred)\n",
    "    if acc>maxAccu:\n",
    "        maxAccu=acc\n",
    "        maxRS=i\n",
    "print('Best random state is ',maxRS,'with accuracy ',maxAccu)"
   ]
  },
  {
   "cell_type": "code",
   "execution_count": 58,
   "id": "ddd7f80f",
   "metadata": {},
   "outputs": [
    {
     "name": "stdout",
     "output_type": "stream",
     "text": [
      "(5064, 20)\n",
      "(1688, 20)\n",
      "(5064,)\n",
      "(1688,)\n"
     ]
    }
   ],
   "source": [
    "#splitting data into training and testing data\n",
    "x_train,x_test,y_train,y_test=train_test_split(x,y,test_size=0.25,random_state=2)\n",
    "\n",
    "print(x_train.shape)\n",
    "print(x_test.shape)\n",
    "print(y_train.shape)\n",
    "print(y_test.shape)"
   ]
  },
  {
   "cell_type": "markdown",
   "id": "36fb1bc4",
   "metadata": {},
   "source": [
    "<h3>Logistic Regression"
   ]
  },
  {
   "cell_type": "code",
   "execution_count": 79,
   "id": "2aa797bd",
   "metadata": {},
   "outputs": [
    {
     "name": "stdout",
     "output_type": "stream",
     "text": [
      "Training accuracy 0.8335308056872038\n",
      "Testing accuracy 0.8536729857819905\n",
      "              precision    recall  f1-score   support\n",
      "\n",
      "           0       0.88      0.94      0.91      1318\n",
      "           1       0.72      0.54      0.62       370\n",
      "\n",
      "    accuracy                           0.85      1688\n",
      "   macro avg       0.80      0.74      0.76      1688\n",
      "weighted avg       0.84      0.85      0.85      1688\n",
      "\n"
     ]
    },
    {
     "data": {
      "image/png": "[encoded data removed]",
      "text/plain": [
       "<Figure size 432x288 with 2 Axes>"
      ]
     },
     "metadata": {
      "needs_background": "light"
     },
     "output_type": "display_data"
    }
   ],
   "source": [
    "lr=LogisticRegression()\n",
    "lr.fit(x_train,y_train)\n",
    "pred_lr=lr.predict(x_test)\n",
    "\n",
    "#printing accuracy\n",
    "print('Training accuracy',lr.score(x_train,y_train))\n",
    "acc_lr=accuracy_score(y_test,pred_lr)\n",
    "print('Testing accuracy',acc_lr)\n",
    "\n",
    "#classification report\n",
    "print(classification_report(y_test,pred_lr))\n",
    "\n",
    "#confusion matrix\n",
    "cm=confusion_matrix(y_test,pred_lr)\n",
    "sns.heatmap(cm,annot=True,fmt='.2f',cmap='viridis');"
   ]
  },
  {
   "cell_type": "markdown",
   "id": "52f4907c",
   "metadata": {},
   "source": [
    "<h3>Decision Tree Classifier"
   ]
  },
  {
   "cell_type": "code",
   "execution_count": 78,
   "id": "6e263408",
   "metadata": {},
   "outputs": [
    {
     "name": "stdout",
     "output_type": "stream",
     "text": [
      "Training accuracy 1.0\n",
      "Testing accuracy 0.7648104265402843\n",
      "              precision    recall  f1-score   support\n",
      "\n",
      "           0       0.86      0.84      0.85      1318\n",
      "           1       0.47      0.51      0.49       370\n",
      "\n",
      "    accuracy                           0.76      1688\n",
      "   macro avg       0.66      0.67      0.67      1688\n",
      "weighted avg       0.77      0.76      0.77      1688\n",
      "\n"
     ]
    },
    {
     "data": {
      "image/png": "[encoded data removed]",
      "text/plain": [
       "<Figure size 432x288 with 2 Axes>"
      ]
     },
     "metadata": {
      "needs_background": "light"
     },
     "output_type": "display_data"
    }
   ],
   "source": [
    "dtc=DecisionTreeClassifier()\n",
    "dtc.fit(x_train,y_train)\n",
    "pred_dtc=dtc.predict(x_test)\n",
    "\n",
    "#printing accuracy\n",
    "print('Training accuracy',dtc.score(x_train,y_train))\n",
    "acc_dtc=accuracy_score(y_test,pred_dtc)\n",
    "print('Testing accuracy',acc_dtc)\n",
    "\n",
    "#classification report\n",
    "print(classification_report(y_test,pred_dtc))\n",
    "\n",
    "#confusion matrix\n",
    "cm=confusion_matrix(y_test,pred_dtc)\n",
    "sns.heatmap(cm,annot=True,fmt='.2f',cmap='viridis');"
   ]
  },
  {
   "cell_type": "markdown",
   "id": "967a1919",
   "metadata": {},
   "source": [
    "<h3>Random Forest Classifier"
   ]
  },
  {
   "cell_type": "code",
   "execution_count": 89,
   "id": "efc5c894",
   "metadata": {},
   "outputs": [
    {
     "name": "stdout",
     "output_type": "stream",
     "text": [
      "Training accuracy 0.9998025276461295\n",
      "Testing accuracy 0.8430094786729858\n",
      "              precision    recall  f1-score   support\n",
      "\n",
      "           0       0.87      0.94      0.90      1318\n",
      "           1       0.71      0.49      0.58       370\n",
      "\n",
      "    accuracy                           0.84      1688\n",
      "   macro avg       0.79      0.71      0.74      1688\n",
      "weighted avg       0.83      0.84      0.83      1688\n",
      "\n"
     ]
    },
    {
     "data": {
      "image/png": "[encoded data removed]",
      "text/plain": [
       "<Figure size 432x288 with 2 Axes>"
      ]
     },
     "metadata": {
      "needs_background": "light"
     },
     "output_type": "display_data"
    }
   ],
   "source": [
    "rf=RandomForestClassifier()\n",
    "rf.fit(x_train,y_train)\n",
    "pred_rf=rf.predict(x_test)\n",
    "\n",
    "#printing accuracy\n",
    "print('Training accuracy',rf.score(x_train,y_train))\n",
    "acc_rf=accuracy_score(y_test,pred_rf)\n",
    "print('Testing accuracy',acc_rf)\n",
    "\n",
    "#classification report\n",
    "print(classification_report(y_test,pred_rf))\n",
    "\n",
    "#confusion matrix\n",
    "cm=confusion_matrix(y_test,pred_rf)\n",
    "sns.heatmap(cm,annot=True,fmt='.2f',cmap='viridis');"
   ]
  },
  {
   "cell_type": "markdown",
   "id": "c13309f6",
   "metadata": {},
   "source": [
    "<h3>Gaussian Naive Bayes"
   ]
  },
  {
   "cell_type": "code",
   "execution_count": 76,
   "id": "48ad7aa6",
   "metadata": {},
   "outputs": [
    {
     "name": "stdout",
     "output_type": "stream",
     "text": [
      "Training accuracy 0.7837677725118484\n",
      "Testing accuracy 0.7855450236966824\n",
      "              precision    recall  f1-score   support\n",
      "\n",
      "           0       0.90      0.82      0.86      1318\n",
      "           1       0.51      0.68      0.58       370\n",
      "\n",
      "    accuracy                           0.79      1688\n",
      "   macro avg       0.70      0.75      0.72      1688\n",
      "weighted avg       0.81      0.79      0.80      1688\n",
      "\n"
     ]
    },
    {
     "data": {
      "image/png": "[encoded data removed]",
      "text/plain": [
       "<Figure size 432x288 with 2 Axes>"
      ]
     },
     "metadata": {
      "needs_background": "light"
     },
     "output_type": "display_data"
    }
   ],
   "source": [
    "gnb=GaussianNB()\n",
    "gnb.fit(x_train,y_train)\n",
    "pred_gnb=gnb.predict(x_test)\n",
    "\n",
    "#printing accuracy\n",
    "print('Training accuracy',gnb.score(x_train,y_train))\n",
    "acc_gnb=accuracy_score(y_test,pred_gnb)\n",
    "print('Testing accuracy',acc_gnb)\n",
    "\n",
    "#classification report\n",
    "print(classification_report(y_test,pred_gnb))\n",
    "\n",
    "#confusion matrix\n",
    "cm=confusion_matrix(y_test,pred_gnb)\n",
    "sns.heatmap(cm,annot=True,fmt='.2f',cmap='viridis');"
   ]
  },
  {
   "cell_type": "markdown",
   "id": "2fb5930f",
   "metadata": {},
   "source": [
    "<h3>Support Vector Classifier"
   ]
  },
  {
   "cell_type": "code",
   "execution_count": 75,
   "id": "578517df",
   "metadata": {},
   "outputs": [
    {
     "name": "stdout",
     "output_type": "stream",
     "text": [
      "Training accuracy 0.8388625592417062\n",
      "Testing accuracy 0.8483412322274881\n",
      "              precision    recall  f1-score   support\n",
      "\n",
      "           0       0.86      0.96      0.91      1318\n",
      "           1       0.76      0.45      0.57       370\n",
      "\n",
      "    accuracy                           0.85      1688\n",
      "   macro avg       0.81      0.71      0.74      1688\n",
      "weighted avg       0.84      0.85      0.83      1688\n",
      "\n"
     ]
    },
    {
     "data": {
      "image/png": "[encoded data removed]",
      "text/plain": [
       "<Figure size 432x288 with 2 Axes>"
      ]
     },
     "metadata": {
      "needs_background": "light"
     },
     "output_type": "display_data"
    }
   ],
   "source": [
    "svc=SVC()\n",
    "svc.fit(x_train,y_train)\n",
    "pred_svc=svc.predict(x_test)\n",
    "\n",
    "#printing accuracy\n",
    "print('Training accuracy',svc.score(x_train,y_train))\n",
    "acc_svc=accuracy_score(y_test,pred_svc)\n",
    "print('Testing accuracy',acc_svc)\n",
    "\n",
    "#classification report\n",
    "print(classification_report(y_test,pred_svc))\n",
    "\n",
    "#confusion matrix\n",
    "cm=confusion_matrix(y_test,pred_svc)\n",
    "sns.heatmap(cm,annot=True,fmt='.2f',cmap='viridis');"
   ]
  },
  {
   "cell_type": "markdown",
   "id": "8451b4d6",
   "metadata": {},
   "source": [
    "<h3>KNeighbors Classifier"
   ]
  },
  {
   "cell_type": "code",
   "execution_count": 80,
   "id": "37f6d362",
   "metadata": {},
   "outputs": [
    {
     "name": "stdout",
     "output_type": "stream",
     "text": [
      "Training accuracy 0.8635466034755134\n",
      "Testing accuracy 0.8169431279620853\n",
      "              precision    recall  f1-score   support\n",
      "\n",
      "           0       0.85      0.94      0.89      1318\n",
      "           1       0.63      0.39      0.48       370\n",
      "\n",
      "    accuracy                           0.82      1688\n",
      "   macro avg       0.74      0.66      0.69      1688\n",
      "weighted avg       0.80      0.82      0.80      1688\n",
      "\n"
     ]
    },
    {
     "data": {
      "image/png": "[encoded data removed]",
      "text/plain": [
       "<Figure size 432x288 with 2 Axes>"
      ]
     },
     "metadata": {
      "needs_background": "light"
     },
     "output_type": "display_data"
    }
   ],
   "source": [
    "knn=KNeighborsClassifier()\n",
    "knn.fit(x_train,y_train)\n",
    "pred_knn=knn.predict(x_test)\n",
    "\n",
    "#printing accuracy\n",
    "print('Training accuracy',knn.score(x_train,y_train))\n",
    "acc_knn=accuracy_score(y_test,pred_knn)\n",
    "print('Testing accuracy',acc_knn)\n",
    "\n",
    "#classification report\n",
    "print(classification_report(y_test,pred_knn))\n",
    "\n",
    "#confusion matrix\n",
    "cm=confusion_matrix(y_test,pred_knn)\n",
    "sns.heatmap(cm,annot=True,fmt='.2f',cmap='viridis');"
   ]
  },
  {
   "cell_type": "markdown",
   "id": "099443e4",
   "metadata": {},
   "source": [
    "<H2>Cross Validation"
   ]
  },
  {
   "cell_type": "code",
   "execution_count": 90,
   "id": "177832b0",
   "metadata": {},
   "outputs": [],
   "source": [
    "from sklearn.model_selection import cross_val_score\n",
    "\n",
    "models=[lr,dtc,rf,gnb,svc,knn]\n",
    "accuracy=[acc_lr,acc_dtc,acc_rf,acc_gnb,acc_svc,acc_knn]\n",
    "CV=[]\n",
    "for i in models:\n",
    "    cv=cross_val_score(i,x,y,cv=5)\n",
    "    CV.append(cv.mean())"
   ]
  },
  {
   "cell_type": "code",
   "execution_count": 91,
   "id": "83923d9b",
   "metadata": {},
   "outputs": [
    {
     "data": {
      "text/html": [
       "<div>\n",
       "<style scoped>\n",
       "    .dataframe tbody tr th:only-of-type {\n",
       "        vertical-align: middle;\n",
       "    }\n",
       "\n",
       "    .dataframe tbody tr th {\n",
       "        vertical-align: top;\n",
       "    }\n",
       "\n",
       "    .dataframe thead th {\n",
       "        text-align: right;\n",
       "    }\n",
       "</style>\n",
       "<table border=\"1\" class=\"dataframe\">\n",
       "  <thead>\n",
       "    <tr style=\"text-align: right;\">\n",
       "      <th></th>\n",
       "      <th>Model</th>\n",
       "      <th>Accuracy</th>\n",
       "      <th>CV score</th>\n",
       "      <th>Difference</th>\n",
       "    </tr>\n",
       "  </thead>\n",
       "  <tbody>\n",
       "    <tr>\n",
       "      <th>0</th>\n",
       "      <td>LogisticRegression()</td>\n",
       "      <td>0.853673</td>\n",
       "      <td>0.827754</td>\n",
       "      <td>0.025919</td>\n",
       "    </tr>\n",
       "    <tr>\n",
       "      <th>1</th>\n",
       "      <td>DecisionTreeClassifier()</td>\n",
       "      <td>0.764810</td>\n",
       "      <td>0.717879</td>\n",
       "      <td>0.046931</td>\n",
       "    </tr>\n",
       "    <tr>\n",
       "      <th>2</th>\n",
       "      <td>(DecisionTreeClassifier(max_features='auto', r...</td>\n",
       "      <td>0.843009</td>\n",
       "      <td>0.821684</td>\n",
       "      <td>0.021326</td>\n",
       "    </tr>\n",
       "    <tr>\n",
       "      <th>3</th>\n",
       "      <td>GaussianNB()</td>\n",
       "      <td>0.785545</td>\n",
       "      <td>0.779325</td>\n",
       "      <td>0.006220</td>\n",
       "    </tr>\n",
       "    <tr>\n",
       "      <th>4</th>\n",
       "      <td>SVC()</td>\n",
       "      <td>0.848341</td>\n",
       "      <td>0.823756</td>\n",
       "      <td>0.024586</td>\n",
       "    </tr>\n",
       "    <tr>\n",
       "      <th>5</th>\n",
       "      <td>KNeighborsClassifier()</td>\n",
       "      <td>0.816943</td>\n",
       "      <td>0.790579</td>\n",
       "      <td>0.026364</td>\n",
       "    </tr>\n",
       "  </tbody>\n",
       "</table>\n",
       "</div>"
      ],
      "text/plain": [
       "                                               Model  Accuracy  CV score  \\\n",
       "0                               LogisticRegression()  0.853673  0.827754   \n",
       "1                           DecisionTreeClassifier()  0.764810  0.717879   \n",
       "2  (DecisionTreeClassifier(max_features='auto', r...  0.843009  0.821684   \n",
       "3                                       GaussianNB()  0.785545  0.779325   \n",
       "4                                              SVC()  0.848341  0.823756   \n",
       "5                             KNeighborsClassifier()  0.816943  0.790579   \n",
       "\n",
       "   Difference  \n",
       "0    0.025919  \n",
       "1    0.046931  \n",
       "2    0.021326  \n",
       "3    0.006220  \n",
       "4    0.024586  \n",
       "5    0.026364  "
      ]
     },
     "execution_count": 91,
     "metadata": {},
     "output_type": "execute_result"
    }
   ],
   "source": [
    "classification=pd.DataFrame()\n",
    "classification['Model']=models\n",
    "classification['Accuracy']=accuracy\n",
    "classification['CV score']=CV\n",
    "classification['Difference']=[accuracy[0]-CV[0],accuracy[1]-CV[1],accuracy[2]-CV[2],accuracy[3]-CV[3],accuracy[4]-CV[4],\n",
    "                             accuracy[5]-CV[5]]\n",
    "classification"
   ]
  },
  {
   "cell_type": "code",
   "execution_count": 98,
   "id": "529955a1",
   "metadata": {},
   "outputs": [
    {
     "data": {
      "text/html": [
       "<div>\n",
       "<style scoped>\n",
       "    .dataframe tbody tr th:only-of-type {\n",
       "        vertical-align: middle;\n",
       "    }\n",
       "\n",
       "    .dataframe tbody tr th {\n",
       "        vertical-align: top;\n",
       "    }\n",
       "\n",
       "    .dataframe thead th {\n",
       "        text-align: right;\n",
       "    }\n",
       "</style>\n",
       "<table border=\"1\" class=\"dataframe\">\n",
       "  <thead>\n",
       "    <tr style=\"text-align: right;\">\n",
       "      <th></th>\n",
       "      <th>Model</th>\n",
       "      <th>Accuracy</th>\n",
       "      <th>CV score</th>\n",
       "      <th>Difference</th>\n",
       "    </tr>\n",
       "  </thead>\n",
       "  <tbody>\n",
       "    <tr>\n",
       "      <th>3</th>\n",
       "      <td>GaussianNB()</td>\n",
       "      <td>0.785545</td>\n",
       "      <td>0.779325</td>\n",
       "      <td>0.006220</td>\n",
       "    </tr>\n",
       "    <tr>\n",
       "      <th>2</th>\n",
       "      <td>(DecisionTreeClassifier(max_features='auto', r...</td>\n",
       "      <td>0.843009</td>\n",
       "      <td>0.821684</td>\n",
       "      <td>0.021326</td>\n",
       "    </tr>\n",
       "    <tr>\n",
       "      <th>4</th>\n",
       "      <td>SVC()</td>\n",
       "      <td>0.848341</td>\n",
       "      <td>0.823756</td>\n",
       "      <td>0.024586</td>\n",
       "    </tr>\n",
       "    <tr>\n",
       "      <th>0</th>\n",
       "      <td>LogisticRegression()</td>\n",
       "      <td>0.853673</td>\n",
       "      <td>0.827754</td>\n",
       "      <td>0.025919</td>\n",
       "    </tr>\n",
       "    <tr>\n",
       "      <th>5</th>\n",
       "      <td>KNeighborsClassifier()</td>\n",
       "      <td>0.816943</td>\n",
       "      <td>0.790579</td>\n",
       "      <td>0.026364</td>\n",
       "    </tr>\n",
       "    <tr>\n",
       "      <th>1</th>\n",
       "      <td>DecisionTreeClassifier()</td>\n",
       "      <td>0.764810</td>\n",
       "      <td>0.717879</td>\n",
       "      <td>0.046931</td>\n",
       "    </tr>\n",
       "  </tbody>\n",
       "</table>\n",
       "</div>"
      ],
      "text/plain": [
       "                                               Model  Accuracy  CV score  \\\n",
       "3                                       GaussianNB()  0.785545  0.779325   \n",
       "2  (DecisionTreeClassifier(max_features='auto', r...  0.843009  0.821684   \n",
       "4                                              SVC()  0.848341  0.823756   \n",
       "0                               LogisticRegression()  0.853673  0.827754   \n",
       "5                             KNeighborsClassifier()  0.816943  0.790579   \n",
       "1                           DecisionTreeClassifier()  0.764810  0.717879   \n",
       "\n",
       "   Difference  \n",
       "3    0.006220  \n",
       "2    0.021326  \n",
       "4    0.024586  \n",
       "0    0.025919  \n",
       "5    0.026364  \n",
       "1    0.046931  "
      ]
     },
     "execution_count": 98,
     "metadata": {},
     "output_type": "execute_result"
    }
   ],
   "source": [
    "classification.sort_values(by='Difference')"
   ]
  },
  {
   "cell_type": "markdown",
   "id": "aa96a58e",
   "metadata": {},
   "source": [
    "From above cross validation __Gaussian Naive Bayes__ have least difference."
   ]
  },
  {
   "cell_type": "markdown",
   "id": "8675f8ae",
   "metadata": {},
   "source": [
    "<h3>Hyper parameter Tuning"
   ]
  },
  {
   "cell_type": "code",
   "execution_count": 101,
   "id": "82a90714",
   "metadata": {},
   "outputs": [
    {
     "name": "stdout",
     "output_type": "stream",
     "text": [
      "Fitting 10 folds for each of 100 candidates, totalling 1000 fits\n",
      "{'var_smoothing': 0.08111308307896872}\n"
     ]
    }
   ],
   "source": [
    "from sklearn.model_selection import GridSearchCV\n",
    "param_grid = {\n",
    "    'var_smoothing': np.logspace(0,-9, num=100)\n",
    "}\n",
    "\n",
    "GCV=GridSearchCV(GaussianNB(),param_grid,verbose=1,cv=10,n_jobs=-1)\n",
    "GCV.fit(x_train,y_train)\n",
    "\n",
    "print(GCV.best_params_)"
   ]
  },
  {
   "cell_type": "code",
   "execution_count": 102,
   "id": "990e38ab",
   "metadata": {},
   "outputs": [
    {
     "name": "stdout",
     "output_type": "stream",
     "text": [
      "Final Accuracy is 82.99763033175356%\n"
     ]
    }
   ],
   "source": [
    "final_model=GaussianNB(var_smoothing=0.08111308307896872)\n",
    "final_model.fit(x_train,y_train)\n",
    "pred=final_model.predict(x_test)\n",
    "acc=accuracy_score(y_test,pred)\n",
    "print('Final Accuracy is {}%'.format(acc*100))"
   ]
  },
  {
   "cell_type": "code",
   "execution_count": 138,
   "id": "a98f3c7d",
   "metadata": {},
   "outputs": [
    {
     "data": {
      "image/png": "[encoded data removed]",
      "text/plain": [
       "<Figure size 432x288 with 1 Axes>"
      ]
     },
     "metadata": {
      "needs_background": "light"
     },
     "output_type": "display_data"
    }
   ],
   "source": [
    "from sklearn.metrics import plot_roc_curve\n",
    "plot_roc_curve(final_model,x_test,y_test)\n",
    "plt.title('ROC AUC Curve')\n",
    "plt.show()"
   ]
  },
  {
   "cell_type": "markdown",
   "id": "d943486c",
   "metadata": {},
   "source": [
    "<b>Saving the model"
   ]
  },
  {
   "cell_type": "code",
   "execution_count": 103,
   "id": "57107829",
   "metadata": {},
   "outputs": [
    {
     "data": {
      "text/plain": [
       "['Weather-classification.pkl']"
      ]
     },
     "execution_count": 103,
     "metadata": {},
     "output_type": "execute_result"
    }
   ],
   "source": [
    "import joblib \n",
    "joblib.dump(final_model,'Weather-classification.pkl')"
   ]
  },
  {
   "cell_type": "markdown",
   "id": "6762f829",
   "metadata": {},
   "source": [
    "<h3>Regression model for Rainfall as dependent variable"
   ]
  },
  {
   "cell_type": "code",
   "execution_count": 105,
   "id": "53b0cae1",
   "metadata": {},
   "outputs": [],
   "source": [
    "#splitting data into dependent and independent features\n",
    "X=df.drop('Rainfall',axis=1)\n",
    "Y=df['Rainfall']"
   ]
  },
  {
   "cell_type": "markdown",
   "id": "bc245bb7",
   "metadata": {},
   "source": [
    "<b>Checking VIF values to solve Multicollinearity"
   ]
  },
  {
   "cell_type": "code",
   "execution_count": 107,
   "id": "9332f10c",
   "metadata": {
    "scrolled": false
   },
   "outputs": [
    {
     "data": {
      "text/html": [
       "<div>\n",
       "<style scoped>\n",
       "    .dataframe tbody tr th:only-of-type {\n",
       "        vertical-align: middle;\n",
       "    }\n",
       "\n",
       "    .dataframe tbody tr th {\n",
       "        vertical-align: top;\n",
       "    }\n",
       "\n",
       "    .dataframe thead th {\n",
       "        text-align: right;\n",
       "    }\n",
       "</style>\n",
       "<table border=\"1\" class=\"dataframe\">\n",
       "  <thead>\n",
       "    <tr style=\"text-align: right;\">\n",
       "      <th></th>\n",
       "      <th>VIF values</th>\n",
       "      <th>Features</th>\n",
       "    </tr>\n",
       "  </thead>\n",
       "  <tbody>\n",
       "    <tr>\n",
       "      <th>0</th>\n",
       "      <td>8.672733</td>\n",
       "      <td>MinTemp</td>\n",
       "    </tr>\n",
       "    <tr>\n",
       "      <th>1</th>\n",
       "      <td>26.386022</td>\n",
       "      <td>MaxTemp</td>\n",
       "    </tr>\n",
       "    <tr>\n",
       "      <th>2</th>\n",
       "      <td>1.437314</td>\n",
       "      <td>Evaporation</td>\n",
       "    </tr>\n",
       "    <tr>\n",
       "      <th>3</th>\n",
       "      <td>2.117497</td>\n",
       "      <td>Sunshine</td>\n",
       "    </tr>\n",
       "    <tr>\n",
       "      <th>4</th>\n",
       "      <td>3.014529</td>\n",
       "      <td>WindGustDir</td>\n",
       "    </tr>\n",
       "    <tr>\n",
       "      <th>5</th>\n",
       "      <td>2.270662</td>\n",
       "      <td>WindGustSpeed</td>\n",
       "    </tr>\n",
       "    <tr>\n",
       "      <th>6</th>\n",
       "      <td>2.930675</td>\n",
       "      <td>WindDir9am</td>\n",
       "    </tr>\n",
       "    <tr>\n",
       "      <th>7</th>\n",
       "      <td>2.919908</td>\n",
       "      <td>WindDir3pm</td>\n",
       "    </tr>\n",
       "    <tr>\n",
       "      <th>8</th>\n",
       "      <td>2.036007</td>\n",
       "      <td>WindSpeed9am</td>\n",
       "    </tr>\n",
       "    <tr>\n",
       "      <th>9</th>\n",
       "      <td>1.908337</td>\n",
       "      <td>WindSpeed3pm</td>\n",
       "    </tr>\n",
       "    <tr>\n",
       "      <th>10</th>\n",
       "      <td>4.079328</td>\n",
       "      <td>Humidity9am</td>\n",
       "    </tr>\n",
       "    <tr>\n",
       "      <th>11</th>\n",
       "      <td>5.755521</td>\n",
       "      <td>Humidity3pm</td>\n",
       "    </tr>\n",
       "    <tr>\n",
       "      <th>12</th>\n",
       "      <td>18.608835</td>\n",
       "      <td>Pressure9am</td>\n",
       "    </tr>\n",
       "    <tr>\n",
       "      <th>13</th>\n",
       "      <td>18.273200</td>\n",
       "      <td>Pressure3pm</td>\n",
       "    </tr>\n",
       "    <tr>\n",
       "      <th>14</th>\n",
       "      <td>2.045149</td>\n",
       "      <td>Cloud9am</td>\n",
       "    </tr>\n",
       "    <tr>\n",
       "      <th>15</th>\n",
       "      <td>1.943733</td>\n",
       "      <td>Cloud3pm</td>\n",
       "    </tr>\n",
       "    <tr>\n",
       "      <th>16</th>\n",
       "      <td>17.922767</td>\n",
       "      <td>Temp9am</td>\n",
       "    </tr>\n",
       "    <tr>\n",
       "      <th>17</th>\n",
       "      <td>32.445901</td>\n",
       "      <td>Temp3pm</td>\n",
       "    </tr>\n",
       "    <tr>\n",
       "      <th>18</th>\n",
       "      <td>1.783104</td>\n",
       "      <td>RainToday</td>\n",
       "    </tr>\n",
       "    <tr>\n",
       "      <th>19</th>\n",
       "      <td>1.871930</td>\n",
       "      <td>RainTomorrow</td>\n",
       "    </tr>\n",
       "  </tbody>\n",
       "</table>\n",
       "</div>"
      ],
      "text/plain": [
       "    VIF values       Features\n",
       "0     8.672733        MinTemp\n",
       "1    26.386022        MaxTemp\n",
       "2     1.437314    Evaporation\n",
       "3     2.117497       Sunshine\n",
       "4     3.014529    WindGustDir\n",
       "5     2.270662  WindGustSpeed\n",
       "6     2.930675     WindDir9am\n",
       "7     2.919908     WindDir3pm\n",
       "8     2.036007   WindSpeed9am\n",
       "9     1.908337   WindSpeed3pm\n",
       "10    4.079328    Humidity9am\n",
       "11    5.755521    Humidity3pm\n",
       "12   18.608835    Pressure9am\n",
       "13   18.273200    Pressure3pm\n",
       "14    2.045149       Cloud9am\n",
       "15    1.943733       Cloud3pm\n",
       "16   17.922767        Temp9am\n",
       "17   32.445901        Temp3pm\n",
       "18    1.783104      RainToday\n",
       "19    1.871930   RainTomorrow"
      ]
     },
     "execution_count": 107,
     "metadata": {},
     "output_type": "execute_result"
    }
   ],
   "source": [
    "from statsmodels.stats.outliers_influence import variance_inflation_factor\n",
    "vif = pd.DataFrame()\n",
    "vif[\"VIF values\"] = [variance_inflation_factor(X.values,i)\n",
    "              for i in range(len(X.columns))]\n",
    "vif[\"Features\"] = X.columns\n",
    "\n",
    "vif"
   ]
  },
  {
   "cell_type": "markdown",
   "id": "59d6dabd",
   "metadata": {},
   "source": [
    "The vif values are more than 10 in some columns.I will drop the column with highest vif value."
   ]
  },
  {
   "cell_type": "code",
   "execution_count": 108,
   "id": "8b57fff0",
   "metadata": {},
   "outputs": [],
   "source": [
    "X.drop('Temp3pm',axis=1,inplace=True)"
   ]
  },
  {
   "cell_type": "code",
   "execution_count": 109,
   "id": "2d4ded50",
   "metadata": {},
   "outputs": [
    {
     "data": {
      "text/html": [
       "<div>\n",
       "<style scoped>\n",
       "    .dataframe tbody tr th:only-of-type {\n",
       "        vertical-align: middle;\n",
       "    }\n",
       "\n",
       "    .dataframe tbody tr th {\n",
       "        vertical-align: top;\n",
       "    }\n",
       "\n",
       "    .dataframe thead th {\n",
       "        text-align: right;\n",
       "    }\n",
       "</style>\n",
       "<table border=\"1\" class=\"dataframe\">\n",
       "  <thead>\n",
       "    <tr style=\"text-align: right;\">\n",
       "      <th></th>\n",
       "      <th>VIF values</th>\n",
       "      <th>Features</th>\n",
       "    </tr>\n",
       "  </thead>\n",
       "  <tbody>\n",
       "    <tr>\n",
       "      <th>0</th>\n",
       "      <td>8.597680</td>\n",
       "      <td>MinTemp</td>\n",
       "    </tr>\n",
       "    <tr>\n",
       "      <th>1</th>\n",
       "      <td>9.717399</td>\n",
       "      <td>MaxTemp</td>\n",
       "    </tr>\n",
       "    <tr>\n",
       "      <th>2</th>\n",
       "      <td>1.433737</td>\n",
       "      <td>Evaporation</td>\n",
       "    </tr>\n",
       "    <tr>\n",
       "      <th>3</th>\n",
       "      <td>2.117103</td>\n",
       "      <td>Sunshine</td>\n",
       "    </tr>\n",
       "    <tr>\n",
       "      <th>4</th>\n",
       "      <td>3.013664</td>\n",
       "      <td>WindGustDir</td>\n",
       "    </tr>\n",
       "    <tr>\n",
       "      <th>5</th>\n",
       "      <td>2.263340</td>\n",
       "      <td>WindGustSpeed</td>\n",
       "    </tr>\n",
       "    <tr>\n",
       "      <th>6</th>\n",
       "      <td>2.929497</td>\n",
       "      <td>WindDir9am</td>\n",
       "    </tr>\n",
       "    <tr>\n",
       "      <th>7</th>\n",
       "      <td>2.917366</td>\n",
       "      <td>WindDir3pm</td>\n",
       "    </tr>\n",
       "    <tr>\n",
       "      <th>8</th>\n",
       "      <td>2.034423</td>\n",
       "      <td>WindSpeed9am</td>\n",
       "    </tr>\n",
       "    <tr>\n",
       "      <th>9</th>\n",
       "      <td>1.901033</td>\n",
       "      <td>WindSpeed3pm</td>\n",
       "    </tr>\n",
       "    <tr>\n",
       "      <th>10</th>\n",
       "      <td>3.554075</td>\n",
       "      <td>Humidity9am</td>\n",
       "    </tr>\n",
       "    <tr>\n",
       "      <th>11</th>\n",
       "      <td>4.013040</td>\n",
       "      <td>Humidity3pm</td>\n",
       "    </tr>\n",
       "    <tr>\n",
       "      <th>12</th>\n",
       "      <td>17.914104</td>\n",
       "      <td>Pressure9am</td>\n",
       "    </tr>\n",
       "    <tr>\n",
       "      <th>13</th>\n",
       "      <td>17.710904</td>\n",
       "      <td>Pressure3pm</td>\n",
       "    </tr>\n",
       "    <tr>\n",
       "      <th>14</th>\n",
       "      <td>2.045094</td>\n",
       "      <td>Cloud9am</td>\n",
       "    </tr>\n",
       "    <tr>\n",
       "      <th>15</th>\n",
       "      <td>1.934453</td>\n",
       "      <td>Cloud3pm</td>\n",
       "    </tr>\n",
       "    <tr>\n",
       "      <th>16</th>\n",
       "      <td>16.721985</td>\n",
       "      <td>Temp9am</td>\n",
       "    </tr>\n",
       "    <tr>\n",
       "      <th>17</th>\n",
       "      <td>1.781127</td>\n",
       "      <td>RainToday</td>\n",
       "    </tr>\n",
       "    <tr>\n",
       "      <th>18</th>\n",
       "      <td>1.871877</td>\n",
       "      <td>RainTomorrow</td>\n",
       "    </tr>\n",
       "  </tbody>\n",
       "</table>\n",
       "</div>"
      ],
      "text/plain": [
       "    VIF values       Features\n",
       "0     8.597680        MinTemp\n",
       "1     9.717399        MaxTemp\n",
       "2     1.433737    Evaporation\n",
       "3     2.117103       Sunshine\n",
       "4     3.013664    WindGustDir\n",
       "5     2.263340  WindGustSpeed\n",
       "6     2.929497     WindDir9am\n",
       "7     2.917366     WindDir3pm\n",
       "8     2.034423   WindSpeed9am\n",
       "9     1.901033   WindSpeed3pm\n",
       "10    3.554075    Humidity9am\n",
       "11    4.013040    Humidity3pm\n",
       "12   17.914104    Pressure9am\n",
       "13   17.710904    Pressure3pm\n",
       "14    2.045094       Cloud9am\n",
       "15    1.934453       Cloud3pm\n",
       "16   16.721985        Temp9am\n",
       "17    1.781127      RainToday\n",
       "18    1.871877   RainTomorrow"
      ]
     },
     "execution_count": 109,
     "metadata": {},
     "output_type": "execute_result"
    }
   ],
   "source": [
    "#checking vif values again\n",
    "vif = pd.DataFrame()\n",
    "vif[\"VIF values\"] = [variance_inflation_factor(X.values,i)\n",
    "              for i in range(len(X.columns))]\n",
    "vif[\"Features\"] = X.columns\n",
    "\n",
    "vif"
   ]
  },
  {
   "cell_type": "markdown",
   "id": "f2d1166e",
   "metadata": {},
   "source": [
    "Still some vif values for some column are more than 10.Dropping column highest vif values."
   ]
  },
  {
   "cell_type": "code",
   "execution_count": 110,
   "id": "8db75697",
   "metadata": {},
   "outputs": [],
   "source": [
    "X.drop('Pressure9am',axis=1,inplace=True)"
   ]
  },
  {
   "cell_type": "code",
   "execution_count": 112,
   "id": "488ce29a",
   "metadata": {},
   "outputs": [
    {
     "data": {
      "text/html": [
       "<div>\n",
       "<style scoped>\n",
       "    .dataframe tbody tr th:only-of-type {\n",
       "        vertical-align: middle;\n",
       "    }\n",
       "\n",
       "    .dataframe tbody tr th {\n",
       "        vertical-align: top;\n",
       "    }\n",
       "\n",
       "    .dataframe thead th {\n",
       "        text-align: right;\n",
       "    }\n",
       "</style>\n",
       "<table border=\"1\" class=\"dataframe\">\n",
       "  <thead>\n",
       "    <tr style=\"text-align: right;\">\n",
       "      <th></th>\n",
       "      <th>VIF values</th>\n",
       "      <th>Features</th>\n",
       "    </tr>\n",
       "  </thead>\n",
       "  <tbody>\n",
       "    <tr>\n",
       "      <th>0</th>\n",
       "      <td>8.513275</td>\n",
       "      <td>MinTemp</td>\n",
       "    </tr>\n",
       "    <tr>\n",
       "      <th>1</th>\n",
       "      <td>9.191765</td>\n",
       "      <td>MaxTemp</td>\n",
       "    </tr>\n",
       "    <tr>\n",
       "      <th>2</th>\n",
       "      <td>1.415713</td>\n",
       "      <td>Evaporation</td>\n",
       "    </tr>\n",
       "    <tr>\n",
       "      <th>3</th>\n",
       "      <td>2.091593</td>\n",
       "      <td>Sunshine</td>\n",
       "    </tr>\n",
       "    <tr>\n",
       "      <th>4</th>\n",
       "      <td>3.012115</td>\n",
       "      <td>WindGustDir</td>\n",
       "    </tr>\n",
       "    <tr>\n",
       "      <th>5</th>\n",
       "      <td>2.251405</td>\n",
       "      <td>WindGustSpeed</td>\n",
       "    </tr>\n",
       "    <tr>\n",
       "      <th>6</th>\n",
       "      <td>2.929450</td>\n",
       "      <td>WindDir9am</td>\n",
       "    </tr>\n",
       "    <tr>\n",
       "      <th>7</th>\n",
       "      <td>2.896959</td>\n",
       "      <td>WindDir3pm</td>\n",
       "    </tr>\n",
       "    <tr>\n",
       "      <th>8</th>\n",
       "      <td>2.031403</td>\n",
       "      <td>WindSpeed9am</td>\n",
       "    </tr>\n",
       "    <tr>\n",
       "      <th>9</th>\n",
       "      <td>1.884678</td>\n",
       "      <td>WindSpeed3pm</td>\n",
       "    </tr>\n",
       "    <tr>\n",
       "      <th>10</th>\n",
       "      <td>3.553701</td>\n",
       "      <td>Humidity9am</td>\n",
       "    </tr>\n",
       "    <tr>\n",
       "      <th>11</th>\n",
       "      <td>4.010673</td>\n",
       "      <td>Humidity3pm</td>\n",
       "    </tr>\n",
       "    <tr>\n",
       "      <th>12</th>\n",
       "      <td>1.507411</td>\n",
       "      <td>Pressure3pm</td>\n",
       "    </tr>\n",
       "    <tr>\n",
       "      <th>13</th>\n",
       "      <td>2.044317</td>\n",
       "      <td>Cloud9am</td>\n",
       "    </tr>\n",
       "    <tr>\n",
       "      <th>14</th>\n",
       "      <td>1.933799</td>\n",
       "      <td>Cloud3pm</td>\n",
       "    </tr>\n",
       "    <tr>\n",
       "      <th>15</th>\n",
       "      <td>16.641110</td>\n",
       "      <td>Temp9am</td>\n",
       "    </tr>\n",
       "    <tr>\n",
       "      <th>16</th>\n",
       "      <td>1.736805</td>\n",
       "      <td>RainToday</td>\n",
       "    </tr>\n",
       "    <tr>\n",
       "      <th>17</th>\n",
       "      <td>1.866069</td>\n",
       "      <td>RainTomorrow</td>\n",
       "    </tr>\n",
       "  </tbody>\n",
       "</table>\n",
       "</div>"
      ],
      "text/plain": [
       "    VIF values       Features\n",
       "0     8.513275        MinTemp\n",
       "1     9.191765        MaxTemp\n",
       "2     1.415713    Evaporation\n",
       "3     2.091593       Sunshine\n",
       "4     3.012115    WindGustDir\n",
       "5     2.251405  WindGustSpeed\n",
       "6     2.929450     WindDir9am\n",
       "7     2.896959     WindDir3pm\n",
       "8     2.031403   WindSpeed9am\n",
       "9     1.884678   WindSpeed3pm\n",
       "10    3.553701    Humidity9am\n",
       "11    4.010673    Humidity3pm\n",
       "12    1.507411    Pressure3pm\n",
       "13    2.044317       Cloud9am\n",
       "14    1.933799       Cloud3pm\n",
       "15   16.641110        Temp9am\n",
       "16    1.736805      RainToday\n",
       "17    1.866069   RainTomorrow"
      ]
     },
     "execution_count": 112,
     "metadata": {},
     "output_type": "execute_result"
    }
   ],
   "source": [
    "#checking again\n",
    "vif = pd.DataFrame()\n",
    "vif[\"VIF values\"] = [variance_inflation_factor(X.values,i)\n",
    "              for i in range(len(X.columns))]\n",
    "vif[\"Features\"] = X.columns\n",
    "\n",
    "vif"
   ]
  },
  {
   "cell_type": "code",
   "execution_count": 113,
   "id": "6aab4b60",
   "metadata": {},
   "outputs": [
    {
     "data": {
      "text/html": [
       "<div>\n",
       "<style scoped>\n",
       "    .dataframe tbody tr th:only-of-type {\n",
       "        vertical-align: middle;\n",
       "    }\n",
       "\n",
       "    .dataframe tbody tr th {\n",
       "        vertical-align: top;\n",
       "    }\n",
       "\n",
       "    .dataframe thead th {\n",
       "        text-align: right;\n",
       "    }\n",
       "</style>\n",
       "<table border=\"1\" class=\"dataframe\">\n",
       "  <thead>\n",
       "    <tr style=\"text-align: right;\">\n",
       "      <th></th>\n",
       "      <th>VIF values</th>\n",
       "      <th>Features</th>\n",
       "    </tr>\n",
       "  </thead>\n",
       "  <tbody>\n",
       "    <tr>\n",
       "      <th>0</th>\n",
       "      <td>4.460302</td>\n",
       "      <td>MinTemp</td>\n",
       "    </tr>\n",
       "    <tr>\n",
       "      <th>1</th>\n",
       "      <td>5.371578</td>\n",
       "      <td>MaxTemp</td>\n",
       "    </tr>\n",
       "    <tr>\n",
       "      <th>2</th>\n",
       "      <td>1.405649</td>\n",
       "      <td>Evaporation</td>\n",
       "    </tr>\n",
       "    <tr>\n",
       "      <th>3</th>\n",
       "      <td>2.053941</td>\n",
       "      <td>Sunshine</td>\n",
       "    </tr>\n",
       "    <tr>\n",
       "      <th>4</th>\n",
       "      <td>3.012074</td>\n",
       "      <td>WindGustDir</td>\n",
       "    </tr>\n",
       "    <tr>\n",
       "      <th>5</th>\n",
       "      <td>2.227314</td>\n",
       "      <td>WindGustSpeed</td>\n",
       "    </tr>\n",
       "    <tr>\n",
       "      <th>6</th>\n",
       "      <td>2.925197</td>\n",
       "      <td>WindDir9am</td>\n",
       "    </tr>\n",
       "    <tr>\n",
       "      <th>7</th>\n",
       "      <td>2.889856</td>\n",
       "      <td>WindDir3pm</td>\n",
       "    </tr>\n",
       "    <tr>\n",
       "      <th>8</th>\n",
       "      <td>2.000372</td>\n",
       "      <td>WindSpeed9am</td>\n",
       "    </tr>\n",
       "    <tr>\n",
       "      <th>9</th>\n",
       "      <td>1.833823</td>\n",
       "      <td>WindSpeed3pm</td>\n",
       "    </tr>\n",
       "    <tr>\n",
       "      <th>10</th>\n",
       "      <td>2.435372</td>\n",
       "      <td>Humidity9am</td>\n",
       "    </tr>\n",
       "    <tr>\n",
       "      <th>11</th>\n",
       "      <td>3.169686</td>\n",
       "      <td>Humidity3pm</td>\n",
       "    </tr>\n",
       "    <tr>\n",
       "      <th>12</th>\n",
       "      <td>1.503371</td>\n",
       "      <td>Pressure3pm</td>\n",
       "    </tr>\n",
       "    <tr>\n",
       "      <th>13</th>\n",
       "      <td>2.033726</td>\n",
       "      <td>Cloud9am</td>\n",
       "    </tr>\n",
       "    <tr>\n",
       "      <th>14</th>\n",
       "      <td>1.933236</td>\n",
       "      <td>Cloud3pm</td>\n",
       "    </tr>\n",
       "    <tr>\n",
       "      <th>15</th>\n",
       "      <td>1.730202</td>\n",
       "      <td>RainToday</td>\n",
       "    </tr>\n",
       "    <tr>\n",
       "      <th>16</th>\n",
       "      <td>1.865332</td>\n",
       "      <td>RainTomorrow</td>\n",
       "    </tr>\n",
       "  </tbody>\n",
       "</table>\n",
       "</div>"
      ],
      "text/plain": [
       "    VIF values       Features\n",
       "0     4.460302        MinTemp\n",
       "1     5.371578        MaxTemp\n",
       "2     1.405649    Evaporation\n",
       "3     2.053941       Sunshine\n",
       "4     3.012074    WindGustDir\n",
       "5     2.227314  WindGustSpeed\n",
       "6     2.925197     WindDir9am\n",
       "7     2.889856     WindDir3pm\n",
       "8     2.000372   WindSpeed9am\n",
       "9     1.833823   WindSpeed3pm\n",
       "10    2.435372    Humidity9am\n",
       "11    3.169686    Humidity3pm\n",
       "12    1.503371    Pressure3pm\n",
       "13    2.033726       Cloud9am\n",
       "14    1.933236       Cloud3pm\n",
       "15    1.730202      RainToday\n",
       "16    1.865332   RainTomorrow"
      ]
     },
     "execution_count": 113,
     "metadata": {},
     "output_type": "execute_result"
    }
   ],
   "source": [
    "#dropping column with highest vif value and checking again\n",
    "X.drop('Temp9am',axis=1,inplace=True)\n",
    "vif = pd.DataFrame()\n",
    "vif[\"VIF values\"] = [variance_inflation_factor(X.values,i)\n",
    "              for i in range(len(X.columns))]\n",
    "vif[\"Features\"] = X.columns\n",
    "\n",
    "vif"
   ]
  },
  {
   "cell_type": "markdown",
   "id": "37716795",
   "metadata": {},
   "source": [
    "The VIF value is less than 10 in all the features which means we have solved the multicollinearity problem. Now we can move to model building"
   ]
  },
  {
   "cell_type": "markdown",
   "id": "4fb0ab67",
   "metadata": {},
   "source": [
    "<h3>Model Building"
   ]
  },
  {
   "cell_type": "code",
   "execution_count": 114,
   "id": "08efa294",
   "metadata": {},
   "outputs": [],
   "source": [
    "from sklearn.model_selection import train_test_split\n",
    "from sklearn.metrics import mean_absolute_error\n",
    "from sklearn.metrics import mean_squared_error\n",
    "from sklearn.metrics import r2_score\n",
    "from sklearn.linear_model import LinearRegression,Lasso,Ridge\n",
    "from sklearn.ensemble import RandomForestRegressor\n",
    "from sklearn.svm import SVR\n",
    "from sklearn.neighbors import KNeighborsRegressor\n",
    "from sklearn.linear_model import SGDRegressor\n",
    "from sklearn.model_selection import cross_val_score\n",
    "from sklearn import metrics"
   ]
  },
  {
   "cell_type": "markdown",
   "id": "f356beec",
   "metadata": {},
   "source": [
    "<b>Finding best random state"
   ]
  },
  {
   "cell_type": "code",
   "execution_count": 116,
   "id": "badc5c11",
   "metadata": {},
   "outputs": [
    {
     "name": "stdout",
     "output_type": "stream",
     "text": [
      "Best random state is  184 with accuracy  0.8682271756039974\n"
     ]
    }
   ],
   "source": [
    "LR=LinearRegression()\n",
    "maxAccu=0\n",
    "maxRS=0\n",
    "for i in range(0,200):\n",
    "    X_train,X_test,Y_train,Y_test=train_test_split(X,Y,test_size=0.25,random_state=i)\n",
    "    LR.fit(X_train,Y_train)\n",
    "    pred=LR.predict(X_test)\n",
    "    acc=r2_score(Y_test,pred)\n",
    "    if acc>maxAccu:\n",
    "        maxAccu=acc\n",
    "        maxRS=i\n",
    "print('Best random state is ',maxRS,'with accuracy ',maxAccu)"
   ]
  },
  {
   "cell_type": "code",
   "execution_count": 117,
   "id": "6a323160",
   "metadata": {},
   "outputs": [
    {
     "name": "stdout",
     "output_type": "stream",
     "text": [
      "(5064, 17)\n",
      "(1688, 17)\n",
      "(5064,)\n",
      "(1688,)\n"
     ]
    }
   ],
   "source": [
    "#creaating train test split\n",
    "X_train,X_test,Y_train,Y_test=train_test_split(X,Y,test_size=0.25,random_state=186)\n",
    "print(X_train.shape)\n",
    "print(X_test.shape)\n",
    "print(Y_train.shape)\n",
    "print(Y_test.shape)"
   ]
  },
  {
   "cell_type": "code",
   "execution_count": 131,
   "id": "499805e1",
   "metadata": {},
   "outputs": [],
   "source": [
    "CV_S=[]\n",
    "r2=[]"
   ]
  },
  {
   "cell_type": "markdown",
   "id": "7e0b3b7a",
   "metadata": {},
   "source": [
    "<h3>Linear Regression"
   ]
  },
  {
   "cell_type": "code",
   "execution_count": 132,
   "id": "c29372d5",
   "metadata": {},
   "outputs": [
    {
     "name": "stdout",
     "output_type": "stream",
     "text": [
      "R2 Score: 0.8225963653933599\n",
      "MAE: 0.22734015617262984\n",
      "MSE: 0.17199500218552588\n",
      "RMSE: 0.41472280162239195\n",
      "Cross-validation score : 0.3081015962564889\n"
     ]
    }
   ],
   "source": [
    "LR=LinearRegression()\n",
    "LR.fit(X_train,Y_train)\n",
    "\n",
    "#prediction\n",
    "pred_LR=LR.predict(X_test)\n",
    "r2_=r2_score(Y_test,pred_LR)\n",
    "r2.append(r2_)\n",
    "print('R2 Score:',r2_)\n",
    "print('MAE:',mean_absolute_error(Y_test,pred_LR))\n",
    "print('MSE:',mean_squared_error(Y_test,pred_LR))\n",
    "print('RMSE:',np.sqrt(mean_squared_error(Y_test,pred_LR)))\n",
    "\n",
    "#checking cv score for linear regression\n",
    "cv_=cross_val_score(LR,x,y,cv=5).mean()\n",
    "print('Cross-validation score :',cv_)\n",
    "CV_S.append(cv_)"
   ]
  },
  {
   "cell_type": "markdown",
   "id": "7a779e6e",
   "metadata": {},
   "source": [
    "<h3>Random Forest Regressor"
   ]
  },
  {
   "cell_type": "code",
   "execution_count": 133,
   "id": "f45887e9",
   "metadata": {},
   "outputs": [
    {
     "name": "stdout",
     "output_type": "stream",
     "text": [
      "R2 Score: 0.8291358228768037\n",
      "MAE: 0.22632131267348404\n",
      "MSE: 0.1656549178538209\n",
      "RMSE: 0.40700727002575876\n",
      "Cross-validation score : 0.28944501560173963\n"
     ]
    }
   ],
   "source": [
    "RF=RandomForestRegressor()\n",
    "RF.fit(X_train,Y_train)\n",
    "\n",
    "#prediction\n",
    "pred_RF=RF.predict(X_test)\n",
    "r2_=r2_score(Y_test,pred_RF)\n",
    "r2.append(r2_)\n",
    "print('R2 Score:',r2_)\n",
    "print('MAE:',mean_absolute_error(Y_test,pred_RF))\n",
    "print('MSE:',mean_squared_error(Y_test,pred_RF))\n",
    "print('RMSE:',np.sqrt(mean_squared_error(Y_test,pred_RF)))\n",
    "\n",
    "#checking cv score for linear regression\n",
    "cv_=cross_val_score(RF,x,y,cv=5).mean()\n",
    "print('Cross-validation score :',cv_)\n",
    "CV_S.append(cv_)"
   ]
  },
  {
   "cell_type": "markdown",
   "id": "0a7ca0fa",
   "metadata": {},
   "source": [
    "<h3>KNeighbors Regressor"
   ]
  },
  {
   "cell_type": "code",
   "execution_count": 134,
   "id": "45e34f22",
   "metadata": {},
   "outputs": [
    {
     "name": "stdout",
     "output_type": "stream",
     "text": [
      "R2 Score: 0.37419411778571365\n",
      "MAE: 0.5146816044096292\n",
      "MSE: 0.6067264874128593\n",
      "RMSE: 0.7789264967972648\n",
      "Cross-validation score : 0.14344871961568417\n"
     ]
    }
   ],
   "source": [
    "KNN=KNeighborsRegressor()\n",
    "KNN.fit(X_train,Y_train)\n",
    "\n",
    "#prediction\n",
    "pred_KNN=KNN.predict(X_test)\n",
    "r2_=r2_score(Y_test,pred_KNN)\n",
    "r2.append(r2_)\n",
    "print('R2 Score:',r2_)\n",
    "print('MAE:',mean_absolute_error(Y_test,pred_KNN))\n",
    "print('MSE:',mean_squared_error(Y_test,pred_KNN))\n",
    "print('RMSE:',np.sqrt(mean_squared_error(Y_test,pred_KNN)))\n",
    "\n",
    "#checking cv score for linear regression\n",
    "cv_=cross_val_score(KNN,x,y,cv=5).mean()\n",
    "print('Cross-validation score :',cv_)\n",
    "CV_S.append(cv_)"
   ]
  },
  {
   "cell_type": "markdown",
   "id": "6a6621ee",
   "metadata": {},
   "source": [
    "<h3>Support Vector Regressor"
   ]
  },
  {
   "cell_type": "code",
   "execution_count": 135,
   "id": "8dc37418",
   "metadata": {},
   "outputs": [
    {
     "name": "stdout",
     "output_type": "stream",
     "text": [
      "R2 Score: 0.8134640996789646\n",
      "MAE: 0.22395948139070807\n",
      "MSE: 0.18084884593562126\n",
      "RMSE: 0.42526326661918645\n",
      "Cross-validation score : 0.2912376603483347\n"
     ]
    }
   ],
   "source": [
    "svr=SVR()\n",
    "svr.fit(X_train,Y_train)\n",
    "\n",
    "#prediction\n",
    "pred_svr=svr.predict(X_test)\n",
    "r2_=r2_score(Y_test,pred_svr)\n",
    "r2.append(r2_)\n",
    "print('R2 Score:',r2_)\n",
    "print('MAE:',mean_absolute_error(Y_test,pred_svr))\n",
    "print('MSE:',mean_squared_error(Y_test,pred_svr))\n",
    "print('RMSE:',np.sqrt(mean_squared_error(Y_test,pred_svr)))\n",
    "\n",
    "#checking cv score for linear regression\n",
    "cv_=cross_val_score(svr,x,y,cv=5).mean()\n",
    "print('Cross-validation score :',cv_)\n",
    "CV_S.append(cv_)"
   ]
  },
  {
   "cell_type": "markdown",
   "id": "2d18ac4d",
   "metadata": {},
   "source": [
    "<h3>SGD Regressor"
   ]
  },
  {
   "cell_type": "code",
   "execution_count": 136,
   "id": "dc1ca0a9",
   "metadata": {},
   "outputs": [
    {
     "name": "stdout",
     "output_type": "stream",
     "text": [
      "R2 Score: 0.8163509388818897\n",
      "MAE: 0.239240603855943\n",
      "MSE: 0.1780500198793384\n",
      "RMSE: 0.4219597372728095\n",
      "Cross-validation score : 0.28034201012905186\n"
     ]
    }
   ],
   "source": [
    "sg=SGDRegressor()\n",
    "sg.fit(X_train,Y_train)\n",
    "\n",
    "#prediction\n",
    "pred_sg=sg.predict(X_test)\n",
    "r2_=r2_score(Y_test,pred_sg)\n",
    "r2.append(r2_)\n",
    "print('R2 Score:',r2_)\n",
    "print('MAE:',mean_absolute_error(Y_test,pred_sg))\n",
    "print('MSE:',mean_squared_error(Y_test,pred_sg))\n",
    "print('RMSE:',np.sqrt(mean_squared_error(Y_test,pred_sg)))\n",
    "\n",
    "#checking cv score for linear regression\n",
    "cv_=cross_val_score(sg,x,y,cv=5).mean()\n",
    "print('Cross-validation score :',cv_)\n",
    "CV_S.append(cv_)"
   ]
  },
  {
   "cell_type": "markdown",
   "id": "4645f49c",
   "metadata": {},
   "source": [
    "<h3>Lasso"
   ]
  },
  {
   "cell_type": "code",
   "execution_count": 144,
   "id": "7663b5b9",
   "metadata": {},
   "outputs": [
    {
     "name": "stdout",
     "output_type": "stream",
     "text": [
      "R2 Score: -0.0003159182457812548\n",
      "MAE: 0.8225729044683973\n",
      "MSE: 0.9698185661550124\n",
      "RMSE: 0.9847936667927005\n",
      "Cross-validation score : -0.004879800238143206\n"
     ]
    }
   ],
   "source": [
    "ls=Lasso()\n",
    "ls.fit(X_train,Y_train)\n",
    "\n",
    "#prediction\n",
    "pred_ls=ls.predict(X_test)\n",
    "r2_=r2_score(Y_test,pred_ls)\n",
    "r2.append(r2_)\n",
    "print('R2 Score:',r2_)\n",
    "print('MAE:',mean_absolute_error(Y_test,pred_ls))\n",
    "print('MSE:',mean_squared_error(Y_test,pred_ls))\n",
    "print('RMSE:',np.sqrt(mean_squared_error(Y_test,pred_ls)))\n",
    "\n",
    "#checking cv score for linear regression\n",
    "cv_=cross_val_score(ls,x,y,cv=5).mean()\n",
    "print('Cross-validation score :',cv_)\n",
    "CV_S.append(cv_)"
   ]
  },
  {
   "cell_type": "markdown",
   "id": "12c87ac3",
   "metadata": {},
   "source": [
    "<h2>Cross Validation"
   ]
  },
  {
   "cell_type": "code",
   "execution_count": 141,
   "id": "89ee46a2",
   "metadata": {},
   "outputs": [
    {
     "data": {
      "text/html": [
       "<div>\n",
       "<style scoped>\n",
       "    .dataframe tbody tr th:only-of-type {\n",
       "        vertical-align: middle;\n",
       "    }\n",
       "\n",
       "    .dataframe tbody tr th {\n",
       "        vertical-align: top;\n",
       "    }\n",
       "\n",
       "    .dataframe thead th {\n",
       "        text-align: right;\n",
       "    }\n",
       "</style>\n",
       "<table border=\"1\" class=\"dataframe\">\n",
       "  <thead>\n",
       "    <tr style=\"text-align: right;\">\n",
       "      <th></th>\n",
       "      <th>Model</th>\n",
       "      <th>R2 Score</th>\n",
       "      <th>CV Score</th>\n",
       "      <th>Difference</th>\n",
       "    </tr>\n",
       "  </thead>\n",
       "  <tbody>\n",
       "    <tr>\n",
       "      <th>5</th>\n",
       "      <td>Lasso()</td>\n",
       "      <td>-0.000316</td>\n",
       "      <td>-0.004880</td>\n",
       "      <td>0.004564</td>\n",
       "    </tr>\n",
       "    <tr>\n",
       "      <th>2</th>\n",
       "      <td>KNeighborsRegressor()</td>\n",
       "      <td>0.374194</td>\n",
       "      <td>0.143449</td>\n",
       "      <td>0.230745</td>\n",
       "    </tr>\n",
       "    <tr>\n",
       "      <th>0</th>\n",
       "      <td>LinearRegression()</td>\n",
       "      <td>0.822596</td>\n",
       "      <td>0.308102</td>\n",
       "      <td>0.514495</td>\n",
       "    </tr>\n",
       "    <tr>\n",
       "      <th>3</th>\n",
       "      <td>SVR()</td>\n",
       "      <td>0.813464</td>\n",
       "      <td>0.291238</td>\n",
       "      <td>0.522226</td>\n",
       "    </tr>\n",
       "    <tr>\n",
       "      <th>4</th>\n",
       "      <td>SGDRegressor()</td>\n",
       "      <td>0.816351</td>\n",
       "      <td>0.280342</td>\n",
       "      <td>0.536009</td>\n",
       "    </tr>\n",
       "    <tr>\n",
       "      <th>1</th>\n",
       "      <td>(DecisionTreeRegressor(max_features='auto', ra...</td>\n",
       "      <td>0.829136</td>\n",
       "      <td>0.289445</td>\n",
       "      <td>0.539691</td>\n",
       "    </tr>\n",
       "  </tbody>\n",
       "</table>\n",
       "</div>"
      ],
      "text/plain": [
       "                                               Model  R2 Score  CV Score  \\\n",
       "5                                            Lasso() -0.000316 -0.004880   \n",
       "2                              KNeighborsRegressor()  0.374194  0.143449   \n",
       "0                                 LinearRegression()  0.822596  0.308102   \n",
       "3                                              SVR()  0.813464  0.291238   \n",
       "4                                     SGDRegressor()  0.816351  0.280342   \n",
       "1  (DecisionTreeRegressor(max_features='auto', ra...  0.829136  0.289445   \n",
       "\n",
       "   Difference  \n",
       "5    0.004564  \n",
       "2    0.230745  \n",
       "0    0.514495  \n",
       "3    0.522226  \n",
       "4    0.536009  \n",
       "1    0.539691  "
      ]
     },
     "execution_count": 141,
     "metadata": {},
     "output_type": "execute_result"
    }
   ],
   "source": [
    "model=[LR,RF,KNN,svr,sg,ls]\n",
    "regression=pd.DataFrame()\n",
    "regression['Model']=model\n",
    "regression['R2 Score']=r2\n",
    "regression['CV Score']=CV_S\n",
    "regression['Difference']=[r2[0]-CV_S[0],r2[1]-CV_S[1],r2[2]-CV_S[2],r2[3]-CV_S[3],r2[4]-CV_S[4],r2[5]-CV_S[5]]\n",
    "regression.sort_values(by='Difference')"
   ]
  },
  {
   "cell_type": "markdown",
   "id": "afbfa376",
   "metadata": {},
   "source": [
    "From above cross validation Linear Regression is best model."
   ]
  },
  {
   "cell_type": "markdown",
   "id": "5bf98d34",
   "metadata": {},
   "source": [
    "I've Skipped hyperparameter tuning as there are no such parameters in linear regression to tune."
   ]
  },
  {
   "cell_type": "code",
   "execution_count": 147,
   "id": "7da20a5c",
   "metadata": {},
   "outputs": [
    {
     "data": {
      "image/png": "[encoded data removed]",
      "text/plain": [
       "<Figure size 576x432 with 1 Axes>"
      ]
     },
     "metadata": {
      "needs_background": "light"
     },
     "output_type": "display_data"
    }
   ],
   "source": [
    "plt.figure(figsize=(8,6))\n",
    "plt.scatter(Y_test,pred_LR,color='r')\n",
    "plt.plot(Y_test,Y_test,color='b')\n",
    "plt.xlabel('Actual ',fontsize=14)\n",
    "plt.ylabel('Predicted ',fontsize=14)\n",
    "plt.title('Linear Regression' ,fontsize=18)\n",
    "plt.show()"
   ]
  },
  {
   "cell_type": "markdown",
   "id": "ebb11eff",
   "metadata": {},
   "source": [
    "<b>Saving The model"
   ]
  },
  {
   "cell_type": "code",
   "execution_count": 149,
   "id": "329075b0",
   "metadata": {
    "scrolled": true
   },
   "outputs": [
    {
     "data": {
      "text/plain": [
       "['Weather-regression.pkl']"
      ]
     },
     "execution_count": 149,
     "metadata": {},
     "output_type": "execute_result"
    }
   ],
   "source": [
    "joblib.dump(LR,'Weather-regression.pkl')"
   ]
  },
  {
   "cell_type": "code",
   "execution_count": null,
   "id": "eedd8292",
   "metadata": {},
   "outputs": [],
   "source": []
  }
 ],
 "metadata": {
  "kernelspec": {
   "display_name": "Python 3 (ipykernel)",
   "language": "python",
   "name": "python3"
  },
  "language_info": {
   "codemirror_mode": {
    "name": "ipython",
    "version": 3
   },
   "file_extension": ".py",
   "mimetype": "text/x-python",
   "name": "python",
   "nbconvert_exporter": "python",
   "pygments_lexer": "ipython3",
   "version": "3.10.2"
  }
 },
 "nbformat": 4,
 "nbformat_minor": 5
}
