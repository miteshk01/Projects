{
 "cells": [
  {
   "cell_type": "code",
   "execution_count": 1,
   "id": "73ce0df0",
   "metadata": {},
   "outputs": [],
   "source": [
    "import pandas as pd \n",
    "import numpy as np\n",
    "import matplotlib.pyplot as plt\n",
    "import seaborn as sns\n",
    "\n",
    "import warnings\n",
    "warnings.filterwarnings('ignore')"
   ]
  },
  {
   "cell_type": "markdown",
   "id": "7c38cf1b",
   "metadata": {},
   "source": [
    "<H1>Loading the dataset"
   ]
  },
  {
   "cell_type": "code",
   "execution_count": 2,
   "id": "3db2621c",
   "metadata": {},
   "outputs": [
    {
     "data": {
      "text/html": [
       "<div>\n",
       "<style scoped>\n",
       "    .dataframe tbody tr th:only-of-type {\n",
       "        vertical-align: middle;\n",
       "    }\n",
       "\n",
       "    .dataframe tbody tr th {\n",
       "        vertical-align: top;\n",
       "    }\n",
       "\n",
       "    .dataframe thead th {\n",
       "        text-align: right;\n",
       "    }\n",
       "</style>\n",
       "<table border=\"1\" class=\"dataframe\">\n",
       "  <thead>\n",
       "    <tr style=\"text-align: right;\">\n",
       "      <th></th>\n",
       "      <th>Loan_ID</th>\n",
       "      <th>Gender</th>\n",
       "      <th>Married</th>\n",
       "      <th>Dependents</th>\n",
       "      <th>Education</th>\n",
       "      <th>Self_Employed</th>\n",
       "      <th>ApplicantIncome</th>\n",
       "      <th>CoapplicantIncome</th>\n",
       "      <th>LoanAmount</th>\n",
       "      <th>Loan_Amount_Term</th>\n",
       "      <th>Credit_History</th>\n",
       "      <th>Property_Area</th>\n",
       "      <th>Loan_Status</th>\n",
       "    </tr>\n",
       "  </thead>\n",
       "  <tbody>\n",
       "    <tr>\n",
       "      <th>0</th>\n",
       "      <td>LP001002</td>\n",
       "      <td>Male</td>\n",
       "      <td>No</td>\n",
       "      <td>0</td>\n",
       "      <td>Graduate</td>\n",
       "      <td>No</td>\n",
       "      <td>5849</td>\n",
       "      <td>0.0</td>\n",
       "      <td>NaN</td>\n",
       "      <td>360.0</td>\n",
       "      <td>1.0</td>\n",
       "      <td>Urban</td>\n",
       "      <td>Y</td>\n",
       "    </tr>\n",
       "    <tr>\n",
       "      <th>1</th>\n",
       "      <td>LP001003</td>\n",
       "      <td>Male</td>\n",
       "      <td>Yes</td>\n",
       "      <td>1</td>\n",
       "      <td>Graduate</td>\n",
       "      <td>No</td>\n",
       "      <td>4583</td>\n",
       "      <td>1508.0</td>\n",
       "      <td>128.0</td>\n",
       "      <td>360.0</td>\n",
       "      <td>1.0</td>\n",
       "      <td>Rural</td>\n",
       "      <td>N</td>\n",
       "    </tr>\n",
       "    <tr>\n",
       "      <th>2</th>\n",
       "      <td>LP001005</td>\n",
       "      <td>Male</td>\n",
       "      <td>Yes</td>\n",
       "      <td>0</td>\n",
       "      <td>Graduate</td>\n",
       "      <td>Yes</td>\n",
       "      <td>3000</td>\n",
       "      <td>0.0</td>\n",
       "      <td>66.0</td>\n",
       "      <td>360.0</td>\n",
       "      <td>1.0</td>\n",
       "      <td>Urban</td>\n",
       "      <td>Y</td>\n",
       "    </tr>\n",
       "    <tr>\n",
       "      <th>3</th>\n",
       "      <td>LP001006</td>\n",
       "      <td>Male</td>\n",
       "      <td>Yes</td>\n",
       "      <td>0</td>\n",
       "      <td>Not Graduate</td>\n",
       "      <td>No</td>\n",
       "      <td>2583</td>\n",
       "      <td>2358.0</td>\n",
       "      <td>120.0</td>\n",
       "      <td>360.0</td>\n",
       "      <td>1.0</td>\n",
       "      <td>Urban</td>\n",
       "      <td>Y</td>\n",
       "    </tr>\n",
       "    <tr>\n",
       "      <th>4</th>\n",
       "      <td>LP001008</td>\n",
       "      <td>Male</td>\n",
       "      <td>No</td>\n",
       "      <td>0</td>\n",
       "      <td>Graduate</td>\n",
       "      <td>No</td>\n",
       "      <td>6000</td>\n",
       "      <td>0.0</td>\n",
       "      <td>141.0</td>\n",
       "      <td>360.0</td>\n",
       "      <td>1.0</td>\n",
       "      <td>Urban</td>\n",
       "      <td>Y</td>\n",
       "    </tr>\n",
       "  </tbody>\n",
       "</table>\n",
       "</div>"
      ],
      "text/plain": [
       "    Loan_ID Gender Married Dependents     Education Self_Employed  \\\n",
       "0  LP001002   Male      No          0      Graduate            No   \n",
       "1  LP001003   Male     Yes          1      Graduate            No   \n",
       "2  LP001005   Male     Yes          0      Graduate           Yes   \n",
       "3  LP001006   Male     Yes          0  Not Graduate            No   \n",
       "4  LP001008   Male      No          0      Graduate            No   \n",
       "\n",
       "   ApplicantIncome  CoapplicantIncome  LoanAmount  Loan_Amount_Term  \\\n",
       "0             5849                0.0         NaN             360.0   \n",
       "1             4583             1508.0       128.0             360.0   \n",
       "2             3000                0.0        66.0             360.0   \n",
       "3             2583             2358.0       120.0             360.0   \n",
       "4             6000                0.0       141.0             360.0   \n",
       "\n",
       "   Credit_History Property_Area Loan_Status  \n",
       "0             1.0         Urban           Y  \n",
       "1             1.0         Rural           N  \n",
       "2             1.0         Urban           Y  \n",
       "3             1.0         Urban           Y  \n",
       "4             1.0         Urban           Y  "
      ]
     },
     "execution_count": 2,
     "metadata": {},
     "output_type": "execute_result"
    }
   ],
   "source": [
    "df=pd.read_csv('loan_prediction.csv')\n",
    "df.head()"
   ]
  },
  {
   "cell_type": "code",
   "execution_count": 3,
   "id": "ed1c0825",
   "metadata": {},
   "outputs": [
    {
     "data": {
      "text/plain": [
       "(614, 13)"
      ]
     },
     "execution_count": 3,
     "metadata": {},
     "output_type": "execute_result"
    }
   ],
   "source": [
    "df.shape"
   ]
  },
  {
   "cell_type": "markdown",
   "id": "48d81982",
   "metadata": {},
   "source": [
    "There are 13 columns of features and 614 rows of records in the dataset. "
   ]
  },
  {
   "cell_type": "code",
   "execution_count": 4,
   "id": "a983cba6",
   "metadata": {},
   "outputs": [
    {
     "data": {
      "text/plain": [
       "Index(['Loan_ID', 'Gender', 'Married', 'Dependents', 'Education',\n",
       "       'Self_Employed', 'ApplicantIncome', 'CoapplicantIncome', 'LoanAmount',\n",
       "       'Loan_Amount_Term', 'Credit_History', 'Property_Area', 'Loan_Status'],\n",
       "      dtype='object')"
      ]
     },
     "execution_count": 4,
     "metadata": {},
     "output_type": "execute_result"
    }
   ],
   "source": [
    "df.columns"
   ]
  },
  {
   "cell_type": "code",
   "execution_count": 5,
   "id": "99c3f93d",
   "metadata": {},
   "outputs": [
    {
     "name": "stdout",
     "output_type": "stream",
     "text": [
      "<class 'pandas.core.frame.DataFrame'>\n",
      "RangeIndex: 614 entries, 0 to 613\n",
      "Data columns (total 13 columns):\n",
      " #   Column             Non-Null Count  Dtype  \n",
      "---  ------             --------------  -----  \n",
      " 0   Loan_ID            614 non-null    object \n",
      " 1   Gender             601 non-null    object \n",
      " 2   Married            611 non-null    object \n",
      " 3   Dependents         599 non-null    object \n",
      " 4   Education          614 non-null    object \n",
      " 5   Self_Employed      582 non-null    object \n",
      " 6   ApplicantIncome    614 non-null    int64  \n",
      " 7   CoapplicantIncome  614 non-null    float64\n",
      " 8   LoanAmount         592 non-null    float64\n",
      " 9   Loan_Amount_Term   600 non-null    float64\n",
      " 10  Credit_History     564 non-null    float64\n",
      " 11  Property_Area      614 non-null    object \n",
      " 12  Loan_Status        614 non-null    object \n",
      "dtypes: float64(4), int64(1), object(8)\n",
      "memory usage: 62.5+ KB\n"
     ]
    }
   ],
   "source": [
    "df.info()"
   ]
  },
  {
   "cell_type": "markdown",
   "id": "4dd2c04e",
   "metadata": {},
   "source": [
    "There are three types of data is dataset:\n",
    "<li><b>object</b>: Object format means variables are categorical. Categorical variables in our dataset are: Loan_ID, Gender, Married, Dependents, Education, Self_Employed, Property_Area, Loan_Status\n",
    "<li><b>int64</b>:  It represents the integer variables. ApplicantIncome is of this format.\n",
    "<li><b>float64</b>: It represents the variable which have some decimal values involved. They are also numerical variables. Numerical variables in our dataset are: CoapplicantIncome, LoanAmount, Loan_Amount_Term, and Credit_History."
   ]
  },
  {
   "cell_type": "code",
   "execution_count": 6,
   "id": "f2349046",
   "metadata": {},
   "outputs": [
    {
     "data": {
      "text/plain": [
       "Loan_ID               0\n",
       "Gender               13\n",
       "Married               3\n",
       "Dependents           15\n",
       "Education             0\n",
       "Self_Employed        32\n",
       "ApplicantIncome       0\n",
       "CoapplicantIncome     0\n",
       "LoanAmount           22\n",
       "Loan_Amount_Term     14\n",
       "Credit_History       50\n",
       "Property_Area         0\n",
       "Loan_Status           0\n",
       "dtype: int64"
      ]
     },
     "execution_count": 6,
     "metadata": {},
     "output_type": "execute_result"
    }
   ],
   "source": [
    "df.isnull().sum()"
   ]
  },
  {
   "cell_type": "markdown",
   "id": "716fb805",
   "metadata": {},
   "source": [
    "From above we can see that,there are null values present in dataset."
   ]
  },
  {
   "cell_type": "markdown",
   "id": "32eb8052",
   "metadata": {},
   "source": [
    "<b>Handling the missing values"
   ]
  },
  {
   "cell_type": "code",
   "execution_count": 7,
   "id": "65403ec6",
   "metadata": {},
   "outputs": [],
   "source": [
    "#Filling missing values witg mode\n",
    "df['Gender'].fillna(df['Gender'].mode()[0],inplace=True)\n",
    "df['Married'].fillna(df['Married'].mode()[0],inplace=True)\n",
    "df['Dependents'].fillna(df['Dependents'].mode()[0],inplace=True)\n",
    "df['Self_Employed'].fillna(df['Self_Employed'].mode()[0],inplace=True)\n",
    "df['Credit_History'].fillna(df['Credit_History'].mode()[0],inplace=True)"
   ]
  },
  {
   "cell_type": "code",
   "execution_count": 8,
   "id": "a08eddbb",
   "metadata": {},
   "outputs": [
    {
     "data": {
      "text/plain": [
       "360.0    512\n",
       "180.0     44\n",
       "480.0     15\n",
       "300.0     13\n",
       "240.0      4\n",
       "84.0       4\n",
       "120.0      3\n",
       "60.0       2\n",
       "36.0       2\n",
       "12.0       1\n",
       "Name: Loan_Amount_Term, dtype: int64"
      ]
     },
     "execution_count": 8,
     "metadata": {},
     "output_type": "execute_result"
    }
   ],
   "source": [
    "df['Loan_Amount_Term'].value_counts()"
   ]
  },
  {
   "cell_type": "markdown",
   "id": "63220d73",
   "metadata": {},
   "source": [
    "In Loan Amount Term Variable,value 360 is repeated the most so we will use mode to replace null values."
   ]
  },
  {
   "cell_type": "code",
   "execution_count": 9,
   "id": "36f8df23",
   "metadata": {},
   "outputs": [],
   "source": [
    "df['Loan_Amount_Term'].fillna(df['Loan_Amount_Term'].mode()[0],inplace=True)"
   ]
  },
  {
   "cell_type": "code",
   "execution_count": 10,
   "id": "d8f8acad",
   "metadata": {},
   "outputs": [],
   "source": [
    "df['LoanAmount'].fillna(df['LoanAmount'].median(),inplace=True)"
   ]
  },
  {
   "cell_type": "code",
   "execution_count": 11,
   "id": "6f1ccb95",
   "metadata": {},
   "outputs": [
    {
     "data": {
      "text/plain": [
       "Loan_ID              0\n",
       "Gender               0\n",
       "Married              0\n",
       "Dependents           0\n",
       "Education            0\n",
       "Self_Employed        0\n",
       "ApplicantIncome      0\n",
       "CoapplicantIncome    0\n",
       "LoanAmount           0\n",
       "Loan_Amount_Term     0\n",
       "Credit_History       0\n",
       "Property_Area        0\n",
       "Loan_Status          0\n",
       "dtype: int64"
      ]
     },
     "execution_count": 11,
     "metadata": {},
     "output_type": "execute_result"
    }
   ],
   "source": [
    "df.isnull().sum()"
   ]
  },
  {
   "cell_type": "markdown",
   "id": "e092403d",
   "metadata": {},
   "source": [
    "Now there are no null values are present in dataset."
   ]
  },
  {
   "cell_type": "markdown",
   "id": "d96ddcbd",
   "metadata": {},
   "source": [
    "<H1> Exploratory Data Analysis"
   ]
  },
  {
   "cell_type": "markdown",
   "id": "89637ace",
   "metadata": {},
   "source": [
    "<B>Target Variable"
   ]
  },
  {
   "cell_type": "markdown",
   "id": "56400a09",
   "metadata": {},
   "source": [
    "Our target variable i.e.'Loan_Status' is categorical.So we will look at its frequency,percentage distribution and bar plot."
   ]
  },
  {
   "cell_type": "code",
   "execution_count": 12,
   "id": "a4f0280f",
   "metadata": {},
   "outputs": [
    {
     "data": {
      "text/plain": [
       "Y    422\n",
       "N    192\n",
       "Name: Loan_Status, dtype: int64"
      ]
     },
     "execution_count": 12,
     "metadata": {},
     "output_type": "execute_result"
    }
   ],
   "source": [
    "df['Loan_Status'].value_counts()"
   ]
  },
  {
   "cell_type": "code",
   "execution_count": 13,
   "id": "0c84ce4e",
   "metadata": {},
   "outputs": [
    {
     "data": {
      "text/plain": [
       "Y    0.687296\n",
       "N    0.312704\n",
       "Name: Loan_Status, dtype: float64"
      ]
     },
     "execution_count": 13,
     "metadata": {},
     "output_type": "execute_result"
    }
   ],
   "source": [
    "df['Loan_Status'].value_counts(normalize=True)"
   ]
  },
  {
   "cell_type": "code",
   "execution_count": 14,
   "id": "e79c69ae",
   "metadata": {},
   "outputs": [
    {
     "data": {
      "text/plain": [
       "<AxesSubplot:xlabel='Loan_Status', ylabel='count'>"
      ]
     },
     "execution_count": 14,
     "metadata": {},
     "output_type": "execute_result"
    },
    {
     "data": {
      "image/png": "[encoded data removed]",
      "text/plain": [
       "<Figure size 432x288 with 1 Axes>"
      ]
     },
     "metadata": {
      "needs_background": "light"
     },
     "output_type": "display_data"
    }
   ],
   "source": [
    "sns.countplot('Loan_Status',data=df)"
   ]
  },
  {
   "cell_type": "markdown",
   "id": "55b565b4",
   "metadata": {},
   "source": [
    "The loan of around 422(69%) applicants out of 614 was approved.There is no imbalanced classes problem with the target varible."
   ]
  },
  {
   "cell_type": "markdown",
   "id": "e1c69e87",
   "metadata": {},
   "source": [
    "<B>Independent Features (Categorical)"
   ]
  },
  {
   "cell_type": "markdown",
   "id": "075d6ad1",
   "metadata": {},
   "source": [
    "There are 5 features that are categorical or binary (Gender,Married,Self_Employed,Credit_History,Education).\n"
   ]
  },
  {
   "cell_type": "code",
   "execution_count": 15,
   "id": "76a77d54",
   "metadata": {},
   "outputs": [
    {
     "data": {
      "image/png": "[encoded data removed]",
      "text/plain": [
       "<Figure size 1440x720 with 5 Axes>"
      ]
     },
     "metadata": {
      "needs_background": "light"
     },
     "output_type": "display_data"
    }
   ],
   "source": [
    "#visualizing catrgotical features\n",
    "\n",
    "plt.subplot(231)\n",
    "df['Gender'].value_counts(normalize=True).plot.bar(figsize=(20,10))\n",
    "\n",
    "plt.subplot(232)\n",
    "df['Married'].value_counts(normalize=True).plot.bar()\n",
    "\n",
    "plt.subplot(233)\n",
    "df['Self_Employed'].value_counts(normalize=True).plot.bar()\n",
    "\n",
    "plt.subplot(234)\n",
    "df['Credit_History'].value_counts(normalize=True).plot.bar()\n",
    "\n",
    "plt.subplot(235)\n",
    "df['Education'].value_counts(normalize=True).plot.bar()\n",
    "\n",
    "plt.show()"
   ]
  },
  {
   "cell_type": "markdown",
   "id": "b9e48898",
   "metadata": {},
   "source": [
    "From above plots:\n",
    "+ 80% of the applicants are male.\n",
    "+ Around 65% of the applicants are married.\n",
    "+ Only 15% of the applicants are self employed.\n",
    "+ Around 85% of the applicants have credit history.\n",
    "+ Around 80% of applicants are graduate."
   ]
  },
  {
   "cell_type": "markdown",
   "id": "f41fd34c",
   "metadata": {},
   "source": [
    "<b>Independent Variable (Ordinal)"
   ]
  },
  {
   "cell_type": "markdown",
   "id": "927645a7",
   "metadata": {},
   "source": [
    "There are 2 ordinal variables.(Dependents and Property_Area)"
   ]
  },
  {
   "cell_type": "code",
   "execution_count": 16,
   "id": "e4f6ffb1",
   "metadata": {},
   "outputs": [
    {
     "data": {
      "image/png": "[encoded data removed]",
      "text/plain": [
       "<Figure size 864x288 with 2 Axes>"
      ]
     },
     "metadata": {
      "needs_background": "light"
     },
     "output_type": "display_data"
    }
   ],
   "source": [
    "#visualizing ordinal features\n",
    "\n",
    "plt.subplot(121)\n",
    "df['Dependents'].value_counts(normalize=True).plot(kind='bar',figsize=(12,4))\n",
    "\n",
    "plt.subplot(122)\n",
    "df['Property_Area'].value_counts(normalize=True).plot(kind='bar')\n",
    "\n",
    "plt.show()"
   ]
  },
  {
   "cell_type": "markdown",
   "id": "8ab8fb38",
   "metadata": {},
   "source": [
    "Inferences made from above bar plots are:\n",
    "+ Most of applicants have no dependents.\n",
    "+ Most applicants are from suburban area."
   ]
  },
  {
   "cell_type": "markdown",
   "id": "e7fc81f2",
   "metadata": {},
   "source": [
    "<b>Independent Features (Numerical).\n",
    "\n",
    "There are 4 numerical features (ApplicantIncome, CoapplicantIncome, LoanAmount, Loan_Amount_Term)\n"
   ]
  },
  {
   "cell_type": "code",
   "execution_count": 17,
   "id": "656987f5",
   "metadata": {},
   "outputs": [
    {
     "data": {
      "image/png": "[encoded data removed]",
      "text/plain": [
       "<Figure size 1080x720 with 4 Axes>"
      ]
     },
     "metadata": {
      "needs_background": "light"
     },
     "output_type": "display_data"
    }
   ],
   "source": [
    "#distribution of numerical fetures\n",
    "numerical=['ApplicantIncome','CoapplicantIncome','LoanAmount','Loan_Amount_Term']\n",
    "n=1\n",
    "plt.figure(figsize=(15,10))\n",
    "for col in numerical:\n",
    "    if n<=4:\n",
    "        ax=plt.subplot(2,2,n)\n",
    "        sns.distplot(df[col])\n",
    "        plt.xlabel(col,fontsize=12)\n",
    "    n+=1\n",
    "plt.show()"
   ]
  },
  {
   "cell_type": "markdown",
   "id": "39dac7de",
   "metadata": {},
   "source": [
    "We can see that the columns ApplicantIncome, CoapplicantIncome and LoanAmount are skewed towards left.It means they are not normally distributed.We will make it normal in later sections."
   ]
  },
  {
   "cell_type": "code",
   "execution_count": 18,
   "id": "936acd2e",
   "metadata": {},
   "outputs": [
    {
     "data": {
      "image/png": "[encoded data removed]",
      "text/plain": [
       "<Figure size 1080x720 with 3 Axes>"
      ]
     },
     "metadata": {
      "needs_background": "light"
     },
     "output_type": "display_data"
    }
   ],
   "source": [
    "n=1\n",
    "plt.figure(figsize=(15,10))\n",
    "for col in numerical:\n",
    "    if n<4:\n",
    "        ax=plt.subplot(2,2,n)\n",
    "        plt.boxplot(df[col])\n",
    "        plt.xlabel(col,fontsize=12)\n",
    "    n+=1\n",
    "plt.show()"
   ]
  },
  {
   "cell_type": "markdown",
   "id": "d87bd118",
   "metadata": {},
   "source": [
    "We can see that there are outleiers present in the dataset.We will remove outliers in later sections."
   ]
  },
  {
   "cell_type": "code",
   "execution_count": 19,
   "id": "36bb1b60",
   "metadata": {},
   "outputs": [
    {
     "data": {
      "text/plain": [
       "360.0    526\n",
       "180.0     44\n",
       "480.0     15\n",
       "300.0     13\n",
       "240.0      4\n",
       "84.0       4\n",
       "120.0      3\n",
       "60.0       2\n",
       "36.0       2\n",
       "12.0       1\n",
       "Name: Loan_Amount_Term, dtype: int64"
      ]
     },
     "execution_count": 19,
     "metadata": {},
     "output_type": "execute_result"
    }
   ],
   "source": [
    "df['Loan_Amount_Term'].value_counts()"
   ]
  },
  {
   "cell_type": "code",
   "execution_count": 20,
   "id": "25bd997b",
   "metadata": {},
   "outputs": [
    {
     "data": {
      "text/plain": [
       "<AxesSubplot:title={'center':'Loan Amount Term'}>"
      ]
     },
     "execution_count": 20,
     "metadata": {},
     "output_type": "execute_result"
    },
    {
     "data": {
      "image/png": "[encoded data removed]",
      "text/plain": [
       "<Figure size 432x288 with 1 Axes>"
      ]
     },
     "metadata": {
      "needs_background": "light"
     },
     "output_type": "display_data"
    }
   ],
   "source": [
    "df['Loan_Amount_Term'].value_counts(normalize=True).plot.bar(title='Loan Amount Term')"
   ]
  },
  {
   "cell_type": "markdown",
   "id": "0f800316",
   "metadata": {},
   "source": [
    "Around 85% of the applicants choose 360 months term or 30 years period."
   ]
  },
  {
   "cell_type": "markdown",
   "id": "2a343306",
   "metadata": {},
   "source": [
    " "
   ]
  },
  {
   "cell_type": "markdown",
   "id": "7fc6189b",
   "metadata": {},
   "source": [
    "<b>Categorical Independent Features vs Target Variable"
   ]
  },
  {
   "cell_type": "code",
   "execution_count": 21,
   "id": "f8c4e677",
   "metadata": {},
   "outputs": [
    {
     "name": "stdout",
     "output_type": "stream",
     "text": [
      "Loan_Status    N    Y\n",
      "Gender               \n",
      "Female        37   75\n",
      "Male         155  347\n"
     ]
    },
    {
     "data": {
      "image/png": "[encoded data removed]",
      "text/plain": [
       "<Figure size 288x288 with 1 Axes>"
      ]
     },
     "metadata": {
      "needs_background": "light"
     },
     "output_type": "display_data"
    }
   ],
   "source": [
    "Gender=pd.crosstab(df['Gender'],df['Loan_Status'])\n",
    "print(Gender)\n",
    "Gender.div(Gender.sum(1).astype(float), axis = 0).plot(kind='bar',stacked=True,figsize=(4,4))\n",
    "plt.xlabel('Gender')\n",
    "plt.ylabel('Percentage')\n",
    "plt.show()"
   ]
  },
  {
   "cell_type": "code",
   "execution_count": 22,
   "id": "aacae5d2",
   "metadata": {},
   "outputs": [
    {
     "name": "stdout",
     "output_type": "stream",
     "text": [
      "Loan_Status    N    Y\n",
      "Married              \n",
      "No            79  134\n",
      "Yes          113  288\n"
     ]
    },
    {
     "data": {
      "image/png": "[encoded data removed]",
      "text/plain": [
       "<Figure size 288x288 with 1 Axes>"
      ]
     },
     "metadata": {
      "needs_background": "light"
     },
     "output_type": "display_data"
    }
   ],
   "source": [
    "Married=pd.crosstab(df['Married'],df['Loan_Status'])\n",
    "print(Married)\n",
    "Married.div(Married.sum(1).astype(float), axis = 0).plot(kind='bar',stacked=True,figsize=(4,4))\n",
    "plt.xlabel('Married')\n",
    "plt.ylabel('Percentage')\n",
    "plt.show()"
   ]
  },
  {
   "cell_type": "code",
   "execution_count": 23,
   "id": "5cc0533d",
   "metadata": {},
   "outputs": [
    {
     "name": "stdout",
     "output_type": "stream",
     "text": [
      "Loan_Status    N    Y\n",
      "Dependents           \n",
      "0            113  247\n",
      "1             36   66\n",
      "2             25   76\n",
      "3+            18   33\n"
     ]
    },
    {
     "data": {
      "image/png": "[encoded data removed]",
      "text/plain": [
       "<Figure size 432x288 with 1 Axes>"
      ]
     },
     "metadata": {
      "needs_background": "light"
     },
     "output_type": "display_data"
    }
   ],
   "source": [
    "Dependents=pd.crosstab(df['Dependents'],df['Loan_Status'])\n",
    "print(Dependents)\n",
    "Dependents.div(Dependents.sum(1).astype(float), axis = 0).plot(kind='bar',stacked=True,figsize=(6,4))\n",
    "plt.xlabel('Dependents')\n",
    "plt.ylabel('Percentage')\n",
    "plt.show()"
   ]
  },
  {
   "cell_type": "code",
   "execution_count": 24,
   "id": "b81af7d7",
   "metadata": {},
   "outputs": [
    {
     "name": "stdout",
     "output_type": "stream",
     "text": [
      "Loan_Status      N    Y\n",
      "Self_Employed          \n",
      "No             166  366\n",
      "Yes             26   56\n"
     ]
    },
    {
     "data": {
      "image/png": "[encoded data removed]",
      "text/plain": [
       "<Figure size 288x288 with 1 Axes>"
      ]
     },
     "metadata": {
      "needs_background": "light"
     },
     "output_type": "display_data"
    }
   ],
   "source": [
    "self_emp=pd.crosstab(df['Self_Employed'],df['Loan_Status'])\n",
    "print(self_emp)\n",
    "self_emp.div(self_emp.sum(1).astype(float), axis = 0).plot(kind='bar',stacked=True,figsize=(4,4))\n",
    "plt.xlabel('Self Employed')\n",
    "plt.ylabel('Percentage')\n",
    "plt.show()"
   ]
  },
  {
   "cell_type": "code",
   "execution_count": 25,
   "id": "fd6f9316",
   "metadata": {},
   "outputs": [
    {
     "name": "stdout",
     "output_type": "stream",
     "text": [
      "Loan_Status     N    Y\n",
      "Education             \n",
      "Graduate      140  340\n",
      "Not Graduate   52   82\n"
     ]
    },
    {
     "data": {
      "image/png": "[encoded data removed]",
      "text/plain": [
       "<Figure size 288x288 with 1 Axes>"
      ]
     },
     "metadata": {
      "needs_background": "light"
     },
     "output_type": "display_data"
    }
   ],
   "source": [
    "Education=pd.crosstab(df['Education'],df['Loan_Status'])\n",
    "print(Education)\n",
    "Education.div(Education.sum(1).astype(float), axis = 0).plot(kind='bar',stacked=True,figsize=(4,4))\n",
    "plt.xlabel('Education')\n",
    "plt.ylabel('Percentage')\n",
    "plt.show()"
   ]
  },
  {
   "cell_type": "code",
   "execution_count": 26,
   "id": "a2384f19",
   "metadata": {},
   "outputs": [
    {
     "name": "stdout",
     "output_type": "stream",
     "text": [
      "Loan_Status       N    Y\n",
      "Credit_History          \n",
      "0.0              82    7\n",
      "1.0             110  415\n"
     ]
    },
    {
     "data": {
      "image/png": "[encoded data removed]",
      "text/plain": [
       "<Figure size 288x288 with 1 Axes>"
      ]
     },
     "metadata": {
      "needs_background": "light"
     },
     "output_type": "display_data"
    }
   ],
   "source": [
    "Credit=pd.crosstab(df['Credit_History'],df['Loan_Status'])\n",
    "print(Credit)\n",
    "Credit.div(Credit.sum(1).astype(float), axis = 0).plot(kind='bar',stacked=True,figsize=(4,4))\n",
    "plt.xlabel('Credit History')\n",
    "plt.ylabel('Percentage')\n",
    "plt.show()"
   ]
  },
  {
   "cell_type": "code",
   "execution_count": 27,
   "id": "9597d805",
   "metadata": {},
   "outputs": [
    {
     "name": "stdout",
     "output_type": "stream",
     "text": [
      "Loan_Status     N    Y\n",
      "Property_Area         \n",
      "Rural          69  110\n",
      "Semiurban      54  179\n",
      "Urban          69  133\n"
     ]
    },
    {
     "data": {
      "image/png": "[encoded data removed]",
      "text/plain": [
       "<Figure size 288x288 with 1 Axes>"
      ]
     },
     "metadata": {
      "needs_background": "light"
     },
     "output_type": "display_data"
    }
   ],
   "source": [
    "area=pd.crosstab(df['Property_Area'],df['Loan_Status'])\n",
    "print(area)\n",
    "area.div(area.sum(1).astype(float), axis = 0).plot(kind='bar',stacked=True,figsize=(4,4))\n",
    "plt.xlabel('Property Area')\n",
    "plt.ylabel('Percentage')\n",
    "plt.show()"
   ]
  },
  {
   "cell_type": "markdown",
   "id": "24c086d8",
   "metadata": {},
   "source": [
    "From above charts it can be inferred that:\n",
    "+ proportion of male and female applicants is more or less same for both approved and unapproved loans\n",
    "+ proportion of married applicants is higher for the approved loans\n",
    "+ distribution of applicants with 1 or 3+ dependents is similar across both the categories of Loan_Status\n",
    "+ there is nothing significant we can infer from Self_Employed vs Loan_Status plot.\n",
    "+ proportion of loans getting approved for graduates is higher compared to non-graduates\n",
    "+ it seems people with credit history as 1 are more likely to get their loans approved\n",
    "+ proportion of loans getting approved in semiurban area is higher as compared to that in rural or urban areas."
   ]
  },
  {
   "cell_type": "markdown",
   "id": "13be4a2b",
   "metadata": {},
   "source": [
    "<b>Numerical Independent Features vs Target Variable"
   ]
  },
  {
   "cell_type": "code",
   "execution_count": 28,
   "id": "fce6e8f8",
   "metadata": {},
   "outputs": [
    {
     "name": "stdout",
     "output_type": "stream",
     "text": [
      "Loan_Status\n",
      "N    5446.078125\n",
      "Y    5384.068720\n",
      "Name: ApplicantIncome, dtype: float64\n"
     ]
    },
    {
     "data": {
      "text/plain": [
       "<AxesSubplot:xlabel='Loan_Status'>"
      ]
     },
     "execution_count": 28,
     "metadata": {},
     "output_type": "execute_result"
    },
    {
     "data": {
      "image/png": "[encoded data removed]",
      "text/plain": [
       "<Figure size 432x288 with 1 Axes>"
      ]
     },
     "metadata": {
      "needs_background": "light"
     },
     "output_type": "display_data"
    }
   ],
   "source": [
    "print(df.groupby('Loan_Status')['ApplicantIncome'].mean())\n",
    "df.groupby('Loan_Status')['ApplicantIncome'].mean().plot.bar()"
   ]
  },
  {
   "cell_type": "markdown",
   "id": "f25e84f7",
   "metadata": {},
   "source": [
    "We will change the 3+ in dependents variable to 3 to make it a numerical variable. We will also convert the target variable’s categories into 0 and 1 so that we can find its correlation with numerical variables. One more reason to do so is few models like logistic regression takes only numeric values as input. We will replace N with 0 and Y with 1."
   ]
  },
  {
   "cell_type": "code",
   "execution_count": 29,
   "id": "509ad3e2",
   "metadata": {},
   "outputs": [],
   "source": [
    "df['Loan_Status'].replace('N', 0, inplace=True)\n",
    "df['Loan_Status'].replace('Y', 1, inplace=True)"
   ]
  },
  {
   "cell_type": "code",
   "execution_count": 30,
   "id": "7b702809",
   "metadata": {},
   "outputs": [
    {
     "data": {
      "text/html": [
       "<div>\n",
       "<style scoped>\n",
       "    .dataframe tbody tr th:only-of-type {\n",
       "        vertical-align: middle;\n",
       "    }\n",
       "\n",
       "    .dataframe tbody tr th {\n",
       "        vertical-align: top;\n",
       "    }\n",
       "\n",
       "    .dataframe thead th {\n",
       "        text-align: right;\n",
       "    }\n",
       "</style>\n",
       "<table border=\"1\" class=\"dataframe\">\n",
       "  <thead>\n",
       "    <tr style=\"text-align: right;\">\n",
       "      <th></th>\n",
       "      <th>Loan_ID</th>\n",
       "      <th>Gender</th>\n",
       "      <th>Married</th>\n",
       "      <th>Dependents</th>\n",
       "      <th>Education</th>\n",
       "      <th>Self_Employed</th>\n",
       "      <th>ApplicantIncome</th>\n",
       "      <th>CoapplicantIncome</th>\n",
       "      <th>LoanAmount</th>\n",
       "      <th>Loan_Amount_Term</th>\n",
       "      <th>Credit_History</th>\n",
       "      <th>Property_Area</th>\n",
       "      <th>Loan_Status</th>\n",
       "    </tr>\n",
       "  </thead>\n",
       "  <tbody>\n",
       "    <tr>\n",
       "      <th>0</th>\n",
       "      <td>LP001002</td>\n",
       "      <td>Male</td>\n",
       "      <td>No</td>\n",
       "      <td>0</td>\n",
       "      <td>Graduate</td>\n",
       "      <td>No</td>\n",
       "      <td>5849</td>\n",
       "      <td>0.0</td>\n",
       "      <td>128.0</td>\n",
       "      <td>360.0</td>\n",
       "      <td>1.0</td>\n",
       "      <td>Urban</td>\n",
       "      <td>1</td>\n",
       "    </tr>\n",
       "    <tr>\n",
       "      <th>1</th>\n",
       "      <td>LP001003</td>\n",
       "      <td>Male</td>\n",
       "      <td>Yes</td>\n",
       "      <td>1</td>\n",
       "      <td>Graduate</td>\n",
       "      <td>No</td>\n",
       "      <td>4583</td>\n",
       "      <td>1508.0</td>\n",
       "      <td>128.0</td>\n",
       "      <td>360.0</td>\n",
       "      <td>1.0</td>\n",
       "      <td>Rural</td>\n",
       "      <td>0</td>\n",
       "    </tr>\n",
       "    <tr>\n",
       "      <th>2</th>\n",
       "      <td>LP001005</td>\n",
       "      <td>Male</td>\n",
       "      <td>Yes</td>\n",
       "      <td>0</td>\n",
       "      <td>Graduate</td>\n",
       "      <td>Yes</td>\n",
       "      <td>3000</td>\n",
       "      <td>0.0</td>\n",
       "      <td>66.0</td>\n",
       "      <td>360.0</td>\n",
       "      <td>1.0</td>\n",
       "      <td>Urban</td>\n",
       "      <td>1</td>\n",
       "    </tr>\n",
       "    <tr>\n",
       "      <th>3</th>\n",
       "      <td>LP001006</td>\n",
       "      <td>Male</td>\n",
       "      <td>Yes</td>\n",
       "      <td>0</td>\n",
       "      <td>Not Graduate</td>\n",
       "      <td>No</td>\n",
       "      <td>2583</td>\n",
       "      <td>2358.0</td>\n",
       "      <td>120.0</td>\n",
       "      <td>360.0</td>\n",
       "      <td>1.0</td>\n",
       "      <td>Urban</td>\n",
       "      <td>1</td>\n",
       "    </tr>\n",
       "    <tr>\n",
       "      <th>4</th>\n",
       "      <td>LP001008</td>\n",
       "      <td>Male</td>\n",
       "      <td>No</td>\n",
       "      <td>0</td>\n",
       "      <td>Graduate</td>\n",
       "      <td>No</td>\n",
       "      <td>6000</td>\n",
       "      <td>0.0</td>\n",
       "      <td>141.0</td>\n",
       "      <td>360.0</td>\n",
       "      <td>1.0</td>\n",
       "      <td>Urban</td>\n",
       "      <td>1</td>\n",
       "    </tr>\n",
       "  </tbody>\n",
       "</table>\n",
       "</div>"
      ],
      "text/plain": [
       "    Loan_ID Gender Married Dependents     Education Self_Employed  \\\n",
       "0  LP001002   Male      No          0      Graduate            No   \n",
       "1  LP001003   Male     Yes          1      Graduate            No   \n",
       "2  LP001005   Male     Yes          0      Graduate           Yes   \n",
       "3  LP001006   Male     Yes          0  Not Graduate            No   \n",
       "4  LP001008   Male      No          0      Graduate            No   \n",
       "\n",
       "   ApplicantIncome  CoapplicantIncome  LoanAmount  Loan_Amount_Term  \\\n",
       "0             5849                0.0       128.0             360.0   \n",
       "1             4583             1508.0       128.0             360.0   \n",
       "2             3000                0.0        66.0             360.0   \n",
       "3             2583             2358.0       120.0             360.0   \n",
       "4             6000                0.0       141.0             360.0   \n",
       "\n",
       "   Credit_History Property_Area  Loan_Status  \n",
       "0             1.0         Urban            1  \n",
       "1             1.0         Rural            0  \n",
       "2             1.0         Urban            1  \n",
       "3             1.0         Urban            1  \n",
       "4             1.0         Urban            1  "
      ]
     },
     "execution_count": 30,
     "metadata": {},
     "output_type": "execute_result"
    }
   ],
   "source": [
    "df.head()"
   ]
  },
  {
   "cell_type": "markdown",
   "id": "62e5e35b",
   "metadata": {},
   "source": [
    "<b> Correlation Plot"
   ]
  },
  {
   "cell_type": "code",
   "execution_count": 31,
   "id": "27e86010",
   "metadata": {},
   "outputs": [
    {
     "data": {
      "text/html": [
       "<div>\n",
       "<style scoped>\n",
       "    .dataframe tbody tr th:only-of-type {\n",
       "        vertical-align: middle;\n",
       "    }\n",
       "\n",
       "    .dataframe tbody tr th {\n",
       "        vertical-align: top;\n",
       "    }\n",
       "\n",
       "    .dataframe thead th {\n",
       "        text-align: right;\n",
       "    }\n",
       "</style>\n",
       "<table border=\"1\" class=\"dataframe\">\n",
       "  <thead>\n",
       "    <tr style=\"text-align: right;\">\n",
       "      <th></th>\n",
       "      <th>ApplicantIncome</th>\n",
       "      <th>CoapplicantIncome</th>\n",
       "      <th>LoanAmount</th>\n",
       "      <th>Loan_Amount_Term</th>\n",
       "      <th>Credit_History</th>\n",
       "      <th>Loan_Status</th>\n",
       "    </tr>\n",
       "  </thead>\n",
       "  <tbody>\n",
       "    <tr>\n",
       "      <th>ApplicantIncome</th>\n",
       "      <td>1.000000</td>\n",
       "      <td>-0.116605</td>\n",
       "      <td>0.565181</td>\n",
       "      <td>-0.046531</td>\n",
       "      <td>-0.018615</td>\n",
       "      <td>-0.004710</td>\n",
       "    </tr>\n",
       "    <tr>\n",
       "      <th>CoapplicantIncome</th>\n",
       "      <td>-0.116605</td>\n",
       "      <td>1.000000</td>\n",
       "      <td>0.189218</td>\n",
       "      <td>-0.059383</td>\n",
       "      <td>0.011134</td>\n",
       "      <td>-0.059187</td>\n",
       "    </tr>\n",
       "    <tr>\n",
       "      <th>LoanAmount</th>\n",
       "      <td>0.565181</td>\n",
       "      <td>0.189218</td>\n",
       "      <td>1.000000</td>\n",
       "      <td>0.036960</td>\n",
       "      <td>-0.000607</td>\n",
       "      <td>-0.033214</td>\n",
       "    </tr>\n",
       "    <tr>\n",
       "      <th>Loan_Amount_Term</th>\n",
       "      <td>-0.046531</td>\n",
       "      <td>-0.059383</td>\n",
       "      <td>0.036960</td>\n",
       "      <td>1.000000</td>\n",
       "      <td>-0.004705</td>\n",
       "      <td>-0.022549</td>\n",
       "    </tr>\n",
       "    <tr>\n",
       "      <th>Credit_History</th>\n",
       "      <td>-0.018615</td>\n",
       "      <td>0.011134</td>\n",
       "      <td>-0.000607</td>\n",
       "      <td>-0.004705</td>\n",
       "      <td>1.000000</td>\n",
       "      <td>0.540556</td>\n",
       "    </tr>\n",
       "    <tr>\n",
       "      <th>Loan_Status</th>\n",
       "      <td>-0.004710</td>\n",
       "      <td>-0.059187</td>\n",
       "      <td>-0.033214</td>\n",
       "      <td>-0.022549</td>\n",
       "      <td>0.540556</td>\n",
       "      <td>1.000000</td>\n",
       "    </tr>\n",
       "  </tbody>\n",
       "</table>\n",
       "</div>"
      ],
      "text/plain": [
       "                   ApplicantIncome  CoapplicantIncome  LoanAmount  \\\n",
       "ApplicantIncome           1.000000          -0.116605    0.565181   \n",
       "CoapplicantIncome        -0.116605           1.000000    0.189218   \n",
       "LoanAmount                0.565181           0.189218    1.000000   \n",
       "Loan_Amount_Term         -0.046531          -0.059383    0.036960   \n",
       "Credit_History           -0.018615           0.011134   -0.000607   \n",
       "Loan_Status              -0.004710          -0.059187   -0.033214   \n",
       "\n",
       "                   Loan_Amount_Term  Credit_History  Loan_Status  \n",
       "ApplicantIncome           -0.046531       -0.018615    -0.004710  \n",
       "CoapplicantIncome         -0.059383        0.011134    -0.059187  \n",
       "LoanAmount                 0.036960       -0.000607    -0.033214  \n",
       "Loan_Amount_Term           1.000000       -0.004705    -0.022549  \n",
       "Credit_History            -0.004705        1.000000     0.540556  \n",
       "Loan_Status               -0.022549        0.540556     1.000000  "
      ]
     },
     "execution_count": 31,
     "metadata": {},
     "output_type": "execute_result"
    },
    {
     "data": {
      "image/png": "[encoded data removed]",
      "text/plain": [
       "<Figure size 648x432 with 2 Axes>"
      ]
     },
     "metadata": {
      "needs_background": "light"
     },
     "output_type": "display_data"
    }
   ],
   "source": [
    "corr=df.corr()\n",
    "f,ax=plt.subplots(figsize=(9,6))\n",
    "sns.heatmap(corr,vmax=1,square=True,cmap='PRGn',linewidths=.1,annot=True)\n",
    "corr"
   ]
  },
  {
   "cell_type": "markdown",
   "id": "699d75c1",
   "metadata": {},
   "source": [
    "We see that most correlated variables are:\n",
    "+ (ApplicantIncome - LoanAmount) with correlation coefficient of 0.57\n",
    "+ (Credit_History - Loan_Status) with correlation coefficient of 0.56\n",
    "+ LoanAmount is also correlated with CoapplicantIncome with correlation coefficient of 0.19.\n"
   ]
  },
  {
   "cell_type": "markdown",
   "id": "f19decf0",
   "metadata": {},
   "source": [
    "# Data Preprocessing"
   ]
  },
  {
   "cell_type": "markdown",
   "id": "d59b1f0d",
   "metadata": {},
   "source": [
    "<b>Encoding categorical variables"
   ]
  },
  {
   "cell_type": "code",
   "execution_count": 32,
   "id": "8c37d9b7",
   "metadata": {},
   "outputs": [],
   "source": [
    "from sklearn.preprocessing import LabelEncoder\n",
    "\n",
    "features=['Gender','Married','Self_Employed','Education','Credit_History','Dependents','Property_Area']\n",
    "le=LabelEncoder()\n",
    "df[features]=df[features].apply(le.fit_transform)"
   ]
  },
  {
   "cell_type": "code",
   "execution_count": 33,
   "id": "8fc9b10c",
   "metadata": {},
   "outputs": [],
   "source": [
    "#dropping Loan Id\n",
    "df.drop('Loan_ID',inplace=True,axis=1)"
   ]
  },
  {
   "cell_type": "markdown",
   "id": "810210eb",
   "metadata": {},
   "source": [
    "<b>Outliers treatment"
   ]
  },
  {
   "cell_type": "code",
   "execution_count": 34,
   "id": "ff513e94",
   "metadata": {},
   "outputs": [
    {
     "data": {
      "text/plain": [
       "(array([  9,  14,  68,  94, 126, 130, 133, 155, 155, 171, 171, 177, 177,\n",
       "        183, 185, 242, 262, 278, 308, 313, 333, 333, 369, 402, 409, 417,\n",
       "        432, 443, 487, 495, 497, 506, 523, 525, 546, 561, 575, 581, 585,\n",
       "        600, 604], dtype=int64),\n",
       " array([6, 8, 8, 8, 5, 7, 8, 5, 7, 5, 7, 6, 7, 5, 5, 8, 8, 7, 7, 8, 5, 7,\n",
       "        7, 6, 5, 6, 7, 5, 7, 8, 8, 7, 7, 7, 8, 7, 8, 6, 8, 6, 7],\n",
       "       dtype=int64))"
      ]
     },
     "execution_count": 34,
     "metadata": {},
     "output_type": "execute_result"
    }
   ],
   "source": [
    "from scipy.stats import zscore\n",
    "z=np.abs(zscore(df))\n",
    "\n",
    "np.where(z>3)"
   ]
  },
  {
   "cell_type": "code",
   "execution_count": 35,
   "id": "8a0b08dd",
   "metadata": {},
   "outputs": [
    {
     "data": {
      "text/plain": [
       "(577, 12)"
      ]
     },
     "execution_count": 35,
     "metadata": {},
     "output_type": "execute_result"
    }
   ],
   "source": [
    "df_new=df[(z<3).all(axis=1)]\n",
    "df_new.shape"
   ]
  },
  {
   "cell_type": "code",
   "execution_count": 36,
   "id": "e7d1a158",
   "metadata": {},
   "outputs": [
    {
     "data": {
      "text/plain": [
       "6.026058631921824"
      ]
     },
     "execution_count": 36,
     "metadata": {},
     "output_type": "execute_result"
    }
   ],
   "source": [
    "#data loss\n",
    "dataloss=((614-577)/614)*100\n",
    "dataloss"
   ]
  },
  {
   "cell_type": "markdown",
   "id": "0fbe526e",
   "metadata": {},
   "source": [
    "After removing outliers data loss is 6% that is okay so we will proceed with reduced data."
   ]
  },
  {
   "cell_type": "markdown",
   "id": "a37e5651",
   "metadata": {},
   "source": [
    "Removing skewness from Loan Amount using log transformation"
   ]
  },
  {
   "cell_type": "code",
   "execution_count": 37,
   "id": "546e9333",
   "metadata": {},
   "outputs": [
    {
     "data": {
      "text/plain": [
       "<AxesSubplot:>"
      ]
     },
     "execution_count": 37,
     "metadata": {},
     "output_type": "execute_result"
    },
    {
     "data": {
      "image/png": "[encoded data removed]",
      "text/plain": [
       "<Figure size 432x288 with 1 Axes>"
      ]
     },
     "metadata": {
      "needs_background": "light"
     },
     "output_type": "display_data"
    }
   ],
   "source": [
    "df_new['LoanAmount_log'] = np.log(df_new['LoanAmount'])\n",
    "df_new['LoanAmount_log'].hist(bins=20)"
   ]
  },
  {
   "cell_type": "markdown",
   "id": "25e2d92e",
   "metadata": {},
   "source": [
    "# Feature Engineering"
   ]
  },
  {
   "cell_type": "markdown",
   "id": "ccaab0e6",
   "metadata": {},
   "source": [
    "Adding new features to data set to increase the possibility of approval of loan.\n",
    "We are going to add fetures like total income,EMI and Balance income."
   ]
  },
  {
   "cell_type": "code",
   "execution_count": 38,
   "id": "83830399",
   "metadata": {},
   "outputs": [
    {
     "data": {
      "text/plain": [
       "<AxesSubplot:xlabel='Total_Income', ylabel='Density'>"
      ]
     },
     "execution_count": 38,
     "metadata": {},
     "output_type": "execute_result"
    },
    {
     "data": {
      "image/png": "[encoded data removed]",
      "text/plain": [
       "<Figure size 432x288 with 1 Axes>"
      ]
     },
     "metadata": {
      "needs_background": "light"
     },
     "output_type": "display_data"
    }
   ],
   "source": [
    "#total income feature\n",
    "df_new['Total_Income']=df_new['ApplicantIncome']+df_new['CoapplicantIncome']\n",
    "sns.distplot(df_new['Total_Income'])"
   ]
  },
  {
   "cell_type": "code",
   "execution_count": 39,
   "id": "8df56c89",
   "metadata": {},
   "outputs": [
    {
     "data": {
      "image/png": "[encoded data removed]",
      "text/plain": [
       "<Figure size 432x288 with 1 Axes>"
      ]
     },
     "metadata": {
      "needs_background": "light"
     },
     "output_type": "display_data"
    }
   ],
   "source": [
    "df_new['Total_Income_log'] = np.log(df_new['Total_Income'])\n",
    "sns.distplot(df_new['Total_Income_log']);"
   ]
  },
  {
   "cell_type": "code",
   "execution_count": 40,
   "id": "590fc5c7",
   "metadata": {},
   "outputs": [
    {
     "data": {
      "image/png": "[encoded data removed]",
      "text/plain": [
       "<Figure size 432x288 with 1 Axes>"
      ]
     },
     "metadata": {
      "needs_background": "light"
     },
     "output_type": "display_data"
    }
   ],
   "source": [
    "#EMI feature\n",
    "df_new['EMI']=(df_new['LoanAmount']/df_new['Loan_Amount_Term'])*1000\n",
    "sns.distplot(df_new['EMI']);"
   ]
  },
  {
   "cell_type": "code",
   "execution_count": 41,
   "id": "c57585cc",
   "metadata": {},
   "outputs": [],
   "source": [
    "#balance income\n",
    "df_new['Balance_Income']=df_new['Total_Income']-df_new['EMI']"
   ]
  },
  {
   "cell_type": "code",
   "execution_count": 42,
   "id": "aecfb217",
   "metadata": {},
   "outputs": [
    {
     "data": {
      "image/png": "[encoded data removed]",
      "text/plain": [
       "<Figure size 432x288 with 1 Axes>"
      ]
     },
     "metadata": {
      "needs_background": "light"
     },
     "output_type": "display_data"
    }
   ],
   "source": [
    "sns.distplot(df_new['Balance_Income']);"
   ]
  },
  {
   "cell_type": "code",
   "execution_count": 43,
   "id": "0b0f7f25",
   "metadata": {
    "scrolled": true
   },
   "outputs": [
    {
     "data": {
      "text/plain": [
       "array([[ 0.47713685, -1.36251079, -0.72331271, ...,  0.14503924,\n",
       "        -0.24146086, -0.06513656],\n",
       "       [ 0.47713685,  0.73393914,  0.2823534 , ...,  0.23569021,\n",
       "        -0.24146086,  0.01677308],\n",
       "       [ 0.47713685,  0.73393914, -0.72331271, ..., -1.34784558,\n",
       "        -1.1577527 , -0.97114436],\n",
       "       ...,\n",
       "       [ 0.47713685,  0.73393914,  0.2823534 , ...,  0.93083602,\n",
       "         1.60590174,  0.65098982],\n",
       "       [ 0.47713685,  0.73393914,  1.28801951, ...,  0.72559047,\n",
       "         0.63049429,  0.46629826],\n",
       "       [-2.09583477, -1.36251079, -0.72331271, ..., -0.40035917,\n",
       "        -0.16756635, -0.49833999]])"
      ]
     },
     "execution_count": 43,
     "metadata": {},
     "output_type": "execute_result"
    }
   ],
   "source": [
    "#scaling the data\n",
    "from sklearn.preprocessing import StandardScaler\n",
    "scaler=StandardScaler()\n",
    "scaler.fit_transform(df_new)"
   ]
  },
  {
   "cell_type": "markdown",
   "id": "1dd92668",
   "metadata": {},
   "source": [
    "# Model Building"
   ]
  },
  {
   "cell_type": "code",
   "execution_count": 44,
   "id": "c8a92d84",
   "metadata": {},
   "outputs": [],
   "source": [
    "x=df_new.drop('Loan_Status',axis=1)\n",
    "y=df_new['Loan_Status']"
   ]
  },
  {
   "cell_type": "code",
   "execution_count": 45,
   "id": "1b4eecf0",
   "metadata": {},
   "outputs": [
    {
     "name": "stdout",
     "output_type": "stream",
     "text": [
      "(577, 16) (577,)\n"
     ]
    }
   ],
   "source": [
    "print(x.shape,y.shape)"
   ]
  },
  {
   "cell_type": "code",
   "execution_count": 46,
   "id": "ce82d7d3",
   "metadata": {},
   "outputs": [],
   "source": [
    "from sklearn.model_selection import train_test_split\n",
    "from sklearn.linear_model import LogisticRegression\n",
    "from sklearn.tree import DecisionTreeClassifier\n",
    "from sklearn.ensemble import RandomForestClassifier\n",
    "from sklearn.neighbors import KNeighborsClassifier\n",
    "from sklearn.svm import SVC\n",
    "from sklearn.metrics import accuracy_score,classification_report,confusion_matrix\n",
    "from sklearn.model_selection import cross_val_score"
   ]
  },
  {
   "cell_type": "markdown",
   "id": "0e2db4b2",
   "metadata": {},
   "source": [
    "<B>Finding best random state\n"
   ]
  },
  {
   "cell_type": "code",
   "execution_count": 47,
   "id": "2027ec99",
   "metadata": {},
   "outputs": [
    {
     "name": "stdout",
     "output_type": "stream",
     "text": [
      "Best acccuracy is 0.8908045977011494 with random state 39\n"
     ]
    }
   ],
   "source": [
    "lr=LogisticRegression()\n",
    "maxAccu=0\n",
    "maxRS=0\n",
    "for i in range(0,200):\n",
    "    x_train,x_test,y_train,y_test=train_test_split(x,y,test_size=0.30,random_state=i)\n",
    "    lr.fit(x_train,y_train)\n",
    "    pred=lr.predict(x_test)\n",
    "    acc=accuracy_score(y_test,pred)\n",
    "    if acc>maxAccu:\n",
    "        maxAccu=acc\n",
    "        maxRS=i\n",
    "print('Best acccuracy is',maxAccu,'with random state',maxRS)"
   ]
  },
  {
   "cell_type": "code",
   "execution_count": 48,
   "id": "e488ece1",
   "metadata": {},
   "outputs": [
    {
     "name": "stdout",
     "output_type": "stream",
     "text": [
      "(403, 16)\n",
      "(174, 16)\n",
      "(403,)\n",
      "(174,)\n"
     ]
    }
   ],
   "source": [
    "#Splitting data in train and test\n",
    "x_train,x_test,y_train,y_test=train_test_split(x,y,test_size=0.30,random_state=39)\n",
    "\n",
    "print(x_train.shape)\n",
    "print(x_test.shape)\n",
    "print(y_train.shape)\n",
    "print(y_test.shape)"
   ]
  },
  {
   "cell_type": "markdown",
   "id": "9f5b728d",
   "metadata": {},
   "source": [
    "<h3>Logistic Regression"
   ]
  },
  {
   "cell_type": "code",
   "execution_count": 49,
   "id": "2108a991",
   "metadata": {},
   "outputs": [
    {
     "name": "stdout",
     "output_type": "stream",
     "text": [
      "Training accuracy: 0.7890818858560794\n",
      "Accuracy score: 0.8908045977011494\n",
      "              precision    recall  f1-score   support\n",
      "\n",
      "           0       1.00      0.62      0.77        50\n",
      "           1       0.87      1.00      0.93       124\n",
      "\n",
      "    accuracy                           0.89       174\n",
      "   macro avg       0.93      0.81      0.85       174\n",
      "weighted avg       0.91      0.89      0.88       174\n",
      "\n"
     ]
    },
    {
     "data": {
      "image/png": "[encoded data removed]",
      "text/plain": [
       "<Figure size 432x288 with 2 Axes>"
      ]
     },
     "metadata": {
      "needs_background": "light"
     },
     "output_type": "display_data"
    }
   ],
   "source": [
    "lr=LogisticRegression()\n",
    "lr.fit(x_train,y_train)\n",
    "pred_lr=lr.predict(x_test)\n",
    "\n",
    "print('Training accuracy:',lr.score(x_train,y_train))\n",
    "print('Accuracy score:',accuracy_score(y_test,pred_lr))\n",
    "\n",
    "# classification report\n",
    "print(classification_report(y_test,pred_lr))\n",
    "\n",
    "cm=confusion_matrix(y_test,pred_lr)\n",
    "sns.heatmap(cm,annot=True,cmap='Purples',linewidths=0.1);"
   ]
  },
  {
   "cell_type": "markdown",
   "id": "9ea0c5a4",
   "metadata": {},
   "source": [
    "<h3>Decision Tree"
   ]
  },
  {
   "cell_type": "code",
   "execution_count": 50,
   "id": "e92a3849",
   "metadata": {},
   "outputs": [
    {
     "name": "stdout",
     "output_type": "stream",
     "text": [
      "Training accuracy: 1.0\n",
      "Accuracy score: 0.7528735632183908\n",
      "              precision    recall  f1-score   support\n",
      "\n",
      "           0       0.56      0.66      0.61        50\n",
      "           1       0.85      0.79      0.82       124\n",
      "\n",
      "    accuracy                           0.75       174\n",
      "   macro avg       0.71      0.73      0.71       174\n",
      "weighted avg       0.77      0.75      0.76       174\n",
      "\n"
     ]
    },
    {
     "data": {
      "image/png": "[encoded data removed]",
      "text/plain": [
       "<Figure size 432x288 with 2 Axes>"
      ]
     },
     "metadata": {
      "needs_background": "light"
     },
     "output_type": "display_data"
    }
   ],
   "source": [
    "dt=DecisionTreeClassifier()\n",
    "dt.fit(x_train,y_train)\n",
    "pred_dt=dt.predict(x_test)\n",
    "\n",
    "print('Training accuracy:',dt.score(x_train,y_train))\n",
    "print('Accuracy score:',accuracy_score(y_test,pred_dt))\n",
    "\n",
    "# classification report\n",
    "print(classification_report(y_test,pred_dt))\n",
    "\n",
    "cm=confusion_matrix(y_test,pred_dt)\n",
    "sns.heatmap(cm,annot=True,cmap='Purples',linewidths=0.1);"
   ]
  },
  {
   "cell_type": "markdown",
   "id": "2918cf16",
   "metadata": {},
   "source": [
    "<h3>Random Forest "
   ]
  },
  {
   "cell_type": "code",
   "execution_count": 51,
   "id": "7e4c6fba",
   "metadata": {},
   "outputs": [
    {
     "name": "stdout",
     "output_type": "stream",
     "text": [
      "Training accuracy: 1.0\n",
      "Accuracy score: 0.8333333333333334\n",
      "              precision    recall  f1-score   support\n",
      "\n",
      "           0       0.76      0.62      0.68        50\n",
      "           1       0.86      0.92      0.89       124\n",
      "\n",
      "    accuracy                           0.83       174\n",
      "   macro avg       0.81      0.77      0.78       174\n",
      "weighted avg       0.83      0.83      0.83       174\n",
      "\n"
     ]
    },
    {
     "data": {
      "image/png": "[encoded data removed]",
      "text/plain": [
       "<Figure size 432x288 with 2 Axes>"
      ]
     },
     "metadata": {
      "needs_background": "light"
     },
     "output_type": "display_data"
    }
   ],
   "source": [
    "rf=RandomForestClassifier()\n",
    "rf.fit(x_train,y_train)\n",
    "pred_rf=rf.predict(x_test)\n",
    "\n",
    "print('Training accuracy:',rf.score(x_train,y_train))\n",
    "print('Accuracy score:',accuracy_score(y_test,pred_rf))\n",
    "\n",
    "# classification report\n",
    "print(classification_report(y_test,pred_rf))\n",
    "\n",
    "cm=confusion_matrix(y_test,pred_rf)\n",
    "sns.heatmap(cm,annot=True,cmap='Purples',linewidths=0.1);"
   ]
  },
  {
   "cell_type": "markdown",
   "id": "7743dd9b",
   "metadata": {},
   "source": [
    "<h3>KNeighbors classifier"
   ]
  },
  {
   "cell_type": "code",
   "execution_count": 52,
   "id": "893feb02",
   "metadata": {},
   "outputs": [
    {
     "name": "stdout",
     "output_type": "stream",
     "text": [
      "Training accuracy: 0.739454094292804\n",
      "Accuracy score: 0.5977011494252874\n",
      "              precision    recall  f1-score   support\n",
      "\n",
      "           0       0.17      0.10      0.12        50\n",
      "           1       0.69      0.80      0.74       124\n",
      "\n",
      "    accuracy                           0.60       174\n",
      "   macro avg       0.43      0.45      0.43       174\n",
      "weighted avg       0.54      0.60      0.56       174\n",
      "\n"
     ]
    },
    {
     "data": {
      "image/png": "[encoded data removed]",
      "text/plain": [
       "<Figure size 432x288 with 2 Axes>"
      ]
     },
     "metadata": {
      "needs_background": "light"
     },
     "output_type": "display_data"
    }
   ],
   "source": [
    "knn=KNeighborsClassifier()\n",
    "knn.fit(x_train,y_train)\n",
    "pred_knn=knn.predict(x_test)\n",
    "\n",
    "print('Training accuracy:',knn.score(x_train,y_train))\n",
    "print('Accuracy score:',accuracy_score(y_test,pred_knn))\n",
    "\n",
    "# classification report\n",
    "print(classification_report(y_test,pred_knn))\n",
    "\n",
    "cm=confusion_matrix(y_test,pred_knn)\n",
    "sns.heatmap(cm,annot=True,cmap='Purples',linewidths=0.1);"
   ]
  },
  {
   "cell_type": "markdown",
   "id": "69e9b7c5",
   "metadata": {},
   "source": [
    "<h3>Support Vector Machine"
   ]
  },
  {
   "cell_type": "code",
   "execution_count": 53,
   "id": "7d15147e",
   "metadata": {},
   "outputs": [
    {
     "name": "stdout",
     "output_type": "stream",
     "text": [
      "Training accuracy: 0.6799007444168734\n",
      "Accuracy score: 0.7126436781609196\n",
      "              precision    recall  f1-score   support\n",
      "\n",
      "           0       0.00      0.00      0.00        50\n",
      "           1       0.71      1.00      0.83       124\n",
      "\n",
      "    accuracy                           0.71       174\n",
      "   macro avg       0.36      0.50      0.42       174\n",
      "weighted avg       0.51      0.71      0.59       174\n",
      "\n"
     ]
    },
    {
     "data": {
      "image/png": "[encoded data removed]",
      "text/plain": [
       "<Figure size 432x288 with 2 Axes>"
      ]
     },
     "metadata": {
      "needs_background": "light"
     },
     "output_type": "display_data"
    }
   ],
   "source": [
    "svc=SVC()\n",
    "svc.fit(x_train,y_train)\n",
    "pred_svc=svc.predict(x_test)\n",
    "\n",
    "print('Training accuracy:',svc.score(x_train,y_train))\n",
    "print('Accuracy score:',accuracy_score(y_test,pred_svc))\n",
    "\n",
    "# classification report\n",
    "print(classification_report(y_test,pred_svc))\n",
    "\n",
    "cm=confusion_matrix(y_test,pred_svc)\n",
    "sns.heatmap(cm,annot=True,cmap='Purples',linewidths=0.1);"
   ]
  },
  {
   "cell_type": "markdown",
   "id": "19fe8730",
   "metadata": {},
   "source": [
    "<h3>Cross Validation Score"
   ]
  },
  {
   "cell_type": "code",
   "execution_count": 54,
   "id": "e8be1bef",
   "metadata": {},
   "outputs": [
    {
     "name": "stdout",
     "output_type": "stream",
     "text": [
      "0.793808095952024\n",
      "0.7503898050974513\n",
      "0.805952023988006\n",
      "0.6134932533733133\n",
      "0.6897751124437781\n"
     ]
    }
   ],
   "source": [
    "#Cross validation score of Logistic regression\n",
    "print(cross_val_score(lr,x,y,cv=5).mean())\n",
    "\n",
    "#Cross Validation Score of Decision Tree\n",
    "print(cross_val_score(dt,x,y,cv=5).mean())\n",
    "\n",
    "#Cross Validation Score of Random Forest\n",
    "print(cross_val_score(rf,x,y,cv=5).mean())\n",
    "\n",
    "#Cross Validation Score of KNN Clasifiers\n",
    "print(cross_val_score(knn,x,y,cv=5).mean())\n",
    "\n",
    "#Cross Validation Score of SVC\n",
    "print(cross_val_score(svc,x,y,cv=5).mean())"
   ]
  },
  {
   "cell_type": "markdown",
   "id": "8aa195b1",
   "metadata": {},
   "source": [
    "From accuracy score and cross validation Logistic Regression is best model."
   ]
  },
  {
   "cell_type": "markdown",
   "id": "fa9965f6",
   "metadata": {},
   "source": [
    "<H3>Hyperparameter Tuning"
   ]
  },
  {
   "cell_type": "code",
   "execution_count": 55,
   "id": "37248194",
   "metadata": {
    "code_folding": []
   },
   "outputs": [
    {
     "data": {
      "text/plain": [
       "{'max_iter': 50, 'solver': 'newton-cg'}"
      ]
     },
     "execution_count": 55,
     "metadata": {},
     "output_type": "execute_result"
    }
   ],
   "source": [
    "from sklearn.model_selection import GridSearchCV\n",
    "parameters= {'solver':['newton-cg', 'lbfgs', 'liblinear', 'sag', 'saga'],\n",
    "            'max_iter': [20, 50, 100, 200, 500, 1000]}\n",
    "gcv=GridSearchCV(LogisticRegression(),parameters,scoring='accuracy',cv=5)\n",
    "gcv.fit(x_train,y_train)\n",
    "gcv.best_params_"
   ]
  },
  {
   "cell_type": "code",
   "execution_count": 56,
   "id": "5b7c56de",
   "metadata": {},
   "outputs": [
    {
     "name": "stdout",
     "output_type": "stream",
     "text": [
      "87.93103448275862\n"
     ]
    }
   ],
   "source": [
    "final_model=LogisticRegression(max_iter=50,solver='newton-cg')\n",
    "final_model.fit(x_train,y_train)\n",
    "predict=final_model.predict(x_test)\n",
    "acc=accuracy_score(y_test,predict)\n",
    "print(acc*100)"
   ]
  },
  {
   "cell_type": "markdown",
   "id": "58b8ea03",
   "metadata": {},
   "source": [
    "<h3>ROC AUC curve for best model"
   ]
  },
  {
   "cell_type": "code",
   "execution_count": 57,
   "id": "fe63bf01",
   "metadata": {},
   "outputs": [
    {
     "data": {
      "image/png": "[encoded data removed]",
      "text/plain": [
       "<Figure size 432x288 with 1 Axes>"
      ]
     },
     "metadata": {
      "needs_background": "light"
     },
     "output_type": "display_data"
    }
   ],
   "source": [
    "from sklearn.metrics import plot_roc_curve\n",
    "plot_roc_curve(final_model,x_test,y_test)\n",
    "plt.title('ROC AUC Curve')\n",
    "plt.show()"
   ]
  },
  {
   "cell_type": "markdown",
   "id": "b73f11d1",
   "metadata": {},
   "source": [
    "<h3>Saving the model\n",
    " "
   ]
  },
  {
   "cell_type": "code",
   "execution_count": 58,
   "id": "edde3b7d",
   "metadata": {},
   "outputs": [
    {
     "data": {
      "text/plain": [
       "['Loan prediction.pkl']"
      ]
     },
     "execution_count": 58,
     "metadata": {},
     "output_type": "execute_result"
    }
   ],
   "source": [
    "import joblib\n",
    "joblib.dump(final_model,'Loan prediction.pkl')"
   ]
  },
  {
   "cell_type": "code",
   "execution_count": 59,
   "id": "9dea62f2",
   "metadata": {},
   "outputs": [
    {
     "data": {
      "text/plain": [
       "LogisticRegression(max_iter=50, solver='newton-cg')"
      ]
     },
     "execution_count": 59,
     "metadata": {},
     "output_type": "execute_result"
    }
   ],
   "source": [
    "joblib.load('Loan prediction.pkl')"
   ]
  },
  {
   "cell_type": "code",
   "execution_count": null,
   "id": "b0d61263",
   "metadata": {},
   "outputs": [],
   "source": []
  }
 ],
 "metadata": {
  "kernelspec": {
   "display_name": "Python 3 (ipykernel)",
   "language": "python",
   "name": "python3"
  },
  "language_info": {
   "codemirror_mode": {
    "name": "ipython",
    "version": 3
   },
   "file_extension": ".py",
   "mimetype": "text/x-python",
   "name": "python",
   "nbconvert_exporter": "python",
   "pygments_lexer": "ipython3",
   "version": "3.10.2"
  }
 },
 "nbformat": 4,
 "nbformat_minor": 5
}
